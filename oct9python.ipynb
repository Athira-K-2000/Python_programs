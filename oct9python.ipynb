{
  "cells": [
    {
      "cell_type": "markdown",
      "metadata": {
        "id": "view-in-github",
        "colab_type": "text"
      },
      "source": [
        "<a href=\"https://colab.research.google.com/github/Athira-K-2000/Python_programs/blob/main/oct9python.ipynb\" target=\"_parent\"><img src=\"https://colab.research.google.com/assets/colab-badge.svg\" alt=\"Open In Colab\"/></a>"
      ]
    },
    {
      "cell_type": "code",
      "execution_count": null,
      "metadata": {
        "colab": {
          "base_uri": "https://localhost:8080/"
        },
        "id": "qmooXcJxtV1g",
        "outputId": "2635da07-a348-474e-a4f1-897c648cfbe5"
      },
      "outputs": [
        {
          "output_type": "stream",
          "name": "stdout",
          "text": [
            "Enter the value a: 45\n",
            "Enter the value b: 87\n",
            "Enter the value c: 28\n",
            "The greatest number is 87\n"
          ]
        }
      ],
      "source": [
        "#Greatest of three numbers\n",
        "a=int(input(\"Enter the value a: \"))\n",
        "b=int(input(\"Enter the value b: \"))\n",
        "c=int(input(\"Enter the value c: \"))\n",
        "if (a>=b) and (a>=c):\n",
        "   largest=a\n",
        "elif (b>=a) and (b>=c):\n",
        "  largest=b\n",
        "else:\n",
        "  largest=c\n",
        "print(\"The greatest number is\", largest)"
      ]
    },
    {
      "cell_type": "code",
      "execution_count": null,
      "metadata": {
        "colab": {
          "base_uri": "https://localhost:8080/"
        },
        "id": "FzCkYJUR1xX1",
        "outputId": "27ff5bcd-010c-4cd3-efbf-9e55cb2975f7"
      },
      "outputs": [
        {
          "output_type": "stream",
          "name": "stdout",
          "text": [
            "Enter the student name : Athira\n",
            "Enter mark1: 56\n",
            "Enter mark2: 68\n",
            "Enter mark3: 98\n",
            "Enter mark4: 70\n",
            "Enter mark5: 69\n",
            "Total marks =  361.0\n",
            "Grade = B\n"
          ]
        }
      ],
      "source": [
        "#Student Grade\n",
        "Name=str(input(\"Enter the student name : \"))\n",
        "m1=float(input(\"Enter mark1: \"))\n",
        "m2=float(input(\"Enter mark2: \"))\n",
        "m3=float(input(\"Enter mark3: \"))\n",
        "m4=float(input(\"Enter mark4: \"))\n",
        "m5=float(input(\"Enter mark5: \"))\n",
        "Total=m1+m2+m3+m4+m5\n",
        "print(\"Total marks = \",Total)\n",
        "Avg=Total/5\n",
        "if Avg>=90:\n",
        "  print(\"Grade = S\")\n",
        "elif Avg>=80 and Avg<90:\n",
        "  print(\"Grade = A\")\n",
        "elif Avg>=70 and Avg<80:\n",
        "  print(\"Grade = B\")\n",
        "elif Avg>=60 and Avg<70:\n",
        "  print(\"Grade = C\")\n",
        "elif Avg>=50 and Avg<60:\n",
        "  print(\"Grade = D\")\n",
        "elif Avg>=40 and Avg<50:\n",
        "  print(\"Grade = P\")\n",
        "else:\n",
        "  print(\"Grade = F\")\n"
      ]
    },
    {
      "cell_type": "code",
      "execution_count": null,
      "metadata": {
        "colab": {
          "base_uri": "https://localhost:8080/"
        },
        "id": "l6t6i8l-_Sp2",
        "outputId": "d4950e4d-b6a6-4e57-d781-8c1b156f7443"
      },
      "outputs": [
        {
          "name": "stdout",
          "output_type": "stream",
          "text": [
            "Enter the consumer name : Athira\n",
            "Enter the unit : 65\n",
            "Electricity bill: 150.75\n"
          ]
        }
      ],
      "source": [
        "#Electricity bill\n",
        "Name=str(input(\"Enter the consumer name : \"))\n",
        "a=float(input(\"Enter the unit : \"))\n",
        "if a<=40:\n",
        "  b=a*1.50\n",
        "elif a<=50:\n",
        "  d=a-40\n",
        "  b=40*1.50+d*3.15\n",
        "elif a<=100:\n",
        "  d=a-50\n",
        "  b=40*1.50+10*3.15+d*3.95\n",
        "elif a>100:\n",
        "  d=a-100\n",
        "  b=40*1.50+10*3.15+50*3.95+d*4\n",
        "print(\"Electricity bill:\", b)"
      ]
    },
    {
      "cell_type": "code",
      "execution_count": null,
      "metadata": {
        "colab": {
          "base_uri": "https://localhost:8080/"
        },
        "id": "f9r4sNa0zjkL",
        "outputId": "6d42e257-316b-473e-dee6-2ddb82a77659"
      },
      "outputs": [
        {
          "name": "stdout",
          "output_type": "stream",
          "text": [
            "Enter the month (1-12):10\n",
            "The season is Autumn\n"
          ]
        }
      ],
      "source": [
        "#Determine the season based on Month\n",
        "month=int(input(\"Enter the month (1-12):\"))\n",
        "if 3<=month<=5:\n",
        "  season=\"Spring\"\n",
        "elif 6<=month<=8:\n",
        "  season= \"Summer\"\n",
        "elif 9<=month<=11:\n",
        "  season =\"Autumn\"\n",
        "else:\n",
        "  season =\"Winter\"\n",
        "print(\"The season is\", season)"
      ]
    },
    {
      "cell_type": "code",
      "execution_count": null,
      "metadata": {
        "colab": {
          "base_uri": "https://localhost:8080/"
        },
        "id": "8ioyrtz51Y8O",
        "outputId": "82f42180-2ff4-4278-9faa-2bc1eee2b75c"
      },
      "outputs": [
        {
          "name": "stdout",
          "output_type": "stream",
          "text": [
            "Enter the total price:400\n",
            "Discount: $ 40.0\n",
            "Final price: $ 360.0\n"
          ]
        }
      ],
      "source": [
        "#Calculate the discount on a purchase\n",
        "total_price=float(input(\"Enter the total price:\"))\n",
        "if total_price > 100:\n",
        "  discount=total_price*0.10\n",
        "else:\n",
        "  discount=0\n",
        "final_price =total_price-discount\n",
        "print(\"Discount: $\", discount)\n",
        "print(\"Final price: $\", final_price)"
      ]
    },
    {
      "cell_type": "code",
      "execution_count": null,
      "metadata": {
        "colab": {
          "base_uri": "https://localhost:8080/"
        },
        "id": "XqcIOFr2296E",
        "outputId": "bb8a2261-a9a7-4322-b1a3-691241f09c95"
      },
      "outputs": [
        {
          "name": "stdout",
          "output_type": "stream",
          "text": [
            "Enter a number: 11\n",
            "11  is a prime number\n"
          ]
        }
      ],
      "source": [
        "#Check if a number is prime\n",
        "num=int(input(\"Enter a number: \"))\n",
        "if num >1:\n",
        "  for i in range(2, num):\n",
        "    if(num%i)==0:\n",
        "      print(num,\" is not a prime number\")\n",
        "      break\n",
        "  else:\n",
        "    print(num,\" is a prime number\")\n",
        "else:\n",
        "  print(num,\" is not a prime number\")"
      ]
    },
    {
      "cell_type": "code",
      "execution_count": null,
      "metadata": {
        "colab": {
          "base_uri": "https://localhost:8080/"
        },
        "id": "4LidhOEV9F3V",
        "outputId": "e738f74a-b992-4a34-d61f-3d3d5a6c67a5"
      },
      "outputs": [
        {
          "output_type": "stream",
          "name": "stdout",
          "text": [
            "Python Programming\n",
            "thon \n",
            "hon Pr\n",
            "ogramm\n",
            "on Program\n",
            "gnimmargorP nohtyP\n",
            "Python ProgrammingWelcome\n",
            "WelcomePython Programming\n",
            "WelcomeWelcomeWelcomeWelcomeWelcomeWelcomeWelcomeWelcomeWelcomeWelcome\n"
          ]
        }
      ],
      "source": [
        "#String Slicing\n",
        "Name=\"Python Programming\"\n",
        "s=\"Welcome\"\n",
        "print(Name)\n",
        "print(Name[2:7])\n",
        "print(Name[3:9])\n",
        "print(Name[-9:-3])\n",
        "print(Name[-14:-4])\n",
        "print(Name[::-1])\n",
        "print(Name+s)\n",
        "print(s+Name)\n",
        "print(s*10)"
      ]
    },
    {
      "cell_type": "code",
      "execution_count": null,
      "metadata": {
        "colab": {
          "base_uri": "https://localhost:8080/"
        },
        "id": "14syVcBuC-U1",
        "outputId": "edc8f08e-20ae-4ee1-d130-733d46cef2cc"
      },
      "outputs": [
        {
          "output_type": "stream",
          "name": "stdout",
          "text": [
            "['Athira', 23, 'Valanchery', 1000]\n",
            "[23, 'Valanchery']\n",
            "h\n",
            "hir\n",
            "r\n"
          ]
        }
      ],
      "source": [
        "#List programs\n",
        "mylist=['Athira',23,'Valanchery',1000]\n",
        "print(mylist)\n",
        "print(mylist[1:3])\n",
        "#nestedindex\n",
        "print(mylist[0][2])\n",
        "print(mylist[0][2:5])\n",
        "print(mylist[2][8])"
      ]
    },
    {
      "cell_type": "code",
      "execution_count": null,
      "metadata": {
        "colab": {
          "base_uri": "https://localhost:8080/"
        },
        "id": "vyBrTvJiInJi",
        "outputId": "de5fd773-ce80-4445-be16-4f0272e7fb66"
      },
      "outputs": [
        {
          "name": "stdout",
          "output_type": "stream",
          "text": [
            "('Athira', 23, 'Malappuram')\n",
            "('Athira', 23)\n",
            "r\n"
          ]
        }
      ],
      "source": [
        "#Tuple program\n",
        "T=('Athira',23,'Malappuram')\n",
        "print(T)\n",
        "print(T[0:2])\n",
        "print(T[2][7])"
      ]
    },
    {
      "cell_type": "code",
      "execution_count": null,
      "metadata": {
        "colab": {
          "base_uri": "https://localhost:8080/"
        },
        "id": "j9WCRCr5KUAJ",
        "outputId": "e1c77664-2879-4ef7-d2ee-86468b2b1a66"
      },
      "outputs": [
        {
          "output_type": "stream",
          "name": "stdout",
          "text": [
            "{'Oneteam', 2, 375, 'a', 29}\n"
          ]
        }
      ],
      "source": [
        "#set program\n",
        "myset={29,2,375,\"Oneteam\",2,'a',2,'a'}\n",
        "print(myset)"
      ]
    },
    {
      "cell_type": "code",
      "execution_count": null,
      "metadata": {
        "colab": {
          "base_uri": "https://localhost:8080/"
        },
        "id": "7WyCmteTG6Xj",
        "outputId": "a1567b0e-9109-4574-96fb-cd90bf0fd993"
      },
      "outputs": [
        {
          "name": "stdout",
          "output_type": "stream",
          "text": [
            "{'Name': 'Rahul', 'Age': 20, 'Place': 'Mumbai'}\n",
            "Rahul\n",
            "20\n"
          ]
        }
      ],
      "source": [
        "#Dictionary Program\n",
        "mydict={'Name':'Rahul','Age':20,'Place':'Mumbai'}\n",
        "print(mydict)\n",
        "print(mydict['Name'])\n",
        "print(mydict['Age'])"
      ]
    },
    {
      "cell_type": "code",
      "execution_count": null,
      "metadata": {
        "colab": {
          "base_uri": "https://localhost:8080/"
        },
        "id": "ptUArtYlNK0J",
        "outputId": "e117c638-67ff-4105-a7b1-ea5c14498752"
      },
      "outputs": [
        {
          "output_type": "stream",
          "name": "stdout",
          "text": [
            "Enter the temperature in degrees Fahrenheit : 30\n",
            "Wear a heavy coat and warm pants\n"
          ]
        }
      ],
      "source": [
        "#Dressing for the weather\n",
        "Temp=float(input(\"Enter the temperature in degrees Fahrenheit : \"))\n",
        "if Temp>=70:\n",
        "  dress= \"shorts and a t-shirt\"\n",
        "elif Temp>=50 and Temp<69:\n",
        "  dress=\"jeans and light jacket\"\n",
        "else:\n",
        "  dress=\"heavy coat and warm pants\"\n",
        "print(\"Wear a\",dress)"
      ]
    },
    {
      "cell_type": "code",
      "execution_count": null,
      "metadata": {
        "colab": {
          "base_uri": "https://localhost:8080/"
        },
        "id": "4JdrNlXLPe9J",
        "outputId": "4e37871d-d342-4937-cd49-10b4a1a1ae24"
      },
      "outputs": [
        {
          "name": "stdout",
          "output_type": "stream",
          "text": [
            "Enter the month(1-12): 10\n",
            "The season is  Autumn\n"
          ]
        }
      ],
      "source": [
        "#Determine season based on month\n",
        "month=int(input(\"Enter the month(1-12): \"))\n",
        "if 3<=month<=5:\n",
        "  season=\"Spring\"\n",
        "elif 6<=month<=8:\n",
        "  season=\"Summer\"\n",
        "elif 9<=month<=11:\n",
        "  season=\"Autumn\"\n",
        "else:\n",
        "  season=\"Winter\"\n",
        "print(\"The season is \",season)"
      ]
    },
    {
      "cell_type": "code",
      "execution_count": null,
      "metadata": {
        "colab": {
          "base_uri": "https://localhost:8080/"
        },
        "id": "PYXXE9iTUywh",
        "outputId": "838dd838-0b46-40fa-e395-0935063825ea"
      },
      "outputs": [
        {
          "name": "stdout",
          "output_type": "stream",
          "text": [
            "Enter the year :2023\n",
            "The year is not a leap year\n"
          ]
        }
      ],
      "source": [
        "#Check if a year is a leap year\n",
        "year=int(input(\"Enter the year :\"))\n",
        "if year%4==0 or year%100==0 and year%400==0 :\n",
        "  print(\"The year is a leap year\")\n",
        "else:\n",
        "  print(\"The year is not a leap year\")"
      ]
    },
    {
      "cell_type": "code",
      "execution_count": null,
      "metadata": {
        "colab": {
          "base_uri": "https://localhost:8080/"
        },
        "id": "ybXVLKBLXlrV",
        "outputId": "ef52eda8-09c6-454d-cc66-af70605d0c10"
      },
      "outputs": [
        {
          "name": "stdout",
          "output_type": "stream",
          "text": [
            "Enter the number:6\n",
            "The number is Positive\n"
          ]
        }
      ],
      "source": [
        "#Check if a number is positive, negative or zero\n",
        "Num=float(input(\"Enter the number:\"))\n",
        "if Num>0:\n",
        "  print(\"The number is Positive\")\n",
        "elif Num<0:\n",
        "  print(\"The number is Negative\")\n",
        "else:\n",
        "  print(\"The number is Zero\")\n"
      ]
    },
    {
      "cell_type": "code",
      "execution_count": null,
      "metadata": {
        "colab": {
          "base_uri": "https://localhost:8080/"
        },
        "id": "Ws4Qij3kOcZo",
        "outputId": "5684633f-5447-46d0-e52c-5cbe3d38517e"
      },
      "outputs": [
        {
          "name": "stdout",
          "output_type": "stream",
          "text": [
            "<class 'int'>\n",
            "10\n"
          ]
        }
      ],
      "source": [
        "a=10\n",
        "print(type(a))\n",
        "s=str(a)\n",
        "print(s)"
      ]
    },
    {
      "cell_type": "code",
      "execution_count": null,
      "metadata": {
        "colab": {
          "base_uri": "https://localhost:8080/"
        },
        "id": "Z5dTAct_Pge-",
        "outputId": "afad9d85-50f7-42c2-ba49-fd38e3f8e888"
      },
      "outputs": [
        {
          "name": "stdout",
          "output_type": "stream",
          "text": [
            "<class 'list'>\n",
            "('Athira', 10, 'r', 2345678)\n"
          ]
        }
      ],
      "source": [
        "#Type conversion\n",
        "mylist=['Athira',10,'r',2345678]\n",
        "print(type(mylist))\n",
        "t=tuple(mylist)\n",
        "print(t)"
      ]
    },
    {
      "cell_type": "code",
      "execution_count": null,
      "metadata": {
        "colab": {
          "base_uri": "https://localhost:8080/"
        },
        "id": "hNX0oTGwWL8s",
        "outputId": "2af2fd13-7fc7-4381-912d-93d4297fedc3"
      },
      "outputs": [
        {
          "name": "stdout",
          "output_type": "stream",
          "text": [
            "The count value is : 1\n",
            "The count value is : 2\n",
            "The count value is : 3\n",
            "The count value is : 4\n",
            "The count value is : 5\n",
            "The count value is : 6\n",
            "The count value is : 7\n",
            "The count value is : 8\n",
            "The count value is : 9\n",
            "The count value is : 10\n",
            "The count value is : 11\n",
            "The count value is : 12\n",
            "The count value is : 13\n",
            "The count value is : 14\n",
            "The count value is : 15\n",
            "The count value is : 16\n",
            "The count value is : 17\n",
            "The count value is : 18\n",
            "The count value is : 19\n",
            "The count value is : 20\n",
            "The count value is : 21\n",
            "The count value is : 22\n",
            "The count value is : 23\n",
            "The count value is : 24\n",
            "The count value is : 25\n",
            "The count value is : 26\n",
            "The count value is : 27\n",
            "The count value is : 28\n",
            "The count value is : 29\n",
            "The count value is : 30\n",
            "The count value is : 31\n",
            "The count value is : 32\n",
            "The count value is : 33\n",
            "The count value is : 34\n",
            "The count value is : 35\n",
            "The count value is : 36\n",
            "The count value is : 37\n",
            "The count value is : 38\n",
            "The count value is : 39\n",
            "The count value is : 40\n",
            "The count value is : 41\n",
            "The count value is : 42\n",
            "The count value is : 43\n",
            "The count value is : 44\n",
            "The count value is : 45\n",
            "The count value is : 46\n",
            "The count value is : 47\n",
            "The count value is : 48\n",
            "The count value is : 49\n",
            "The count value is : 50\n"
          ]
        }
      ],
      "source": [
        "#looping\n",
        "#while loop\n",
        "count=1\n",
        "while(count<51):\n",
        "  print(\"The count value is :\",count)\n",
        "  count+=1 #count=count+1\n"
      ]
    },
    {
      "cell_type": "code",
      "execution_count": null,
      "metadata": {
        "colab": {
          "base_uri": "https://localhost:8080/"
        },
        "id": "XGdWV9BmZJKv",
        "outputId": "76c60d63-0e39-4860-f54d-93b2f2044851"
      },
      "outputs": [
        {
          "name": "stdout",
          "output_type": "stream",
          "text": [
            "2\n",
            "4\n",
            "6\n",
            "8\n",
            "10\n",
            "12\n",
            "14\n",
            "16\n",
            "18\n",
            "20\n",
            "22\n",
            "24\n",
            "26\n",
            "28\n",
            "30\n",
            "32\n",
            "34\n",
            "36\n",
            "38\n",
            "40\n",
            "42\n",
            "44\n",
            "46\n",
            "48\n",
            "50\n"
          ]
        }
      ],
      "source": [
        "count=2\n",
        "while(count<51):\n",
        "  print(count)\n",
        "  count+=2"
      ]
    },
    {
      "cell_type": "code",
      "execution_count": null,
      "metadata": {
        "colab": {
          "base_uri": "https://localhost:8080/"
        },
        "id": "TENka0wOZn3k",
        "outputId": "04f02832-8b66-42e9-b4e9-d217e2f90b61"
      },
      "outputs": [
        {
          "output_type": "stream",
          "name": "stdout",
          "text": [
            "Enter the table number: 6\n",
            "1 * 6 = 6\n",
            "2 * 6 = 12\n",
            "3 * 6 = 18\n",
            "4 * 6 = 24\n",
            "5 * 6 = 30\n",
            "6 * 6 = 36\n",
            "7 * 6 = 42\n",
            "8 * 6 = 48\n",
            "9 * 6 = 54\n",
            "10 * 6 = 60\n"
          ]
        }
      ],
      "source": [
        "#Multiplication table\n",
        "a=int(input(\"Enter the table number: \"))\n",
        "count=1\n",
        "while(count<=10):\n",
        "  c=count*a\n",
        "  print(count,\"*\",a,\"=\",c)\n",
        "  count+=1"
      ]
    },
    {
      "cell_type": "code",
      "execution_count": null,
      "metadata": {
        "colab": {
          "base_uri": "https://localhost:8080/"
        },
        "id": "eUrE86ugWPbc",
        "outputId": "d1cdec52-e804-465f-9bc0-f385d13482de"
      },
      "outputs": [
        {
          "name": "stdout",
          "output_type": "stream",
          "text": [
            "Enter the limit :10\n",
            "The sum is : 30\n"
          ]
        }
      ],
      "source": [
        "#sum of the even numbers\n",
        "a=int(input(\"Enter the limit :\"))\n",
        "count=0\n",
        "sum=0\n",
        "while(count<=a):\n",
        "  if (count%2==0):\n",
        "    sum+=count\n",
        "  count+=1\n",
        "print(\"The sum is :\",sum)"
      ]
    },
    {
      "cell_type": "code",
      "execution_count": null,
      "metadata": {
        "colab": {
          "base_uri": "https://localhost:8080/"
        },
        "id": "hpHuGlqsbvh4",
        "outputId": "4ef32d85-4625-44f4-bd6e-db655a5b6cc3"
      },
      "outputs": [
        {
          "name": "stdout",
          "output_type": "stream",
          "text": [
            "Enter the limit :5\n",
            "The product is : 8\n"
          ]
        }
      ],
      "source": [
        "#product of the even number\n",
        "a=int(input(\"Enter the limit :\"))\n",
        "count=1\n",
        "product=1\n",
        "while(count<=a):\n",
        "  if (count%2==0):\n",
        "    product*=count\n",
        "  count+=1\n",
        "print(\"The product is :\",product)"
      ]
    },
    {
      "cell_type": "code",
      "execution_count": null,
      "metadata": {
        "colab": {
          "base_uri": "https://localhost:8080/"
        },
        "id": "wsZNXiSzcAKJ",
        "outputId": "512c32d5-1d55-4ecc-d83c-f467b80eaf9e"
      },
      "outputs": [
        {
          "name": "stdout",
          "output_type": "stream",
          "text": [
            "Enter the limit :10\n",
            "55\n"
          ]
        }
      ],
      "source": [
        "#sum of natural numbers\n",
        "a=int(input(\"Enter the limit :\"))\n",
        "count=1\n",
        "sum=0\n",
        "while(count<=a):\n",
        "  sum+=count\n",
        "  count+=1\n",
        "print(sum)"
      ]
    },
    {
      "cell_type": "code",
      "execution_count": null,
      "metadata": {
        "colab": {
          "base_uri": "https://localhost:8080/"
        },
        "id": "8NS7qdZxeSu8",
        "outputId": "bd27e284-9314-411b-dc34-c7e6ff09e93d"
      },
      "outputs": [
        {
          "name": "stdout",
          "output_type": "stream",
          "text": [
            "Enter the limit :6\n",
            "720\n"
          ]
        }
      ],
      "source": [
        "#factorial number\n",
        "a=int(input(\"Enter the limit :\"))\n",
        "count=1\n",
        "fact=1\n",
        "while(count<=a):\n",
        "  fact*=count\n",
        "  count+=1\n",
        "print(fact)"
      ]
    },
    {
      "cell_type": "code",
      "execution_count": null,
      "metadata": {
        "colab": {
          "base_uri": "https://localhost:8080/"
        },
        "id": "QmF3sPblhTAh",
        "outputId": "74ea445a-9abd-45d2-94fc-5c707da548cc"
      },
      "outputs": [
        {
          "output_type": "stream",
          "name": "stdout",
          "text": [
            "Enter the number :56\n",
            "The sum of digits:  11\n"
          ]
        }
      ],
      "source": [
        "#sum of digits\n",
        "a=int(input(\"Enter the number :\"))\n",
        "sum=0\n",
        "while a>0:\n",
        "  digit=a%10\n",
        "  sum+=digit\n",
        "  a//=10\n",
        "print(\"The sum of digits: \",sum)"
      ]
    },
    {
      "cell_type": "code",
      "execution_count": null,
      "metadata": {
        "colab": {
          "base_uri": "https://localhost:8080/"
        },
        "id": "elbc-Uw4pYQA",
        "outputId": "56e99bec-20d7-4cd9-b468-b4918d91c7ed"
      },
      "outputs": [
        {
          "output_type": "stream",
          "name": "stdout",
          "text": [
            "1\n",
            "2\n",
            "3\n",
            "4\n"
          ]
        }
      ],
      "source": [
        "#break\n",
        "count=1\n",
        "while(count<11):\n",
        "  if (count==5):\n",
        "    break\n",
        "  print(count)\n",
        "  count+=1"
      ]
    },
    {
      "cell_type": "code",
      "source": [
        "#Break\n",
        "var=10\n",
        "while var>0:\n",
        "  var=var-1\n",
        "  if var==5:\n",
        "    break\n",
        "  print(\"Current value is :\",var)\n",
        "print(\"Thank you\")"
      ],
      "metadata": {
        "colab": {
          "base_uri": "https://localhost:8080/"
        },
        "id": "6xOXepRwzyUP",
        "outputId": "29918e47-c4fe-40f1-b091-58ac4ac7c89c"
      },
      "execution_count": null,
      "outputs": [
        {
          "output_type": "stream",
          "name": "stdout",
          "text": [
            "Current value is : 9\n",
            "Current value is : 8\n",
            "Current value is : 7\n",
            "Current value is : 6\n",
            "Thank you\n"
          ]
        }
      ]
    },
    {
      "cell_type": "code",
      "source": [
        "#continue\n",
        "var=10\n",
        "while var>0:\n",
        "  var=var-1\n",
        "  if var==5:\n",
        "    continue\n",
        "  print(\"Current value is :\", var)\n",
        "print(\"Thank you\")\n"
      ],
      "metadata": {
        "colab": {
          "base_uri": "https://localhost:8080/"
        },
        "id": "zDi86zkB0fcw",
        "outputId": "fd0e0edb-cff8-4269-e75f-dd517b186685"
      },
      "execution_count": null,
      "outputs": [
        {
          "output_type": "stream",
          "name": "stdout",
          "text": [
            "Current value is : 9\n",
            "Current value is : 8\n",
            "Current value is : 7\n",
            "Current value is : 6\n",
            "Current value is : 4\n",
            "Current value is : 3\n",
            "Current value is : 2\n",
            "Current value is : 1\n",
            "Current value is : 0\n",
            "Thank you\n"
          ]
        }
      ]
    },
    {
      "cell_type": "code",
      "source": [
        "#pass\n",
        "var=10\n",
        "while var>0:\n",
        "  var=var-1\n",
        "  if var==5:\n",
        "    pass\n",
        "  print(\"Current value is:\",var)\n",
        "print(\"Thank you\")"
      ],
      "metadata": {
        "colab": {
          "base_uri": "https://localhost:8080/"
        },
        "id": "x8jGZzzW03y2",
        "outputId": "3f8e1857-5ff2-41d8-b829-e6015801aed9"
      },
      "execution_count": null,
      "outputs": [
        {
          "output_type": "stream",
          "name": "stdout",
          "text": [
            "Current value is: 9\n",
            "Current value is: 8\n",
            "Current value is: 7\n",
            "Current value is: 6\n",
            "Current value is: 5\n",
            "Current value is: 4\n",
            "Current value is: 3\n",
            "Current value is: 2\n",
            "Current value is: 1\n",
            "Current value is: 0\n",
            "Thank you\n"
          ]
        }
      ]
    },
    {
      "cell_type": "code",
      "source": [
        "#for loop\n",
        "mylist=[\"Athira\",23,\"Valanchery\"]\n",
        "for i in mylist:\n",
        "  print(i)"
      ],
      "metadata": {
        "colab": {
          "base_uri": "https://localhost:8080/"
        },
        "id": "ctxtGIc43Ua5",
        "outputId": "15a6b775-cc37-4e14-a3f0-44446b2d343c"
      },
      "execution_count": null,
      "outputs": [
        {
          "output_type": "stream",
          "name": "stdout",
          "text": [
            "Athira\n",
            "23\n",
            "Valanchery\n"
          ]
        }
      ]
    },
    {
      "cell_type": "code",
      "source": [
        "#Factorial(for loop)\n",
        "a=int(input(\"Enter the number: \"))\n",
        "fact=1\n",
        "for i in range(1,a+1):\n",
        "  fact=fact*i\n",
        "print(fact)"
      ],
      "metadata": {
        "colab": {
          "base_uri": "https://localhost:8080/"
        },
        "id": "HlVlParp3-4I",
        "outputId": "894fb122-696a-49c3-c7cc-64db97414375"
      },
      "execution_count": null,
      "outputs": [
        {
          "output_type": "stream",
          "name": "stdout",
          "text": [
            "Enter the number: 5\n",
            "120\n"
          ]
        }
      ]
    },
    {
      "cell_type": "code",
      "source": [
        "#Reverse a list\n",
        "original_list=[\"Athira\",23,\"valanchery\"]\n",
        "reversed_list=[]\n",
        "for item in original_list:\n",
        "  reversed_list.insert(0,item)\n",
        "print(\"original_list :\",original_list)\n",
        "print(\"Reversed_list :\",reversed_list)"
      ],
      "metadata": {
        "colab": {
          "base_uri": "https://localhost:8080/"
        },
        "id": "Px7GHMB56gGI",
        "outputId": "dc0cf52b-01b2-4936-93ed-3e7ef2b20e79"
      },
      "execution_count": null,
      "outputs": [
        {
          "output_type": "stream",
          "name": "stdout",
          "text": [
            "original_list : ['Athira', 23, 'valanchery']\n",
            "Reversed_list : ['valanchery', 23, 'Athira']\n"
          ]
        }
      ]
    },
    {
      "cell_type": "code",
      "source": [
        "#Count the occurences of each element in list\n",
        "Numbers=[2,5,3,4,2,4,1,7,3]\n",
        "count={}\n",
        "for num in Numbers:\n",
        "  if num in count:\n",
        "    count[num]+=1\n",
        "  else:\n",
        "    count[num]=1\n",
        "\n",
        "print(count)"
      ],
      "metadata": {
        "id": "c9dqLDohC_od",
        "colab": {
          "base_uri": "https://localhost:8080/"
        },
        "outputId": "a14e53ca-1861-4ff2-ac4a-7339cf215af8"
      },
      "execution_count": null,
      "outputs": [
        {
          "output_type": "stream",
          "name": "stdout",
          "text": [
            "{2: 2, 5: 1, 3: 2, 4: 2, 1: 1, 7: 1}\n"
          ]
        }
      ]
    },
    {
      "cell_type": "code",
      "source": [
        "#Palindrome Checker\n",
        "word=input(\"Enter the word :\")\n",
        "rev=\"\"\n",
        "for i in word:\n",
        "  rev=i+rev\n",
        "if (word==rev):\n",
        "   print(\"Palindrome\")\n",
        "else:\n",
        " print(\"Not palindrome\")"
      ],
      "metadata": {
        "id": "YeUkSq_BJMKt",
        "colab": {
          "base_uri": "https://localhost:8080/"
        },
        "outputId": "74adcdf4-2e47-4cd9-d4a2-6c12169aed45"
      },
      "execution_count": null,
      "outputs": [
        {
          "output_type": "stream",
          "name": "stdout",
          "text": [
            "Enter the word :malayalam\n",
            "Palindrome\n"
          ]
        }
      ]
    },
    {
      "cell_type": "code",
      "source": [
        "#Check Automrphic or Trimorphic\n",
        "num=int(input(\"Enter the number :\"))\n",
        "square=num**2\n",
        "cube=num**3\n",
        "smod=pow(10,len(str(num)))\n",
        "cmod=pow(10,len(str(num)))\n",
        "if square%smod==num:\n",
        "  print(\"Automorphic\")\n",
        "else:\n",
        "  print(\"Not Automorphic\")\n",
        "if cube%cmod==num:\n",
        "  print(\"Trimorphic\")\n",
        "else:\n",
        "  print(\"Not Trimorphic\")"
      ],
      "metadata": {
        "colab": {
          "base_uri": "https://localhost:8080/"
        },
        "id": "dT-t0k18K0u3",
        "outputId": "47f3df2a-403d-46ca-d0ee-8fcb002e365c"
      },
      "execution_count": null,
      "outputs": [
        {
          "output_type": "stream",
          "name": "stdout",
          "text": [
            "Enter the number :76\n",
            "Automorphic\n",
            "Trimorphic\n"
          ]
        }
      ]
    },
    {
      "cell_type": "code",
      "source": [
        "#Calculator\n",
        "Num1=int(input(\"Enter the number1 :\"))\n",
        "Num2=int(input(\"Enter the number2 :\"))\n",
        "operator=int(input(\"1. Addition \\n2. Subtraction \\n3. multiplication \\n4. Division \\n5. Modulus \\nEnter the operation 1,2,3,4,5 :\"))\n",
        "if (operator==1):\n",
        "  sum=Num1+Num2\n",
        "  print(Num1,\"+\",Num2,\"=\",sum)\n",
        "elif (operator==2):\n",
        "  diff=Num1-Num2\n",
        "  print(Num1,\"-\",Num2,\"=\",diff)\n",
        "elif (operator==3):\n",
        "  prod=Num1*Num2\n",
        "  print(Num1,\"*\",Num2,\"=\",prod)\n",
        "elif (operator==4):\n",
        "  div=Num1/Num2\n",
        "  print(Num1,\"/\",Num2,\"=\",div)\n",
        "elif (operator==5):\n",
        "  mod=Num1%Num2\n",
        "  print(Num1,\"%\",Num2,\"=\",mod)\n",
        "else:\n",
        "  print(\"Invalid input\")"
      ],
      "metadata": {
        "id": "W_elMbWZP7AB",
        "colab": {
          "base_uri": "https://localhost:8080/"
        },
        "outputId": "66d8c60a-419b-4d2b-c01f-682cbb6b06da"
      },
      "execution_count": null,
      "outputs": [
        {
          "output_type": "stream",
          "name": "stdout",
          "text": [
            "Enter the number1 :56\n",
            "Enter the number2 :3\n",
            "1. Addition \n",
            "2. Subtraction \n",
            "3. multiplication \n",
            "4. Division \n",
            "5. Modulus \n",
            "Enter the operation 1,2,3,4,5 :3\n",
            "56 * 3 = 168\n"
          ]
        }
      ]
    },
    {
      "cell_type": "code",
      "source": [
        "#Checking Right Angled Triangle using side\n",
        "a=float(input(\"Enter the length of side1 :\"))\n",
        "b=float(input(\"Enter the length of side2 :\"))\n",
        "c=float(input(\"Enter the length of side3 :\"))\n",
        "sq_a=a**2\n",
        "sq_b=b**2\n",
        "sq_c=c**2\n",
        "if (sq_a==sq_b+sq_c) or (sq_b==sq_a+sq_c) or (sq_c==sq_a+sq_b):\n",
        "  print(\"It is a Right Angled Triangle\")\n",
        "else:\n",
        "  print(\"It is not a Right Angled Triangle\")"
      ],
      "metadata": {
        "id": "HL8GmPHh_6bx",
        "colab": {
          "base_uri": "https://localhost:8080/"
        },
        "outputId": "7eb0162f-5e68-4f01-f78f-8ca8fbd9a847"
      },
      "execution_count": null,
      "outputs": [
        {
          "output_type": "stream",
          "name": "stdout",
          "text": [
            "Enter the length of side1 :8\n",
            "Enter the length of side2 :6\n",
            "Enter the length of side3 :10\n",
            "It is a Right Angled Triangle\n"
          ]
        }
      ]
    },
    {
      "cell_type": "code",
      "source": [
        "#Checking Right Angled Triangle using angle\n",
        "ang1=int(input(\"Enter the angle1 :\"))\n",
        "ang2=int(input(\"Enter the angle2 :\"))\n",
        "ang3=int(input(\"Enter the angle3 :\"))\n",
        "total=ang1+ang2+ang3\n",
        "if total==180:\n",
        "  if (ang1==90) or (ang2==90) or (ang3==90):\n",
        "    print(\"It is a Right angled Triangle\")\n",
        "  else:\n",
        "    print(\"It is not a Right angled Triangle\")"
      ],
      "metadata": {
        "colab": {
          "base_uri": "https://localhost:8080/"
        },
        "id": "V9dnUPlLULCy",
        "outputId": "5b2b72a2-7b84-49cd-ab22-c1ab1a449e7c"
      },
      "execution_count": null,
      "outputs": [
        {
          "output_type": "stream",
          "name": "stdout",
          "text": [
            "Enter the angle1 :40\n",
            "Enter the angle2 :50\n",
            "Enter the angle3 :90\n",
            "It is a Right angled Triangle\n"
          ]
        }
      ]
    },
    {
      "cell_type": "code",
      "source": [
        "#string -inbuilt methods\n",
        "\n",
        "my_string=\"python programming\"\n",
        "#len\n",
        "print(len(my_string))\n",
        "#upper\n",
        "print(my_string.upper())\n",
        "#lower\n",
        "print(my_string.lower())\n",
        "#capitalize\n",
        "print(my_string.capitalize())\n",
        "#count\n",
        "s=\"Hello, Hello, Hello, World\"\n",
        "count=s.count(\"Hello\")\n",
        "print(count)\n",
        "#replace\n",
        "my_string=\"Hello, World!\"\n",
        "new_string=my_string.replace(\"Hello\", \"Hi\")\n",
        "print(new_string)\n",
        "#split\n",
        "my_string=\"apple orange banana\"\n",
        "fruits=my_string.split()\n",
        "print(fruits)"
      ],
      "metadata": {
        "colab": {
          "base_uri": "https://localhost:8080/"
        },
        "id": "FjTXmcT3SJjt",
        "outputId": "93c0f602-3b39-46d9-a9b9-0da3146cf5f4"
      },
      "execution_count": null,
      "outputs": [
        {
          "output_type": "stream",
          "name": "stdout",
          "text": [
            "18\n",
            "PYTHON PROGRAMMING\n",
            "python programming\n",
            "Python programming\n",
            "3\n",
            "Hi, World!\n",
            "['apple', 'orange', 'banana']\n"
          ]
        }
      ]
    },
    {
      "cell_type": "code",
      "source": [
        "#list -inbuilt methods\n",
        "\n",
        "#append\n",
        "my_list=[1,2,3]\n",
        "my_list.append(4)\n",
        "print(my_list)\n",
        "\n",
        "#extend\n",
        "my_list=[1,2,3]\n",
        "my_list.extend([4,5,6])\n",
        "print(my_list)\n",
        "\n",
        "#insert\n",
        "my_list=[1,2,3]\n",
        "my_list.insert(2,7)\n",
        "print(my_list)\n",
        "\n",
        "#remove\n",
        "my_list=[1,2,3]\n",
        "my_list.remove(2)\n",
        "print(my_list)\n",
        "\n",
        "#pop\n",
        "my_list=[1,2,3,2]\n",
        "my_list.pop()\n",
        "print(my_list)\n",
        "\n",
        "my_list=[1,2,3,4,5]\n",
        "my_list.pop(2)\n",
        "print(my_list)\n",
        "\n",
        "#index\n",
        "my_list=[1,2,3]\n",
        "s=my_list.index(2)\n",
        "print(s)\n",
        "\n",
        "#count\n",
        "my_list=[1,2,3,2,4]\n",
        "s=my_list.count(2)\n",
        "print(s)\n",
        "\n",
        "#sort\n",
        "my_list=[43,21,67,18]\n",
        "my_list.sort()\n",
        "print(my_list)\n",
        "\n",
        "my_list=[43,21,67,18]\n",
        "sorted_list_desc=sorted(my_list,reverse=True)\n",
        "print(sorted_list_desc)\n",
        "\n",
        "#reverse\n",
        "my_list=[34,16,57,38]\n",
        "my_list.reverse()\n",
        "print(my_list)\n",
        "\n",
        "#clear\n",
        "mylist=[12,34,54,32]\n",
        "my_list.clear()\n",
        "print(my_list)"
      ],
      "metadata": {
        "colab": {
          "base_uri": "https://localhost:8080/"
        },
        "id": "8XsSqyD3XFmx",
        "outputId": "3a22a317-1f70-4663-9618-aa6d6fc949e1"
      },
      "execution_count": null,
      "outputs": [
        {
          "output_type": "stream",
          "name": "stdout",
          "text": [
            "[1, 2, 3, 4]\n",
            "[1, 2, 3, 4, 5, 6]\n",
            "[1, 2, 7, 3]\n",
            "[1, 3]\n",
            "[1, 2, 3]\n",
            "[1, 2, 4, 5]\n",
            "1\n",
            "2\n",
            "[18, 21, 43, 67]\n",
            "[67, 43, 21, 18]\n",
            "[38, 57, 16, 34]\n",
            "[]\n"
          ]
        }
      ]
    },
    {
      "cell_type": "code",
      "source": [
        "#vowels and consonants\n",
        "my_string=input(\"Enter the string :\")\n",
        "vowels=\"aeiou\"\n",
        "vowels_count=0\n",
        "consonants_count =0\n",
        "my_string=my_string.lower()\n",
        "for i in my_string:\n",
        "  if i in vowels:\n",
        "    vowels_count+=1\n",
        "  else:\n",
        "    consonants_count+=1\n",
        "print(\"Vowels count =\",vowels_count)\n",
        "print(\"Consonant count =\",consonants_count)"
      ],
      "metadata": {
        "colab": {
          "base_uri": "https://localhost:8080/"
        },
        "id": "Vhw9rBYC4--j",
        "outputId": "8c25e041-9896-453b-c718-b7f6e3d54e17"
      },
      "execution_count": null,
      "outputs": [
        {
          "output_type": "stream",
          "name": "stdout",
          "text": [
            "Enter the string :Helloworld\n",
            "Vowels count = 3\n",
            "Consonant count = 7\n"
          ]
        }
      ]
    },
    {
      "cell_type": "code",
      "source": [
        "#string reverse\n",
        "my_string=input(\"Enter the string: \")\n",
        "r=\"\"\n",
        "for i in my_string:\n",
        "  r=i+r\n",
        "print(r)"
      ],
      "metadata": {
        "id": "VEOBi-vr5eYL",
        "colab": {
          "base_uri": "https://localhost:8080/"
        },
        "outputId": "d370990d-a344-4ee2-e084-77fd88129da7"
      },
      "execution_count": null,
      "outputs": [
        {
          "output_type": "stream",
          "name": "stdout",
          "text": [
            "Enter the string: helloworld\n",
            "dlrowolleh\n"
          ]
        }
      ]
    },
    {
      "cell_type": "code",
      "source": [
        "#Armstrong Number\n",
        "num=int(input(\"Enter the number :\"))\n",
        "org_num=num\n",
        "sum=0\n",
        "\n",
        "while num>0:\n",
        "  digit=num%10\n",
        "  sum+=digit**3\n",
        "  num=num//10\n",
        "if org_num==sum:\n",
        "  print(org_num,\"is an Armstrong number\")\n",
        "else:\n",
        "  print(org_num,\"is not an Armstrong number\")"
      ],
      "metadata": {
        "colab": {
          "base_uri": "https://localhost:8080/"
        },
        "id": "dzLRZPpV7izt",
        "outputId": "993f380e-25e4-45b7-b35a-c101077e6222"
      },
      "execution_count": null,
      "outputs": [
        {
          "output_type": "stream",
          "name": "stdout",
          "text": [
            "Enter the number :153\n",
            "153 is an Armstrong number\n"
          ]
        }
      ]
    },
    {
      "cell_type": "code",
      "source": [
        "#Fibonacci series\n",
        "n=int(input(\"Enter the number of terms :\"))\n",
        "n1=0\n",
        "n2=1\n",
        "count=0\n",
        "\n",
        "if n<=0:\n",
        "  print(\"Enter a positive number\")\n",
        "else:\n",
        "  print(\"Fibonacci series :\")\n",
        "  while count<n:\n",
        "    print(n1)\n",
        "    sum=n1+n2\n",
        "    n1=n2\n",
        "    n2=sum\n",
        "    count+=1"
      ],
      "metadata": {
        "colab": {
          "base_uri": "https://localhost:8080/"
        },
        "id": "MqNpUGvw9wQK",
        "outputId": "fc20d186-a6a1-4d90-f6b2-8db4b3189aba"
      },
      "execution_count": null,
      "outputs": [
        {
          "output_type": "stream",
          "name": "stdout",
          "text": [
            "Enter the number of terms :10\n",
            "Fibonacci series :\n",
            "0\n",
            "1\n",
            "1\n",
            "2\n",
            "3\n",
            "5\n",
            "8\n",
            "13\n",
            "21\n",
            "34\n"
          ]
        }
      ]
    },
    {
      "cell_type": "code",
      "source": [
        "#count the digits in a number\n",
        "num=int(input(\"Enter the number :\"))\n",
        "num=str(num)\n",
        "count=0\n",
        "for i in num:\n",
        "  count+=1\n",
        "print(count)"
      ],
      "metadata": {
        "colab": {
          "base_uri": "https://localhost:8080/"
        },
        "id": "fAgUbdBu_jKP",
        "outputId": "0cb4f4df-3e44-4b7d-8431-35b709348591"
      },
      "execution_count": null,
      "outputs": [
        {
          "output_type": "stream",
          "name": "stdout",
          "text": [
            "Enter the number :1234567\n",
            "7\n"
          ]
        }
      ]
    },
    {
      "cell_type": "code",
      "source": [
        "#Set\n",
        "\n",
        "#add\n",
        "myset={1,2,3}\n",
        "myset.add(4)\n",
        "print(myset)\n",
        "\n",
        "#update\n",
        "myset.update([4,5,6])\n",
        "print(myset)\n",
        "\n",
        "#remove\n",
        "myset.remove(5)\n",
        "print(myset)\n",
        "\n",
        "#discard\n",
        "myset.discard(1)\n",
        "print(myset)\n",
        "\n",
        "#pop\n",
        "#clear\n",
        "\n",
        "set1={1,2,3}\n",
        "set2={3,4,5}\n",
        "#union\n",
        "union_set=set1.union(set2)\n",
        "print(union_set)\n",
        "#intersection\n",
        "intersection_set=set1.intersection(set2)\n",
        "print(intersection_set)\n",
        "#difference\n",
        "difference_set=set1.difference(set2)\n",
        "print(difference_set)"
      ],
      "metadata": {
        "colab": {
          "base_uri": "https://localhost:8080/"
        },
        "id": "Tv8zMpK5Eavo",
        "outputId": "76c3e3dd-d023-4620-b9fb-63152f201f11"
      },
      "execution_count": null,
      "outputs": [
        {
          "output_type": "stream",
          "name": "stdout",
          "text": [
            "{1, 2, 3, 4}\n",
            "{1, 2, 3, 4, 5, 6}\n",
            "{1, 2, 3, 4, 6}\n",
            "{2, 3, 4, 6}\n",
            "{1, 2, 3, 4, 5}\n",
            "{3}\n",
            "{1, 2}\n"
          ]
        }
      ]
    },
    {
      "cell_type": "code",
      "source": [
        "#1. write a python program to output welcome to python\n",
        "print(\"Welcome to Python\")"
      ],
      "metadata": {
        "id": "0QcyXUYoKt2X",
        "colab": {
          "base_uri": "https://localhost:8080/"
        },
        "outputId": "89992a12-adfa-48bf-a41f-1194a652cc7e"
      },
      "execution_count": null,
      "outputs": [
        {
          "output_type": "stream",
          "name": "stdout",
          "text": [
            "Welcome to Python\n"
          ]
        }
      ]
    },
    {
      "cell_type": "code",
      "source": [
        "#2. write a python program to declare multiple variables in a single line\n",
        "a,b,c=10,20,30\n",
        "print(a,b,c)"
      ],
      "metadata": {
        "colab": {
          "base_uri": "https://localhost:8080/"
        },
        "id": "MrUyZfOEiTs0",
        "outputId": "1fe79aff-e8f4-4f5a-e608-3cf7c663e2f1"
      },
      "execution_count": null,
      "outputs": [
        {
          "output_type": "stream",
          "name": "stdout",
          "text": [
            "10 20 30\n"
          ]
        }
      ]
    },
    {
      "cell_type": "code",
      "source": [
        "#3. write a python program with legal and illegal variables\n",
        "#legal\n",
        "name=\"Athira\"\n",
        "print(name)\n",
        "legal_variable=23\n",
        "print(legal_variable)\n",
        "#2name=\"Athira\"\n",
        "#illegal-variable=46"
      ],
      "metadata": {
        "id": "om4YuNqSirPW",
        "colab": {
          "base_uri": "https://localhost:8080/"
        },
        "outputId": "0cc13ef8-b3e5-48d9-a4ef-31115f723190"
      },
      "execution_count": null,
      "outputs": [
        {
          "output_type": "stream",
          "name": "stdout",
          "text": [
            "Athira\n",
            "23\n"
          ]
        }
      ]
    },
    {
      "cell_type": "code",
      "source": [
        "#4. write a python program to combine two variables\n",
        "a=input(\"Enter the first word :\")\n",
        "b=input(\"Enter the second word :\")\n",
        "c=a+\" \"+b\n",
        "print(c)"
      ],
      "metadata": {
        "colab": {
          "base_uri": "https://localhost:8080/"
        },
        "id": "8DubZ-W3kGsH",
        "outputId": "10eb9f51-327d-4ee9-f5a3-165ddf6d0b48"
      },
      "execution_count": null,
      "outputs": [
        {
          "output_type": "stream",
          "name": "stdout",
          "text": [
            "Enter the first word :Python\n",
            "Enter the second word :Programming\n",
            "Python Programming\n"
          ]
        }
      ]
    },
    {
      "cell_type": "code",
      "source": [
        "#5. write a program to get the data type of an object\n",
        "name=\"Athira\"\n",
        "age=23\n",
        "name_type=type(name)\n",
        "age_type=type(age)\n",
        "print(\"Datatype of name is\",name_type)\n",
        "print(\"Datatype of age is\",age_type)"
      ],
      "metadata": {
        "colab": {
          "base_uri": "https://localhost:8080/"
        },
        "id": "NmIIUP74kwm4",
        "outputId": "e2774139-32e7-42c6-db56-c1b059caabb1"
      },
      "execution_count": null,
      "outputs": [
        {
          "output_type": "stream",
          "name": "stdout",
          "text": [
            "Datatype of name is <class 'str'>\n",
            "Datatype of age is <class 'int'>\n"
          ]
        }
      ]
    },
    {
      "cell_type": "code",
      "source": [
        "#6. write a program to input multiline string\n",
        "multiline_string='''Python is a high-level, general-purpose programming language.\n",
        "Its design philosophy emphasizes code readability with the use of significant indentation.\n",
        "It supports multiple programming paradigms, including structured, object-oriented and functional programming.'''\n",
        "print(\"Multiline String :\",multiline_string)"
      ],
      "metadata": {
        "id": "0nzz459qmqdN",
        "colab": {
          "base_uri": "https://localhost:8080/"
        },
        "outputId": "0cf7eafa-0878-40d6-f8d9-2ca61c44ff10"
      },
      "execution_count": null,
      "outputs": [
        {
          "output_type": "stream",
          "name": "stdout",
          "text": [
            "Multiline String : Python is a high-level, general-purpose programming language.\n",
            "Its design philosophy emphasizes code readability with the use of significant indentation.\n",
            "It supports multiple programming paradigms, including structured, object-oriented and functional programming.\n"
          ]
        }
      ]
    },
    {
      "cell_type": "code",
      "source": [
        "#7. write a program to convert one data type into other\n",
        "num=25\n",
        "float_num=float(num)\n",
        "print(float_num)\n",
        "print(type(float_num))"
      ],
      "metadata": {
        "colab": {
          "base_uri": "https://localhost:8080/"
        },
        "id": "XjUVEPkmm35W",
        "outputId": "6c967089-18aa-4851-9ac8-82b8eaeaebdd"
      },
      "execution_count": null,
      "outputs": [
        {
          "output_type": "stream",
          "name": "stdout",
          "text": [
            "25.0\n",
            "<class 'float'>\n"
          ]
        }
      ]
    },
    {
      "cell_type": "code",
      "source": [
        "#8. write a program to input a string\n",
        "my_string=input(\"Enter the string :\")\n",
        "print(my_string)"
      ],
      "metadata": {
        "colab": {
          "base_uri": "https://localhost:8080/"
        },
        "id": "8nFv8n6cobIL",
        "outputId": "af71bc0f-b0c5-4b8b-e71d-c9a871ccf886"
      },
      "execution_count": null,
      "outputs": [
        {
          "output_type": "stream",
          "name": "stdout",
          "text": [
            "Enter the string :Hello World\n",
            "Hello World\n"
          ]
        }
      ]
    },
    {
      "cell_type": "code",
      "source": [
        "#9. str2=''communication\" then find\n",
        "'''1.str2[0]\n",
        "2.str2[1]\n",
        "3.str2[-1]\n",
        "4.str2[-4]\n",
        "5.str2[2:12:3]\n",
        "6.str2[3:9:2]\n",
        "Str2[::3]\n",
        ".str2[::2]\n",
        "Str2[::-2]\n",
        "str2[::-1] '''\n",
        "\n",
        "str2=\"communication\"\n",
        "print(str2[0])\n",
        "print(str2[1])\n",
        "print(str2[-1])\n",
        "print(str2[-4])\n",
        "print(str2[2:12:3])\n",
        "print(str2[3:9:2])\n",
        "print(str2[::3])\n",
        "print(str2[::2])\n",
        "print(str2[::-2])\n",
        "print(str2[::-1])"
      ],
      "metadata": {
        "colab": {
          "base_uri": "https://localhost:8080/"
        },
        "id": "26wvOJ7oo2vD",
        "outputId": "b0695109-4a72-4d96-dcc8-3419d86d9cea"
      },
      "execution_count": null,
      "outputs": [
        {
          "output_type": "stream",
          "name": "stdout",
          "text": [
            "c\n",
            "o\n",
            "n\n",
            "t\n",
            "mnao\n",
            "mnc\n",
            "cmitn\n",
            "cmuiain\n",
            "niaiumc\n",
            "noitacinummoc\n"
          ]
        }
      ]
    },
    {
      "cell_type": "code",
      "source": [
        "#10. write a program to generate random numbers\n",
        "import random\n",
        "num = random.random()\n",
        "print(num)"
      ],
      "metadata": {
        "colab": {
          "base_uri": "https://localhost:8080/"
        },
        "id": "fid2AZ09pd9P",
        "outputId": "f6a16301-4b1a-4cfb-b5d7-1e2ff18b1759"
      },
      "execution_count": null,
      "outputs": [
        {
          "output_type": "stream",
          "name": "stdout",
          "text": [
            "0.9640200614710784\n"
          ]
        }
      ]
    },
    {
      "cell_type": "code",
      "source": [
        "#11. Write a python program to use the isalnum method\n",
        "string = \"abc123\"\n",
        "print(string.isalnum())"
      ],
      "metadata": {
        "colab": {
          "base_uri": "https://localhost:8080/"
        },
        "id": "gK4SlKGVqonS",
        "outputId": "e87a34bc-d61e-4904-b3a1-216a8d1685dd"
      },
      "execution_count": null,
      "outputs": [
        {
          "output_type": "stream",
          "name": "stdout",
          "text": [
            "True\n"
          ]
        }
      ]
    },
    {
      "cell_type": "code",
      "source": [
        "#12. convert a string to a lower\n",
        "my_string=input(\"Enter the string :\")\n",
        "print(my_string.lower())"
      ],
      "metadata": {
        "colab": {
          "base_uri": "https://localhost:8080/"
        },
        "id": "dNduOBGFrC-f",
        "outputId": "b2c48950-4091-4080-f810-e26173effd29"
      },
      "execution_count": null,
      "outputs": [
        {
          "output_type": "stream",
          "name": "stdout",
          "text": [
            "Enter the string :Athira\n",
            "athira\n"
          ]
        }
      ]
    },
    {
      "cell_type": "code",
      "source": [
        "#13. Write a python program to use capitalize method\n",
        "my_string=input(\"Enter the string :\")\n",
        "print(my_string.capitalize())"
      ],
      "metadata": {
        "colab": {
          "base_uri": "https://localhost:8080/"
        },
        "id": "lE0jFYMMrs-w",
        "outputId": "85ac0528-48ee-41fd-a7e5-4d4cbde1a2d7"
      },
      "execution_count": null,
      "outputs": [
        {
          "output_type": "stream",
          "name": "stdout",
          "text": [
            "Enter the string :python program\n",
            "Python program\n"
          ]
        }
      ]
    },
    {
      "cell_type": "code",
      "source": [
        "#14. remove white spaces from the begging of a string\n",
        "str3=\" Athira\"\n",
        "print(str3)\n",
        "print(str3.strip())"
      ],
      "metadata": {
        "id": "vJFgwDAFtAnx",
        "colab": {
          "base_uri": "https://localhost:8080/"
        },
        "outputId": "cc823581-fdd2-49f2-cd52-422a0fe9e018"
      },
      "execution_count": null,
      "outputs": [
        {
          "output_type": "stream",
          "name": "stdout",
          "text": [
            " Athira\n",
            "Athira\n"
          ]
        }
      ]
    },
    {
      "cell_type": "code",
      "source": [
        "#15. Write a python program to use ends with the method\n",
        "string = \"Hello world\"\n",
        "x = string.endswith(\"world\")\n",
        "print(x)"
      ],
      "metadata": {
        "colab": {
          "base_uri": "https://localhost:8080/"
        },
        "id": "aeSZn3Wpr8se",
        "outputId": "3c60f027-28c6-4545-beae-33440c0fd947"
      },
      "execution_count": null,
      "outputs": [
        {
          "output_type": "stream",
          "name": "stdout",
          "text": [
            "True\n"
          ]
        }
      ]
    },
    {
      "cell_type": "code",
      "source": [
        "#16. write a program to check whether a certain character or phrase is present in a string or not\n",
        "string=input(\"Enter the string :\")\n",
        "check=input(\"Enter the string or character to check :\")\n",
        "if check in string:\n",
        "  print(\"It is present in the string\")\n",
        "else:\n",
        "  print(\"It is not present in the string\")"
      ],
      "metadata": {
        "colab": {
          "base_uri": "https://localhost:8080/"
        },
        "id": "xmkWGfIruXlS",
        "outputId": "1c1210cb-5c47-4b6d-a54b-188607aae155"
      },
      "execution_count": null,
      "outputs": [
        {
          "output_type": "stream",
          "name": "stdout",
          "text": [
            "Enter the string :hello world\n",
            "Enter the string or character to check :hello\n",
            "It is present in the string\n"
          ]
        }
      ]
    },
    {
      "cell_type": "code",
      "source": [
        "#17. write a program to find the length of a string\n",
        "string=input(\"Enter the string :\")\n",
        "print(len(string))"
      ],
      "metadata": {
        "colab": {
          "base_uri": "https://localhost:8080/"
        },
        "id": "V9kSuOp5va6g",
        "outputId": "92004d25-ef57-4138-d658-ea2b0415c2c4"
      },
      "execution_count": null,
      "outputs": [
        {
          "output_type": "stream",
          "name": "stdout",
          "text": [
            "Enter the string :Hello world\n",
            "11\n"
          ]
        }
      ]
    },
    {
      "cell_type": "code",
      "source": [
        "#18. write a program to split the strings into substrings\n",
        "string=\"apple,banana,grape\"\n",
        "split=string.split(',')\n",
        "print(split)"
      ],
      "metadata": {
        "colab": {
          "base_uri": "https://localhost:8080/"
        },
        "id": "47J_U45CvylC",
        "outputId": "7f42b0e2-6b45-401a-d67a-53694317c9e3"
      },
      "execution_count": null,
      "outputs": [
        {
          "output_type": "stream",
          "name": "stdout",
          "text": [
            "['apple', 'banana', 'grape']\n"
          ]
        }
      ]
    },
    {
      "cell_type": "code",
      "source": [
        "#19. Write a python program to use the case fold method\n",
        "string=input(\"Enter the string :\")\n",
        "x = string.casefold()\n",
        "print(x)"
      ],
      "metadata": {
        "colab": {
          "base_uri": "https://localhost:8080/"
        },
        "id": "VIFifg__wpms",
        "outputId": "b77bb10f-6adf-4f05-8c49-0b5ed4364e8c"
      },
      "execution_count": null,
      "outputs": [
        {
          "output_type": "stream",
          "name": "stdout",
          "text": [
            "Enter the string :HelloWorld\n",
            "helloworld\n"
          ]
        }
      ]
    },
    {
      "cell_type": "code",
      "source": [
        "#20.  write a program to replace a string with other Get the first character of the string txt. txt = \"Welcome to python\"\n",
        "string=\"hello world\"\n",
        "new_string=string.replace(\"world\",\"welcome to python\")\n",
        "print(new_string)"
      ],
      "metadata": {
        "colab": {
          "base_uri": "https://localhost:8080/"
        },
        "id": "jyHLF8H3xcAl",
        "outputId": "fe5413c9-1a1d-47e4-926d-378c23f06166"
      },
      "execution_count": null,
      "outputs": [
        {
          "output_type": "stream",
          "name": "stdout",
          "text": [
            "hello welcome to python\n"
          ]
        }
      ]
    },
    {
      "cell_type": "code",
      "source": [
        "#21.  Get the characters from index 2 to index 4 txt = \"Welcome to python\"\n",
        "string=\"Welcome to python\"\n",
        "print(string[2:4])"
      ],
      "metadata": {
        "colab": {
          "base_uri": "https://localhost:8080/"
        },
        "id": "8rWE2qJVytZ0",
        "outputId": "24ca161b-260c-4102-a019-50fefc66d741"
      },
      "execution_count": null,
      "outputs": [
        {
          "output_type": "stream",
          "name": "stdout",
          "text": [
            "lc\n"
          ]
        }
      ]
    },
    {
      "cell_type": "code",
      "source": [
        "#22. Return the string without any whitespace at the beginning of the end. txt = \" Welcome to python \"\n",
        "txt = \" Welcome to python \"\n",
        "print(txt)\n",
        "print(txt.strip())"
      ],
      "metadata": {
        "id": "HTEYrKDfuCaX",
        "colab": {
          "base_uri": "https://localhost:8080/"
        },
        "outputId": "72df10e0-ea00-4696-9465-505e0b15f9c3"
      },
      "execution_count": null,
      "outputs": [
        {
          "output_type": "stream",
          "name": "stdout",
          "text": [
            " Welcome to python \n",
            "Welcome to python\n"
          ]
        }
      ]
    },
    {
      "cell_type": "code",
      "source": [
        "#23. Using the type() function assign the type of the variable to answer_1, then print it.\n",
        "a=10\n",
        "answer_1=type(a)\n",
        "print(answer_1)"
      ],
      "metadata": {
        "colab": {
          "base_uri": "https://localhost:8080/"
        },
        "id": "W_A5WkeezVss",
        "outputId": "46e8570c-0ee2-4cb1-b16b-d4e4e0ea2131"
      },
      "execution_count": null,
      "outputs": [
        {
          "output_type": "stream",
          "name": "stdout",
          "text": [
            "<class 'int'>\n"
          ]
        }
      ]
    },
    {
      "cell_type": "code",
      "source": [
        "#25. str=\"It's always darkest before dawn.\"  Replace the (.) with (!)\n",
        "string=\"It's always darkest before dawn.\"\n",
        "replaced_string=string.replace(\".\",\"!\")\n",
        "print(replaced_string)"
      ],
      "metadata": {
        "colab": {
          "base_uri": "https://localhost:8080/"
        },
        "id": "J0UZA4Ki-ktI",
        "outputId": "0354ca4f-1bd1-4a65-98b1-2cd362adf257"
      },
      "execution_count": null,
      "outputs": [
        {
          "output_type": "stream",
          "name": "stdout",
          "text": [
            "It's always darkest before dawn!\n"
          ]
        }
      ]
    },
    {
      "cell_type": "code",
      "source": [
        "#27. Reassign str so that, all its characters are lowercase. str=\"EVERY Strike Brings Me Closer to the Next Home run.\"\n",
        "string=\"EVERY Strike Brings Me Closer to the Next Home run\"\n",
        "print(string.lower())"
      ],
      "metadata": {
        "colab": {
          "base_uri": "https://localhost:8080/"
        },
        "id": "kpcLzMQs_vEX",
        "outputId": "88d46005-6c54-496d-d16b-f6c475d95a10"
      },
      "execution_count": null,
      "outputs": [
        {
          "output_type": "stream",
          "name": "stdout",
          "text": [
            "every strike brings me closer to the next home run\n"
          ]
        }
      ]
    },
    {
      "cell_type": "code",
      "source": [
        "#29.  Make the string so that everything is properly and the first letter is capital str=\" there are no traffic JamS Along with The extra \"\n",
        "string=\"there are no traffic JamS Along with The extra\"\n",
        "print(string.capitalize())"
      ],
      "metadata": {
        "colab": {
          "base_uri": "https://localhost:8080/"
        },
        "id": "WQdSHP24LUbV",
        "outputId": "cc21b588-d6c0-44c9-97cc-829ad330456a"
      },
      "execution_count": null,
      "outputs": [
        {
          "output_type": "stream",
          "name": "stdout",
          "text": [
            "There are no traffic jams along with the extra\n"
          ]
        }
      ]
    },
    {
      "cell_type": "code",
      "source": [
        "#30. Print the types of two given variables with the print function.   v_1=\"1\"   v_2=1\n",
        "v_1=\"1\"\n",
        "v_2=1\n",
        "print(type(v_1))\n",
        "print(type(v_2))"
      ],
      "metadata": {
        "colab": {
          "base_uri": "https://localhost:8080/"
        },
        "id": "vsIT6T-SL0v7",
        "outputId": "38429aa5-939f-47c9-d0a2-f04fc25fc21d"
      },
      "execution_count": null,
      "outputs": [
        {
          "output_type": "stream",
          "name": "stdout",
          "text": [
            "<class 'str'>\n",
            "<class 'int'>\n"
          ]
        }
      ]
    },
    {
      "cell_type": "code",
      "source": [
        "#31. What is the length of the given string? str=\"1.975.000\"\n",
        "string=\"1.975.000\"\n",
        "print(len(string))"
      ],
      "metadata": {
        "colab": {
          "base_uri": "https://localhost:8080/"
        },
        "id": "rKIxYZYiMNgw",
        "outputId": "3ae2ea25-8a48-42c5-c88b-1fbb0476c4e6"
      },
      "execution_count": null,
      "outputs": [
        {
          "output_type": "stream",
          "name": "stdout",
          "text": [
            "9\n"
          ]
        }
      ]
    },
    {
      "cell_type": "code",
      "source": [
        "#32.  write a program To check whether a character is a numeric character or not,\n",
        "a=input(\"Enter the number :\")\n",
        "if a.isnumeric():\n",
        "  print(a,\"is numeric character\")"
      ],
      "metadata": {
        "colab": {
          "base_uri": "https://localhost:8080/"
        },
        "id": "YF-yuIvKM3Y8",
        "outputId": "befb2bb9-8054-42a6-de37-727e32efcda1"
      },
      "execution_count": null,
      "outputs": [
        {
          "output_type": "stream",
          "name": "stdout",
          "text": [
            "Enter the number :6\n",
            "6 is numeric character\n"
          ]
        }
      ]
    },
    {
      "cell_type": "code",
      "source": [
        "#33.  Perform comparison operations X=5 Y=6\n",
        "X=int(input(\"Enter X :\"))\n",
        "Y=int(input(\"Enter Y :\"))\n",
        "if X==Y:\n",
        "  print(\"X and Y are equal\")\n",
        "else:\n",
        "  print(\"X and Y are not equal\")\n",
        "  if X>Y:\n",
        "    print(\"X is greater than Y\")\n",
        "  else:\n",
        "    print(\"Y is greater than X\")"
      ],
      "metadata": {
        "colab": {
          "base_uri": "https://localhost:8080/"
        },
        "id": "gf99cizLMJob",
        "outputId": "fedf1860-98f0-4a85-94de-ee21ffe4ba1b"
      },
      "execution_count": null,
      "outputs": [
        {
          "output_type": "stream",
          "name": "stdout",
          "text": [
            "Enter X :5\n",
            "Enter Y :6\n",
            "X and Y are not equal\n",
            "Y is greater than X\n"
          ]
        }
      ]
    },
    {
      "cell_type": "code",
      "source": [
        "#34. write a python program using the not in operator\n",
        "a=input(\"Enter the string1 :\")\n",
        "b=input(\"Enter the string2 :\")\n",
        "'''if b in a:\n",
        "  print(b,\"is present in\",a)\n",
        "else:\n",
        "  print(b,\"is not present in\",a)'''\n",
        "print(a not in b)"
      ],
      "metadata": {
        "colab": {
          "base_uri": "https://localhost:8080/"
        },
        "id": "R6gk9vBOOG5-",
        "outputId": "a966ef4a-6aac-4c7e-8f19-18b81e9926f4"
      },
      "execution_count": null,
      "outputs": [
        {
          "output_type": "stream",
          "name": "stdout",
          "text": [
            "Enter the string1 :helloworld\n",
            "Enter the string2 :python\n",
            "True\n"
          ]
        }
      ]
    },
    {
      "cell_type": "code",
      "source": [
        "#35. write a python program using is the operator\n",
        "a=int(input(\"Enter the number :\"))\n",
        "b=int(input(\"Enter the number :\"))\n",
        "print(a is b)"
      ],
      "metadata": {
        "colab": {
          "base_uri": "https://localhost:8080/"
        },
        "id": "p7e7gJjvPMnf",
        "outputId": "92e4d6b2-38a7-4dea-c852-59f861d18be6"
      },
      "execution_count": null,
      "outputs": [
        {
          "output_type": "stream",
          "name": "stdout",
          "text": [
            "Enter the number :7\n",
            "Enter the number :7\n",
            "True\n"
          ]
        }
      ]
    },
    {
      "cell_type": "code",
      "source": [
        "#36. write a python program using is not operator\n",
        "a=int(input(\"Enter the number :\"))\n",
        "b=int(input(\"Enter the number :\"))\n",
        "print(a is not b)"
      ],
      "metadata": {
        "colab": {
          "base_uri": "https://localhost:8080/"
        },
        "id": "twmjSeE1P7X9",
        "outputId": "11655fc4-040b-4bb5-f1fc-b600a81a74b2"
      },
      "execution_count": null,
      "outputs": [
        {
          "output_type": "stream",
          "name": "stdout",
          "text": [
            "Enter the number :6\n",
            "Enter the number :4\n",
            "True\n"
          ]
        }
      ]
    },
    {
      "cell_type": "code",
      "source": [
        "#37. X=10 Y=3 Print\n",
        "'''X+y\n",
        "X\n",
        "X*y\n",
        "X//y\n",
        "X**y '''\n",
        "\n",
        "X=10\n",
        "Y=3\n",
        "sum=X+Y\n",
        "sub=X-Y\n",
        "prdt=X*Y\n",
        "flr=X//Y\n",
        "power=X**Y\n",
        "print(\"X+Y =\",sum)\n",
        "print(\"X-Y =\",sub)\n",
        "print(\"X*Y =\",prdt)\n",
        "print(\"X//Y =\",flr)\n",
        "print(\"X**Y =\",power)"
      ],
      "metadata": {
        "colab": {
          "base_uri": "https://localhost:8080/"
        },
        "id": "YrBbeff0QwpE",
        "outputId": "a2d83875-38ff-45b0-8689-d5b609f9a0d1"
      },
      "execution_count": null,
      "outputs": [
        {
          "output_type": "stream",
          "name": "stdout",
          "text": [
            "X+Y = 13\n",
            "X-Y = 7\n",
            "X*Y = 30\n",
            "X//Y = 3\n",
            "X**Y = 1000\n"
          ]
        }
      ]
    },
    {
      "cell_type": "code",
      "source": [
        "#38. Print 1-500 using while loops\n",
        "count=1\n",
        "while (count<=500):\n",
        "  print(count)\n",
        "  count+=1"
      ],
      "metadata": {
        "colab": {
          "base_uri": "https://localhost:8080/"
        },
        "id": "Rz1G7zqby7em",
        "outputId": "9946070a-048d-4a07-a23c-cbd6270c5410"
      },
      "execution_count": null,
      "outputs": [
        {
          "output_type": "stream",
          "name": "stdout",
          "text": [
            "1\n",
            "2\n",
            "3\n",
            "4\n",
            "5\n",
            "6\n",
            "7\n",
            "8\n",
            "9\n",
            "10\n",
            "11\n",
            "12\n",
            "13\n",
            "14\n",
            "15\n",
            "16\n",
            "17\n",
            "18\n",
            "19\n",
            "20\n",
            "21\n",
            "22\n",
            "23\n",
            "24\n",
            "25\n",
            "26\n",
            "27\n",
            "28\n",
            "29\n",
            "30\n",
            "31\n",
            "32\n",
            "33\n",
            "34\n",
            "35\n",
            "36\n",
            "37\n",
            "38\n",
            "39\n",
            "40\n",
            "41\n",
            "42\n",
            "43\n",
            "44\n",
            "45\n",
            "46\n",
            "47\n",
            "48\n",
            "49\n",
            "50\n",
            "51\n",
            "52\n",
            "53\n",
            "54\n",
            "55\n",
            "56\n",
            "57\n",
            "58\n",
            "59\n",
            "60\n",
            "61\n",
            "62\n",
            "63\n",
            "64\n",
            "65\n",
            "66\n",
            "67\n",
            "68\n",
            "69\n",
            "70\n",
            "71\n",
            "72\n",
            "73\n",
            "74\n",
            "75\n",
            "76\n",
            "77\n",
            "78\n",
            "79\n",
            "80\n",
            "81\n",
            "82\n",
            "83\n",
            "84\n",
            "85\n",
            "86\n",
            "87\n",
            "88\n",
            "89\n",
            "90\n",
            "91\n",
            "92\n",
            "93\n",
            "94\n",
            "95\n",
            "96\n",
            "97\n",
            "98\n",
            "99\n",
            "100\n",
            "101\n",
            "102\n",
            "103\n",
            "104\n",
            "105\n",
            "106\n",
            "107\n",
            "108\n",
            "109\n",
            "110\n",
            "111\n",
            "112\n",
            "113\n",
            "114\n",
            "115\n",
            "116\n",
            "117\n",
            "118\n",
            "119\n",
            "120\n",
            "121\n",
            "122\n",
            "123\n",
            "124\n",
            "125\n",
            "126\n",
            "127\n",
            "128\n",
            "129\n",
            "130\n",
            "131\n",
            "132\n",
            "133\n",
            "134\n",
            "135\n",
            "136\n",
            "137\n",
            "138\n",
            "139\n",
            "140\n",
            "141\n",
            "142\n",
            "143\n",
            "144\n",
            "145\n",
            "146\n",
            "147\n",
            "148\n",
            "149\n",
            "150\n",
            "151\n",
            "152\n",
            "153\n",
            "154\n",
            "155\n",
            "156\n",
            "157\n",
            "158\n",
            "159\n",
            "160\n",
            "161\n",
            "162\n",
            "163\n",
            "164\n",
            "165\n",
            "166\n",
            "167\n",
            "168\n",
            "169\n",
            "170\n",
            "171\n",
            "172\n",
            "173\n",
            "174\n",
            "175\n",
            "176\n",
            "177\n",
            "178\n",
            "179\n",
            "180\n",
            "181\n",
            "182\n",
            "183\n",
            "184\n",
            "185\n",
            "186\n",
            "187\n",
            "188\n",
            "189\n",
            "190\n",
            "191\n",
            "192\n",
            "193\n",
            "194\n",
            "195\n",
            "196\n",
            "197\n",
            "198\n",
            "199\n",
            "200\n",
            "201\n",
            "202\n",
            "203\n",
            "204\n",
            "205\n",
            "206\n",
            "207\n",
            "208\n",
            "209\n",
            "210\n",
            "211\n",
            "212\n",
            "213\n",
            "214\n",
            "215\n",
            "216\n",
            "217\n",
            "218\n",
            "219\n",
            "220\n",
            "221\n",
            "222\n",
            "223\n",
            "224\n",
            "225\n",
            "226\n",
            "227\n",
            "228\n",
            "229\n",
            "230\n",
            "231\n",
            "232\n",
            "233\n",
            "234\n",
            "235\n",
            "236\n",
            "237\n",
            "238\n",
            "239\n",
            "240\n",
            "241\n",
            "242\n",
            "243\n",
            "244\n",
            "245\n",
            "246\n",
            "247\n",
            "248\n",
            "249\n",
            "250\n",
            "251\n",
            "252\n",
            "253\n",
            "254\n",
            "255\n",
            "256\n",
            "257\n",
            "258\n",
            "259\n",
            "260\n",
            "261\n",
            "262\n",
            "263\n",
            "264\n",
            "265\n",
            "266\n",
            "267\n",
            "268\n",
            "269\n",
            "270\n",
            "271\n",
            "272\n",
            "273\n",
            "274\n",
            "275\n",
            "276\n",
            "277\n",
            "278\n",
            "279\n",
            "280\n",
            "281\n",
            "282\n",
            "283\n",
            "284\n",
            "285\n",
            "286\n",
            "287\n",
            "288\n",
            "289\n",
            "290\n",
            "291\n",
            "292\n",
            "293\n",
            "294\n",
            "295\n",
            "296\n",
            "297\n",
            "298\n",
            "299\n",
            "300\n",
            "301\n",
            "302\n",
            "303\n",
            "304\n",
            "305\n",
            "306\n",
            "307\n",
            "308\n",
            "309\n",
            "310\n",
            "311\n",
            "312\n",
            "313\n",
            "314\n",
            "315\n",
            "316\n",
            "317\n",
            "318\n",
            "319\n",
            "320\n",
            "321\n",
            "322\n",
            "323\n",
            "324\n",
            "325\n",
            "326\n",
            "327\n",
            "328\n",
            "329\n",
            "330\n",
            "331\n",
            "332\n",
            "333\n",
            "334\n",
            "335\n",
            "336\n",
            "337\n",
            "338\n",
            "339\n",
            "340\n",
            "341\n",
            "342\n",
            "343\n",
            "344\n",
            "345\n",
            "346\n",
            "347\n",
            "348\n",
            "349\n",
            "350\n",
            "351\n",
            "352\n",
            "353\n",
            "354\n",
            "355\n",
            "356\n",
            "357\n",
            "358\n",
            "359\n",
            "360\n",
            "361\n",
            "362\n",
            "363\n",
            "364\n",
            "365\n",
            "366\n",
            "367\n",
            "368\n",
            "369\n",
            "370\n",
            "371\n",
            "372\n",
            "373\n",
            "374\n",
            "375\n",
            "376\n",
            "377\n",
            "378\n",
            "379\n",
            "380\n",
            "381\n",
            "382\n",
            "383\n",
            "384\n",
            "385\n",
            "386\n",
            "387\n",
            "388\n",
            "389\n",
            "390\n",
            "391\n",
            "392\n",
            "393\n",
            "394\n",
            "395\n",
            "396\n",
            "397\n",
            "398\n",
            "399\n",
            "400\n",
            "401\n",
            "402\n",
            "403\n",
            "404\n",
            "405\n",
            "406\n",
            "407\n",
            "408\n",
            "409\n",
            "410\n",
            "411\n",
            "412\n",
            "413\n",
            "414\n",
            "415\n",
            "416\n",
            "417\n",
            "418\n",
            "419\n",
            "420\n",
            "421\n",
            "422\n",
            "423\n",
            "424\n",
            "425\n",
            "426\n",
            "427\n",
            "428\n",
            "429\n",
            "430\n",
            "431\n",
            "432\n",
            "433\n",
            "434\n",
            "435\n",
            "436\n",
            "437\n",
            "438\n",
            "439\n",
            "440\n",
            "441\n",
            "442\n",
            "443\n",
            "444\n",
            "445\n",
            "446\n",
            "447\n",
            "448\n",
            "449\n",
            "450\n",
            "451\n",
            "452\n",
            "453\n",
            "454\n",
            "455\n",
            "456\n",
            "457\n",
            "458\n",
            "459\n",
            "460\n",
            "461\n",
            "462\n",
            "463\n",
            "464\n",
            "465\n",
            "466\n",
            "467\n",
            "468\n",
            "469\n",
            "470\n",
            "471\n",
            "472\n",
            "473\n",
            "474\n",
            "475\n",
            "476\n",
            "477\n",
            "478\n",
            "479\n",
            "480\n",
            "481\n",
            "482\n",
            "483\n",
            "484\n",
            "485\n",
            "486\n",
            "487\n",
            "488\n",
            "489\n",
            "490\n",
            "491\n",
            "492\n",
            "493\n",
            "494\n",
            "495\n",
            "496\n",
            "497\n",
            "498\n",
            "499\n",
            "500\n"
          ]
        }
      ]
    },
    {
      "cell_type": "code",
      "source": [
        "#39. Write a program using the if,elif, and else statement\n",
        "a=int(input(\"Enter a number :\"))\n",
        "if a>0:\n",
        "  print(\"a is positive\")\n",
        "elif a<0:\n",
        "  print(\"a is negative\")\n",
        "else:\n",
        "  print(\"a is zero\")"
      ],
      "metadata": {
        "colab": {
          "base_uri": "https://localhost:8080/"
        },
        "id": "erzUDrbGzmDn",
        "outputId": "78acb096-6c71-45e6-c650-35a4f701e33f"
      },
      "execution_count": null,
      "outputs": [
        {
          "output_type": "stream",
          "name": "stdout",
          "text": [
            "Enter a number :56\n",
            "a is positive\n"
          ]
        }
      ]
    },
    {
      "cell_type": "code",
      "source": [
        "#40. Use continue statement in while loops\n",
        "a=int(input(\"Enter the limit :\"))\n",
        "count=0\n",
        "while count<a:\n",
        "  count=count+1\n",
        "  if count==7:\n",
        "    continue\n",
        "  print(\"Current value is :\",count)"
      ],
      "metadata": {
        "colab": {
          "base_uri": "https://localhost:8080/"
        },
        "id": "whqgFZ5c0iTg",
        "outputId": "fd11e3d5-073e-4227-d30a-e42e83e8085f"
      },
      "execution_count": null,
      "outputs": [
        {
          "output_type": "stream",
          "name": "stdout",
          "text": [
            "Enter the limit :10\n",
            "Current value is : 1\n",
            "Current value is : 2\n",
            "Current value is : 3\n",
            "Current value is : 4\n",
            "Current value is : 5\n",
            "Current value is : 6\n",
            "Current value is : 8\n",
            "Current value is : 9\n",
            "Current value is : 10\n"
          ]
        }
      ]
    },
    {
      "cell_type": "code",
      "source": [
        "#41. Use break statement in while loops\n",
        "count=1\n",
        "while(count<11):\n",
        "  if (count==5):\n",
        "    break\n",
        "  print(count)\n",
        "  count+=1"
      ],
      "metadata": {
        "colab": {
          "base_uri": "https://localhost:8080/"
        },
        "id": "tQeULBer22nK",
        "outputId": "9c106347-fd80-49c4-ee72-7df9230f5ef3"
      },
      "execution_count": null,
      "outputs": [
        {
          "output_type": "stream",
          "name": "stdout",
          "text": [
            "1\n",
            "2\n",
            "3\n",
            "4\n"
          ]
        }
      ]
    },
    {
      "cell_type": "code",
      "source": [
        "#42. create a list with items x=['apple','banana','cherry','grapes','kiwi','tomato','mango','orange','banana',True ,False,10,20,10.5] Find,\n",
        "'''X[0]\n",
        "X[5]\n",
        "X[-1]\n",
        "X[-2]\n",
        "X[3:10]\n",
        "X[2:11]\n",
        "X[::9]\n",
        "X[4::]\n",
        "X[2:10:2]\n",
        "X[1:11:3]\n",
        "X[::3]\n",
        "X[::-2]\n",
        "x[::-1]'''\n",
        "\n",
        "x=['apple','banana','cherry','grapes','kiwi','tomato','mango','orange','banana',True ,False,10,20,10.5]\n",
        "print(x[0])\n",
        "print(x[5])\n",
        "print(x[-1])\n",
        "print(x[-2])\n",
        "print(x[3:10])\n",
        "print(x[2:11])\n",
        "print(x[::9])\n",
        "print(x[4::])\n",
        "print(x[2:10:2])\n",
        "print(x[1:11:3])\n",
        "print(x[::3])\n",
        "print(x[::-2])\n",
        "print(x[::-1])"
      ],
      "metadata": {
        "colab": {
          "base_uri": "https://localhost:8080/"
        },
        "id": "VN9Kf2S_3qUQ",
        "outputId": "f7e099af-3246-47fc-f3da-f6f3a9eb4ac1"
      },
      "execution_count": null,
      "outputs": [
        {
          "output_type": "stream",
          "name": "stdout",
          "text": [
            "apple\n",
            "tomato\n",
            "10.5\n",
            "20\n",
            "['grapes', 'kiwi', 'tomato', 'mango', 'orange', 'banana', True]\n",
            "['cherry', 'grapes', 'kiwi', 'tomato', 'mango', 'orange', 'banana', True, False]\n",
            "['apple', True]\n",
            "['kiwi', 'tomato', 'mango', 'orange', 'banana', True, False, 10, 20, 10.5]\n",
            "['cherry', 'kiwi', 'mango', 'banana']\n",
            "['banana', 'kiwi', 'orange', False]\n",
            "['apple', 'grapes', 'mango', True, 20]\n",
            "[10.5, 10, True, 'orange', 'tomato', 'grapes', 'banana']\n",
            "[10.5, 20, 10, False, True, 'banana', 'orange', 'mango', 'tomato', 'kiwi', 'grapes', 'cherry', 'banana', 'apple']\n"
          ]
        }
      ]
    },
    {
      "cell_type": "code",
      "source": [
        "#43. write a python program to create a new list\n",
        "l = []\n",
        "n = int(input(\"Enter number of elements : \"))\n",
        "for i in range(0, n):\n",
        "    ele = int(input())\n",
        "    l.append(ele)\n",
        "\n",
        "print(l)"
      ],
      "metadata": {
        "colab": {
          "base_uri": "https://localhost:8080/"
        },
        "id": "xiRR42q65wva",
        "outputId": "9dbe0236-24bb-4843-b968-5cd8698ea908"
      },
      "execution_count": null,
      "outputs": [
        {
          "output_type": "stream",
          "name": "stdout",
          "text": [
            "Enter number of elements : 6\n",
            "12\n",
            "45\n",
            "67\n",
            "23\n",
            "9\n",
            "10\n",
            "[12, 45, 67, 23, 9, 10]\n"
          ]
        }
      ]
    },
    {
      "cell_type": "code",
      "source": [
        "#44. write a program to retrieve the first item from a list\n",
        "l= [23,54,83,28,8]\n",
        "print(\"l = \" + str(l))\n",
        "r= [l[0]]\n",
        "\n",
        "print(\"The first element of list is : \" + str(r))"
      ],
      "metadata": {
        "colab": {
          "base_uri": "https://localhost:8080/"
        },
        "id": "FfNlqOkB-TjL",
        "outputId": "b416278d-caac-4323-c169-dfd15687e5f1"
      },
      "execution_count": null,
      "outputs": [
        {
          "output_type": "stream",
          "name": "stdout",
          "text": [
            "l = [23, 54, 83, 28, 8]\n",
            "The first element of list is : [23]\n"
          ]
        }
      ]
    },
    {
      "cell_type": "code",
      "source": [
        "#45. write a program to determine the length of a list\n",
        "l= [56,34,67,98,12]\n",
        "n = len(l)\n",
        "print(\"The length of list is: \", n)"
      ],
      "metadata": {
        "colab": {
          "base_uri": "https://localhost:8080/"
        },
        "id": "zT6rGmkHA_1_",
        "outputId": "fe06f468-a0ae-403f-e037-a36c45fe6111"
      },
      "execution_count": null,
      "outputs": [
        {
          "output_type": "stream",
          "name": "stdout",
          "text": [
            "The length of list is:  5\n"
          ]
        }
      ]
    },
    {
      "cell_type": "code",
      "source": [
        "#46. write a python program to change the first item in a list\n",
        "l =[43,65,78,95,3]\n",
        "l[0]=30\n",
        "print(l)"
      ],
      "metadata": {
        "colab": {
          "base_uri": "https://localhost:8080/"
        },
        "id": "mCBWl0RsBlc5",
        "outputId": "ead1119c-9420-4e57-c4ea-5bd05bfee4d1"
      },
      "execution_count": null,
      "outputs": [
        {
          "output_type": "stream",
          "name": "stdout",
          "text": [
            "[30, 65, 78, 95, 3]\n"
          ]
        }
      ]
    },
    {
      "cell_type": "code",
      "source": [
        "#47. write a python program using negative indexing\n",
        "l=[4,5,8,9,2,7]\n",
        "print(\"l=\",l)\n",
        "print(l[-6])"
      ],
      "metadata": {
        "colab": {
          "base_uri": "https://localhost:8080/"
        },
        "id": "gyvSqGu8CkXz",
        "outputId": "1986a759-7fef-489c-d0a8-5bb14c0c810b"
      },
      "execution_count": null,
      "outputs": [
        {
          "output_type": "stream",
          "name": "stdout",
          "text": [
            "l= [4, 5, 8, 9, 2, 7]\n",
            "4\n"
          ]
        }
      ]
    },
    {
      "cell_type": "code",
      "source": [
        "#48. write a program to add a new item to the end of a list\n",
        "l = []\n",
        "n = int(input(\"Enter number of elements in the list: \"))\n",
        "for i in range(0, n):\n",
        "    e = int(input())\n",
        "    l.append(e)\n",
        "print(l)\n",
        "a=int(input(\"Enter the value to append :\"))\n",
        "l.append(a)\n",
        "print(l)"
      ],
      "metadata": {
        "colab": {
          "base_uri": "https://localhost:8080/"
        },
        "id": "41qqxN6fEJ9g",
        "outputId": "284fa788-56d9-4d8c-c61e-cfb9dfcfa50f"
      },
      "execution_count": null,
      "outputs": [
        {
          "output_type": "stream",
          "name": "stdout",
          "text": [
            "Enter number of elements in the list: 5\n",
            "24\n",
            "73\n",
            "46\n",
            "8\n",
            "2\n",
            "[24, 73, 46, 8, 2]\n",
            "Enter the value to append :17\n",
            "[24, 73, 46, 8, 2, 17]\n"
          ]
        }
      ]
    },
    {
      "cell_type": "code",
      "source": [
        "#49. create a list and display the list in reverse order\n",
        "l = []\n",
        "n = int(input(\"Enter number of elements in the list: \"))\n",
        "for i in range(0, n):\n",
        "    ele = int(input())\n",
        "    l.append(ele)\n",
        "\n",
        "print(\"Original list :\",l)\n",
        "reversed_list=l[::-1]\n",
        "print(\"Reversed list :\",reversed_list)"
      ],
      "metadata": {
        "colab": {
          "base_uri": "https://localhost:8080/"
        },
        "id": "pi_UTCLwEvfB",
        "outputId": "9ada4a14-ed5b-4f49-b6fc-43fa589ac209"
      },
      "execution_count": null,
      "outputs": [
        {
          "output_type": "stream",
          "name": "stdout",
          "text": [
            "Enter number of elements in the list: 5\n",
            "67\n",
            "45\n",
            "36\n",
            "74\n",
            "29\n",
            "Original list : [67, 45, 36, 74, 29]\n",
            "Reversed list : [29, 74, 36, 45, 67]\n"
          ]
        }
      ]
    },
    {
      "cell_type": "code",
      "source": [
        "#50. write a program to find the maximum value in a list\n",
        "l = []\n",
        "n = int(input(\"Enter number of elements in the list: \"))\n",
        "for i in range(0, n):\n",
        "    ele = int(input())\n",
        "    l.append(ele)\n",
        "\n",
        "print(\"list :\",l)\n",
        "max_val=l[0]\n",
        "for i in l:\n",
        "  if i>max_val:\n",
        "    max_val=i\n",
        "print(\"The maximum value in the list is :\",max_val)"
      ],
      "metadata": {
        "id": "QI4VZE0FHAnj",
        "colab": {
          "base_uri": "https://localhost:8080/"
        },
        "outputId": "656038a8-1d29-4409-9f44-28547c802dbd"
      },
      "execution_count": null,
      "outputs": [
        {
          "output_type": "stream",
          "name": "stdout",
          "text": [
            "Enter number of elements in the list: 4\n",
            "57\n",
            "98\n",
            "86\n",
            "46\n",
            "list : [57, 98, 86, 46]\n",
            "The maximum value in the list is : 98\n"
          ]
        }
      ]
    },
    {
      "cell_type": "code",
      "source": [
        "#51. write a program to display the index of an element in a list\n",
        "my_list = [45,67,98,34,27]\n",
        "print(my_list.index(34))"
      ],
      "metadata": {
        "colab": {
          "base_uri": "https://localhost:8080/"
        },
        "id": "VTZBgIx3IRHw",
        "outputId": "60735f36-db9f-4b1c-9334-7b06d8fcbb1d"
      },
      "execution_count": null,
      "outputs": [
        {
          "output_type": "stream",
          "name": "stdout",
          "text": [
            "3\n"
          ]
        }
      ]
    },
    {
      "cell_type": "code",
      "source": [
        "#52. write a program to count the occurrence of an Element in a list\n",
        "l=[]\n",
        "n=int(input(\"Enter size of list \"))\n",
        "for i in range(0,n):\n",
        "    e=int(input())\n",
        "    l.append(e)\n",
        "print(\"Original list: \",l)\n",
        "\n",
        "c=int(input(\"Enter element to be checked : \"))\n",
        "print(c,\" has occurred \",l.count(c),\"times\")"
      ],
      "metadata": {
        "colab": {
          "base_uri": "https://localhost:8080/"
        },
        "id": "iNu114gb6zD7",
        "outputId": "25c56da4-814f-42ff-fd9c-2899afc160b8"
      },
      "execution_count": null,
      "outputs": [
        {
          "output_type": "stream",
          "name": "stdout",
          "text": [
            "Enter size of list 6\n",
            "4\n",
            "2\n",
            "5\n",
            "6\n",
            "4\n",
            "2\n",
            "Original list:  [4, 2, 5, 6, 4, 2]\n",
            "Enter element to be checked : 4\n",
            "4  has occurred  2 times\n"
          ]
        }
      ]
    },
    {
      "cell_type": "code",
      "source": [
        "#53. create a nested list and display each item from the list"
      ],
      "metadata": {
        "id": "TcL_uoa5AHlg"
      },
      "execution_count": null,
      "outputs": []
    },
    {
      "cell_type": "code",
      "source": [
        "#54. Based on a list of fruits, create a new list, containing only the fruits with the letter \"a\" in the name.\n",
        "fruits = [\"apple\", \"banana\", \"cherry\", \"kiwi\", \"mango\"]\n",
        "newlist = []\n",
        "\n",
        "for i in fruits:\n",
        "  if \"a\" in i:\n",
        "    newlist.append(i)\n",
        "\n",
        "print(newlist)"
      ],
      "metadata": {
        "colab": {
          "base_uri": "https://localhost:8080/"
        },
        "id": "PDIGZ27NAqPE",
        "outputId": "af24245d-43af-4b9e-c717-7d465b56d38a"
      },
      "execution_count": null,
      "outputs": [
        {
          "output_type": "stream",
          "name": "stdout",
          "text": [
            "['apple', 'banana', 'mango']\n"
          ]
        }
      ]
    },
    {
      "cell_type": "code",
      "source": [
        "#55. fruits = [\"apple\", \"banana\", \"cherry\", \"kiwi\", \"mango\"] Based on a list of fruits, create a new list, Only accept items that are not \"kiwi\"\n",
        "fruits = [\"apple\", \"banana\", \"cherry\", \"kiwi\", \"mango\"]\n",
        "newlist = []\n",
        "\n",
        "for i in fruits:\n",
        "  if \"kiwi\" not in i:\n",
        "    newlist.append(i)\n",
        "\n",
        "print(newlist)"
      ],
      "metadata": {
        "colab": {
          "base_uri": "https://localhost:8080/"
        },
        "id": "2kVY_BrmBs_2",
        "outputId": "f85970c3-ab4a-4135-da4a-a28b64a6793a"
      },
      "execution_count": null,
      "outputs": [
        {
          "output_type": "stream",
          "name": "stdout",
          "text": [
            "['apple', 'banana', 'cherry', 'mango']\n"
          ]
        }
      ]
    },
    {
      "cell_type": "code",
      "source": [
        "#56. fruits = [\"apple\", \"banana\", \"cherry\", \"kiwi\", \"mango\"] Based on a list of fruits, create a new list, Set the values in the new list to upper case\n",
        "fruits = [\"apple\", \"banana\", \"cherry\", \"kiwi\", \"mango\"]\n",
        "newlist = str(fruits)\n",
        "print(newlist.upper())"
      ],
      "metadata": {
        "colab": {
          "base_uri": "https://localhost:8080/"
        },
        "id": "5GUCZQ3aCOkg",
        "outputId": "5ecfc294-8e6d-4681-ba50-d443dec7958c"
      },
      "execution_count": null,
      "outputs": [
        {
          "output_type": "stream",
          "name": "stdout",
          "text": [
            "['APPLE', 'BANANA', 'CHERRY', 'KIWI', 'MANGO']\n"
          ]
        }
      ]
    },
    {
      "cell_type": "code",
      "source": [
        "#57. create a list and iterate over the list\n",
        "list = [6,7,4,8,9,3]\n",
        "for i in list:\n",
        "    print(i)"
      ],
      "metadata": {
        "colab": {
          "base_uri": "https://localhost:8080/"
        },
        "id": "DjjvVVhDDGR2",
        "outputId": "3247e22f-4263-4b7a-8735-6588969fb315"
      },
      "execution_count": null,
      "outputs": [
        {
          "output_type": "stream",
          "name": "stdout",
          "text": [
            "6\n",
            "7\n",
            "4\n",
            "8\n",
            "9\n",
            "3\n"
          ]
        }
      ]
    },
    {
      "cell_type": "code",
      "source": [
        "#58. write a program using for loop with a break statement\n",
        "a=int(input(\"Enter the limit :\"))\n",
        "for i in range(0,a):\n",
        "  if i==8:\n",
        "    break\n",
        "  print(i)"
      ],
      "metadata": {
        "colab": {
          "base_uri": "https://localhost:8080/"
        },
        "id": "CX4Ez1p0DmT8",
        "outputId": "8ccb2488-d83b-47ed-fbb1-609e0f74655c"
      },
      "execution_count": null,
      "outputs": [
        {
          "output_type": "stream",
          "name": "stdout",
          "text": [
            "Enter the limit :15\n",
            "0\n",
            "1\n",
            "2\n",
            "3\n",
            "4\n",
            "5\n",
            "6\n",
            "7\n"
          ]
        }
      ]
    },
    {
      "cell_type": "code",
      "source": [
        "#59. write a program using for loop with a continue statement\n",
        "a=int(input(\"Enter the limit :\"))\n",
        "for i in range(0,a):\n",
        "  if i==4:\n",
        "    continue\n",
        "  print(i)"
      ],
      "metadata": {
        "colab": {
          "base_uri": "https://localhost:8080/"
        },
        "id": "GlnxcVTWGbeS",
        "outputId": "6f94e315-65f8-474b-9e35-988d515f3966"
      },
      "execution_count": null,
      "outputs": [
        {
          "output_type": "stream",
          "name": "stdout",
          "text": [
            "Enter the limit :8\n",
            "0\n",
            "1\n",
            "2\n",
            "3\n",
            "5\n",
            "6\n",
            "7\n"
          ]
        }
      ]
    },
    {
      "cell_type": "code",
      "source": [
        "#60. write a program using range function with starting parameter and increment parameter\n",
        "a=int(input(\"Enter the limit :\"))\n",
        "for i in range(0,a,3):\n",
        "  print(i)"
      ],
      "metadata": {
        "colab": {
          "base_uri": "https://localhost:8080/"
        },
        "id": "pXNutkLYGuWX",
        "outputId": "b28f6193-8b37-460e-d1d5-948554f87b5d"
      },
      "execution_count": null,
      "outputs": [
        {
          "output_type": "stream",
          "name": "stdout",
          "text": [
            "Enter the limit :25\n",
            "0\n",
            "3\n",
            "6\n",
            "9\n",
            "12\n",
            "15\n",
            "18\n",
            "21\n",
            "24\n"
          ]
        }
      ]
    },
    {
      "cell_type": "code",
      "source": [
        "#61. write a program to create a tuple\n",
        "t= (\"Athira\",23,\"valanchery\")\n",
        "print(t)"
      ],
      "metadata": {
        "colab": {
          "base_uri": "https://localhost:8080/"
        },
        "id": "GPuGhJzEHNrk",
        "outputId": "ddb73481-d0aa-471b-db9c-ccf8a90386ba"
      },
      "execution_count": null,
      "outputs": [
        {
          "output_type": "stream",
          "name": "stdout",
          "text": [
            "('Athira', 23, 'valanchery')\n"
          ]
        }
      ]
    },
    {
      "cell_type": "code",
      "source": [
        "#62. write a program to get the length of a tuple\n",
        "t=(1,2,3,4,5,6)\n",
        "print(len(t))"
      ],
      "metadata": {
        "colab": {
          "base_uri": "https://localhost:8080/"
        },
        "id": "pETIRcwYHRCs",
        "outputId": "48a7e25e-c81d-4c3e-878a-08ffae97ee99"
      },
      "execution_count": null,
      "outputs": [
        {
          "output_type": "stream",
          "name": "stdout",
          "text": [
            "6\n"
          ]
        }
      ]
    },
    {
      "cell_type": "code",
      "source": [
        "#63. write a program to return the data type of a tuple\n",
        "t=(34,56,78,35,60)\n",
        "print(type(t))"
      ],
      "metadata": {
        "colab": {
          "base_uri": "https://localhost:8080/"
        },
        "id": "772r-WDUK0st",
        "outputId": "88ce76fa-a981-46de-e1e0-946c76ee2c41"
      },
      "execution_count": null,
      "outputs": [
        {
          "output_type": "stream",
          "name": "stdout",
          "text": [
            "<class 'tuple'>\n"
          ]
        }
      ]
    },
    {
      "cell_type": "code",
      "source": [
        "#64. create a tuple with items kiwi, orange, grapes, apple, then add a new item (melon) to the first index\n",
        "mytuple = ('kiwi', 'orange', 'grapes', 'apple')\n",
        "mylist = [*mytuple,]\n",
        "mylist.insert(0,'melon')\n",
        "mylist=tuple(mylist)\n",
        "print(mylist)"
      ],
      "metadata": {
        "colab": {
          "base_uri": "https://localhost:8080/"
        },
        "id": "ceLOuvcNLtGV",
        "outputId": "419c39bb-33ec-4a55-932a-fe27360552e2"
      },
      "execution_count": null,
      "outputs": [
        {
          "output_type": "stream",
          "name": "stdout",
          "text": [
            "('melon', 'kiwi', 'orange', 'grapes', 'apple')\n"
          ]
        }
      ]
    },
    {
      "cell_type": "code",
      "source": [
        "#66. write a program to append an item to the tuple\n",
        "mytuple=(4,5,6,7)\n",
        "append_element=8\n",
        "new_tuple=mytuple+(append_element,)\n",
        "print(new_tuple)"
      ],
      "metadata": {
        "colab": {
          "base_uri": "https://localhost:8080/"
        },
        "id": "UW6qM1sNRFlN",
        "outputId": "d365bfba-423c-4bbb-8062-8d6e1fa9e728"
      },
      "execution_count": null,
      "outputs": [
        {
          "output_type": "stream",
          "name": "stdout",
          "text": [
            "(4, 5, 6, 7, 8)\n"
          ]
        }
      ]
    },
    {
      "cell_type": "code",
      "source": [
        "#67. write a program to remove an item from a tuple\n",
        "T = (4,76,23,65,9,67,25,15)\n",
        "print(\"Tuple = \", T)\n",
        "T = T[:3] + T[4:]\n",
        "print(\"After Removing 4th Tuple Item = \", T)"
      ],
      "metadata": {
        "id": "ax2RnJ7IXp4X",
        "colab": {
          "base_uri": "https://localhost:8080/"
        },
        "outputId": "2d9650c7-f1d5-42e8-b171-0b66cb5e22d4"
      },
      "execution_count": null,
      "outputs": [
        {
          "output_type": "stream",
          "name": "stdout",
          "text": [
            "Tuple =  (4, 76, 23, 65, 9, 67, 25, 15)\n",
            "After Removing 4th Tuple Item =  (4, 76, 23, 9, 67, 25, 15)\n"
          ]
        }
      ]
    },
    {
      "cell_type": "code",
      "source": [
        "#68. write a program to concatenate two tuples\n",
        "tup1=(2,3,5,8)\n",
        "tup2=(4,6,7,9)\n",
        "r=tup1+tup2\n",
        "print(\"Tuple after concatenation :\",r)"
      ],
      "metadata": {
        "colab": {
          "base_uri": "https://localhost:8080/"
        },
        "id": "b-KRRW8aumQ9",
        "outputId": "dc8d8ba5-95c1-4321-ca17-fcb72878d3fa"
      },
      "execution_count": null,
      "outputs": [
        {
          "output_type": "stream",
          "name": "stdout",
          "text": [
            "Tuple after concatenation : (2, 3, 5, 8, 4, 6, 7, 9)\n"
          ]
        }
      ]
    },
    {
      "cell_type": "code",
      "source": [
        "#69. write a program to extract the values from a tuple into variables\n",
        "my_tuple=(20,30,40)\n",
        "var1,var2,var3=my_tuple\n",
        "print(var1)\n",
        "print(var2)\n",
        "print(var3)"
      ],
      "metadata": {
        "id": "HutzK_kWvX1h",
        "colab": {
          "base_uri": "https://localhost:8080/"
        },
        "outputId": "07c5243d-8db3-4e26-bb16-f83e6cef733d"
      },
      "execution_count": null,
      "outputs": [
        {
          "output_type": "stream",
          "name": "stdout",
          "text": [
            "20\n",
            "30\n",
            "40\n"
          ]
        }
      ]
    },
    {
      "cell_type": "code",
      "source": [
        "#70. extract values from tuple using Asterix\n",
        "my_tup=(20,30,40,50,60,70)\n",
        "var1,var2,*rest_values=my_tup\n",
        "print(var1)\n",
        "print(var2)\n",
        "print(rest_values)"
      ],
      "metadata": {
        "id": "-4Vrdp4OvzMZ",
        "colab": {
          "base_uri": "https://localhost:8080/"
        },
        "outputId": "e541ab10-b9da-4dfa-ae77-a8f86f2d39d5"
      },
      "execution_count": null,
      "outputs": [
        {
          "output_type": "stream",
          "name": "stdout",
          "text": [
            "20\n",
            "30\n",
            "[40, 50, 60, 70]\n"
          ]
        }
      ]
    },
    {
      "cell_type": "code",
      "source": [
        "#71. count the number of occurrences of an item in a tuple\n",
        "T = (2,4,6,4,5,8,6,10)\n",
        "print(T)\n",
        "a=int(input(\"Enter the number to count the occurence :\"))\n",
        "count = T.count(a)\n",
        "print(\"Occurence:\",count,\"times\")"
      ],
      "metadata": {
        "colab": {
          "base_uri": "https://localhost:8080/"
        },
        "id": "sGVg-5OawITK",
        "outputId": "1c99e0de-e51c-4d2d-d092-313b12f53fda"
      },
      "execution_count": null,
      "outputs": [
        {
          "output_type": "stream",
          "name": "stdout",
          "text": [
            "(2, 4, 6, 4, 5, 8, 6, 10)\n",
            "Enter the number to count the occurence :6\n",
            "Occurence: 2 times\n"
          ]
        }
      ]
    },
    {
      "cell_type": "code",
      "source": [
        "#72. remove items from a tuple by using merge with +Character"
      ],
      "metadata": {
        "id": "LatS9kTqxIQO"
      },
      "execution_count": null,
      "outputs": []
    },
    {
      "cell_type": "code",
      "source": [
        "#73. slice a tuple using start-stop, step parameter\n",
        "t=(2,4,5,6,3,7,9,8)\n",
        "slice_t = t[3:5]\n",
        "print(slice_t)\n",
        "\n",
        "#74. slice a tuple with step parameter is negative\n",
        "slice_t= t[-8:-5]\n",
        "print(slice_t)"
      ],
      "metadata": {
        "colab": {
          "base_uri": "https://localhost:8080/"
        },
        "id": "qrNFe4I6yKkN",
        "outputId": "793b55a6-0704-4b2e-c222-68f9610df617"
      },
      "execution_count": null,
      "outputs": [
        {
          "output_type": "stream",
          "name": "stdout",
          "text": [
            "(6, 3)\n",
            "(2, 4, 5)\n"
          ]
        }
      ]
    },
    {
      "cell_type": "code",
      "source": [
        "#75. returns a tuple with a jump every 3 times\n",
        "mytuple=(1,2,3,4,5,6,7)\n",
        "print(mytuple[::3])"
      ],
      "metadata": {
        "id": "HzFisSPfzkLv",
        "colab": {
          "base_uri": "https://localhost:8080/"
        },
        "outputId": "72b2c78c-7a3c-4bf8-d1bb-5d0350f8121d"
      },
      "execution_count": null,
      "outputs": [
        {
          "output_type": "stream",
          "name": "stdout",
          "text": [
            "(1, 4, 7)\n"
          ]
        }
      ]
    },
    {
      "cell_type": "code",
      "source": [
        "#76. find the maximum value in a tuple\n",
        "t=(34,65,76,24,18,70)\n",
        "max_val=max(t)\n",
        "print(\"Maximum value of the tuple is :\",max_val)\n",
        "\n",
        "#77. Find min value in a tuple\n",
        "min_val=min(t)\n",
        "print(\"Minimum value of the tuple is :\",min_val)"
      ],
      "metadata": {
        "colab": {
          "base_uri": "https://localhost:8080/"
        },
        "id": "MnAxZdm70vse",
        "outputId": "0f70174f-3655-4102-b5d5-0026fa9adf8d"
      },
      "execution_count": null,
      "outputs": [
        {
          "output_type": "stream",
          "name": "stdout",
          "text": [
            "Maximum value of the tuple is : 76\n",
            "Minimum value of the tuple is : 18\n"
          ]
        }
      ]
    },
    {
      "cell_type": "code",
      "source": [
        "#78. find the sum of items in a tuple\n",
        "\n",
        "t=(1,2,3,4,5)\n",
        "total_sum=sum(t)\n",
        "print(\"Sum of tuple elements =\",total_sum)\n"
      ],
      "metadata": {
        "colab": {
          "base_uri": "https://localhost:8080/"
        },
        "id": "eTZ-khRb1lAz",
        "outputId": "b81ff625-d388-418e-9555-bee54b6ea347"
      },
      "execution_count": null,
      "outputs": [
        {
          "output_type": "stream",
          "name": "stdout",
          "text": [
            "Sum of tuple elements = 15\n"
          ]
        }
      ]
    },
    {
      "cell_type": "code",
      "source": [
        "#79. write a program to find the index of an item\n",
        "t=(2,5,6,8,3,7)\n",
        "print(t.index(8))"
      ],
      "metadata": {
        "colab": {
          "base_uri": "https://localhost:8080/"
        },
        "id": "6NvsAWo05q7f",
        "outputId": "afd465e4-04f9-4ff9-b146-010918d16db6"
      },
      "execution_count": null,
      "outputs": [
        {
          "output_type": "stream",
          "name": "stdout",
          "text": [
            "3\n"
          ]
        }
      ]
    },
    {
      "cell_type": "code",
      "source": [
        "#80. write a program to find the length of a set\n",
        "myset={1,3,5,6,7,8}\n",
        "print(len(myset))"
      ],
      "metadata": {
        "colab": {
          "base_uri": "https://localhost:8080/"
        },
        "id": "60gCLUcM7RRH",
        "outputId": "aae39616-58b6-4050-a045-b158808cbec0"
      },
      "execution_count": null,
      "outputs": [
        {
          "output_type": "stream",
          "name": "stdout",
          "text": [
            "6\n"
          ]
        }
      ]
    },
    {
      "cell_type": "code",
      "source": [
        "#81. write a program to create a set\n",
        "myset={3,4,6,7,8,9}\n",
        "print(myset)"
      ],
      "metadata": {
        "colab": {
          "base_uri": "https://localhost:8080/"
        },
        "id": "f1wT-k567rO3",
        "outputId": "c633a175-0d4e-4498-85a5-d650199f42fe"
      },
      "execution_count": null,
      "outputs": [
        {
          "output_type": "stream",
          "name": "stdout",
          "text": [
            "{3, 4, 6, 7, 8, 9}\n"
          ]
        }
      ]
    },
    {
      "cell_type": "code",
      "source": [
        "#82. write a program to remove an item from the set using the remove method\n",
        "myset={1,4,5,7,8,9}\n",
        "myset.remove(4)\n",
        "print(myset)"
      ],
      "metadata": {
        "colab": {
          "base_uri": "https://localhost:8080/"
        },
        "id": "9GbEXhcoAE8S",
        "outputId": "4d0c933a-dab9-4584-9d7d-c486ff34b3fd"
      },
      "execution_count": null,
      "outputs": [
        {
          "output_type": "stream",
          "name": "stdout",
          "text": [
            "{1, 5, 7, 8, 9}\n"
          ]
        }
      ]
    },
    {
      "cell_type": "code",
      "source": [
        "#83. write a program to add items from one set to another\n",
        "set1={5,7,8,9}\n",
        "set2={2,4,6,7}\n",
        "set1.update(set2)\n",
        "print(set1)"
      ],
      "metadata": {
        "colab": {
          "base_uri": "https://localhost:8080/"
        },
        "id": "--PA6509AJDZ",
        "outputId": "83623650-959d-4159-aea9-a59f3d8c0a93"
      },
      "execution_count": null,
      "outputs": [
        {
          "output_type": "stream",
          "name": "stdout",
          "text": [
            "{2, 4, 5, 6, 7, 8, 9}\n"
          ]
        }
      ]
    },
    {
      "cell_type": "code",
      "source": [
        "#84. write a program to join two sets\n",
        "set1={2,3,4,5}\n",
        "set2={5,6,7}\n",
        "union_set=set1.union(set2)\n",
        "print(union_set)"
      ],
      "metadata": {
        "colab": {
          "base_uri": "https://localhost:8080/"
        },
        "id": "PMj0kyYFAM5m",
        "outputId": "a6dc75a1-03b0-4dce-dc1b-234d0593bb7f"
      },
      "execution_count": null,
      "outputs": [
        {
          "output_type": "stream",
          "name": "stdout",
          "text": [
            "{2, 3, 4, 5, 6, 7}\n"
          ]
        }
      ]
    },
    {
      "cell_type": "code",
      "source": [
        "#85. write a program to remove an item from the set using the discard method\n",
        "myset={23,45,63,72,80}\n",
        "myset.discard(80)\n",
        "print(myset)"
      ],
      "metadata": {
        "colab": {
          "base_uri": "https://localhost:8080/"
        },
        "id": "QiLPr2ETAOEx",
        "outputId": "ec182a42-6992-4baf-96cd-154c16aaad7d"
      },
      "execution_count": null,
      "outputs": [
        {
          "output_type": "stream",
          "name": "stdout",
          "text": [
            "{23, 72, 45, 63}\n"
          ]
        }
      ]
    },
    {
      "cell_type": "code",
      "source": [
        "#86. write a program to add an item to a set\n",
        "myset={19,48,27,49,16}\n",
        "myset.add(33)\n",
        "print(myset)"
      ],
      "metadata": {
        "colab": {
          "base_uri": "https://localhost:8080/"
        },
        "id": "QHKZehp7AUfA",
        "outputId": "07042292-107c-41e2-8441-049a5b36b835"
      },
      "execution_count": null,
      "outputs": [
        {
          "output_type": "stream",
          "name": "stdout",
          "text": [
            "{48, 16, 49, 19, 33, 27}\n"
          ]
        }
      ]
    },
    {
      "cell_type": "code",
      "source": [
        "#87. write a program using the symmetric difference method\n",
        "setA= {'a','b','c','d'}\n",
        "setB= {'c','d','e'}\n",
        "result=setA.symmetric_difference(setB)\n",
        "print(result)"
      ],
      "metadata": {
        "colab": {
          "base_uri": "https://localhost:8080/"
        },
        "id": "7xH547uKAYXw",
        "outputId": "0ba8dd39-2c00-43f1-c172-f8578032f2b5"
      },
      "execution_count": null,
      "outputs": [
        {
          "output_type": "stream",
          "name": "stdout",
          "text": [
            "{'e', 'b', 'a'}\n"
          ]
        }
      ]
    },
    {
      "cell_type": "code",
      "source": [
        "#88. write a program using the intersection update method\n",
        "A = {1,2,3,4}\n",
        "B = {1,2,3,4,5,6}\n",
        "C = {1,4,5,6,9,10}\n",
        "A.intersection_update(B, C)\n",
        "print('A =', A)\n",
        "print('B =', B)\n",
        "print('C =', C)"
      ],
      "metadata": {
        "colab": {
          "base_uri": "https://localhost:8080/"
        },
        "id": "-cUDCWvFAbYP",
        "outputId": "ab4d24cd-4d2f-41aa-92f5-1b834fc60870"
      },
      "execution_count": null,
      "outputs": [
        {
          "output_type": "stream",
          "name": "stdout",
          "text": [
            "A = {1, 4}\n",
            "B = {1, 2, 3, 4, 5, 6}\n",
            "C = {1, 4, 5, 6, 9, 10}\n"
          ]
        }
      ]
    },
    {
      "cell_type": "code",
      "source": [
        "#89. Write a Python script to add a key to a dictionary\n",
        "my_dict={'name':'Athira','age':23}\n",
        "my_dict['place']='Valanchery'\n",
        "print(my_dict)"
      ],
      "metadata": {
        "colab": {
          "base_uri": "https://localhost:8080/"
        },
        "id": "VoK5V971AfCn",
        "outputId": "b585f536-316a-4a79-ba85-caac32381b5c"
      },
      "execution_count": null,
      "outputs": [
        {
          "output_type": "stream",
          "name": "stdout",
          "text": [
            "{'name': 'Athira', 'age': 23, 'place': 'Valanchery'}\n"
          ]
        }
      ]
    },
    {
      "cell_type": "code",
      "source": [
        "#90. Write a Python script to check whether a given key already exists in a dictionary.\n",
        "mydict = {1: 10, 2: 20, 3: 30, 4: 40, 5: 50, 6: 60}\n",
        "key=int(input(\"Enter the key to search :\"))\n",
        "if key in mydict:\n",
        "   print('Key is present in the dictionary')\n",
        "else:\n",
        "   print('Key is not present in the dictionary')\n"
      ],
      "metadata": {
        "colab": {
          "base_uri": "https://localhost:8080/"
        },
        "id": "bUpHTon0AfT1",
        "outputId": "87896df3-44ed-45b9-98a2-6e8e049921d3"
      },
      "execution_count": null,
      "outputs": [
        {
          "output_type": "stream",
          "name": "stdout",
          "text": [
            "Enter the key to search :5\n",
            "Key is present in the dictionary\n"
          ]
        }
      ]
    },
    {
      "cell_type": "code",
      "source": [
        "#91. Write a Python program to get the key, value, and item in a dictionary.\n",
        "contactlist={}\n",
        "n=int(input(\"Enter the number of contacts : \"))\n",
        "for i in range(1,n+1):\n",
        "\tname=input(\"Enter the contact name :\")\n",
        "\tphno=int(input(\"Enter the phone number :\"))\n",
        "\tcontactlist[name]=phno\n",
        "print(\"Keys\")\n",
        "for x in contactlist.keys():\n",
        "\tprint(x)\n",
        "print(\"Values\")\n",
        "for x in contactlist.values():\n",
        "\tprint(x)\n",
        "print(\"Keys-value pairs\")\n",
        "for x,y in contactlist.items():\n",
        "\tprint(x,\"-\",y)"
      ],
      "metadata": {
        "id": "KG8-mIxIIpGn",
        "colab": {
          "base_uri": "https://localhost:8080/"
        },
        "outputId": "7027a9e2-c8cb-4dfc-d849-9c32f239e92a"
      },
      "execution_count": null,
      "outputs": [
        {
          "output_type": "stream",
          "name": "stdout",
          "text": [
            "Enter the number of contacts : 1\n",
            "Enter the contact name :Athira\n",
            "Enter the phone number :9946949353\n",
            "Keys\n",
            "Athira\n",
            "Values\n",
            "9946949353\n",
            "Keys-value pairs\n",
            "Athira - 9946949353\n"
          ]
        }
      ]
    },
    {
      "cell_type": "code",
      "source": [
        "#92. print the value of the \"model\" key of the car dictionary using the get method car = {\"brand\": \"Ford\",\"model\": \"Mustang\",\"year\": 1964}\n",
        " #Change the \"year\" value from 1964 to 2020. in the above dictionary\n",
        "mydict={'brand':'ford','model':'mustang','year':1964}\n",
        "print(\"mydict :\",mydict)\n",
        "mydict['year']=2020\n",
        "print(\"mydict after change :\",mydict)"
      ],
      "metadata": {
        "id": "bMGvvmdVHTgx",
        "colab": {
          "base_uri": "https://localhost:8080/"
        },
        "outputId": "5483cf48-02a8-44bb-fb58-8b70ddf19abc"
      },
      "execution_count": null,
      "outputs": [
        {
          "output_type": "stream",
          "name": "stdout",
          "text": [
            "mydict : {'brand': 'ford', 'model': 'mustang', 'year': 1964}\n",
            "mydict after change : {'brand': 'ford', 'model': 'mustang', 'year': 2020}\n"
          ]
        }
      ]
    },
    {
      "cell_type": "code",
      "source": [
        "#94. Write a Python program to remove a key from a dictionary.\n",
        "mydict={'Name':'Athira','Age':23,'Place':'Valanchery'}\n",
        "del mydict['Place']\n",
        "print(mydict)"
      ],
      "metadata": {
        "id": "UlF-zm9nHlJh",
        "colab": {
          "base_uri": "https://localhost:8080/"
        },
        "outputId": "1614fe1c-a7b5-41f4-9c03-224bc1052317"
      },
      "execution_count": null,
      "outputs": [
        {
          "output_type": "stream",
          "name": "stdout",
          "text": [
            "{'Name': 'Athira', 'Age': 23}\n"
          ]
        }
      ]
    },
    {
      "cell_type": "code",
      "source": [
        "#95. create a dictionary using the dict constructor\n",
        "my_dict = dict([('Name', 'Athira'), ('Age', 23), ('Place', 'valanchery')])\n",
        "print(my_dict)"
      ],
      "metadata": {
        "colab": {
          "base_uri": "https://localhost:8080/"
        },
        "id": "0NLDmm-CA6kC",
        "outputId": "99cb010d-c581-4926-d00d-6631a90c6c72"
      },
      "execution_count": null,
      "outputs": [
        {
          "output_type": "stream",
          "name": "stdout",
          "text": [
            "{'Name': 'Athira', 'Age': 23, 'Place': 'valanchery'}\n"
          ]
        }
      ]
    },
    {
      "cell_type": "code",
      "source": [
        "#96. write a program with a dictionary update method\n",
        "mydict={'Name':'Athira','Age':23}\n",
        "mydict['Place']='Valanchery'\n",
        "print(mydict)"
      ],
      "metadata": {
        "id": "NtIpvug_HuJT",
        "colab": {
          "base_uri": "https://localhost:8080/"
        },
        "outputId": "fce428a9-49f2-4973-8e58-f691ad6c7ad3"
      },
      "execution_count": null,
      "outputs": [
        {
          "output_type": "stream",
          "name": "stdout",
          "text": [
            "{'Name': 'Athira', 'Age': 23, 'Place': 'Valanchery'}\n"
          ]
        }
      ]
    },
    {
      "cell_type": "code",
      "source": [
        "#97. write a program to remove the last inserted item from a dictionary\n",
        "mydict={'Name':'Athira','Age':23,'Place':'Valanchery'}\n",
        "removed_item=mydict.popitem()\n",
        "print(mydict)"
      ],
      "metadata": {
        "id": "NXcq1xA2HyDg",
        "colab": {
          "base_uri": "https://localhost:8080/"
        },
        "outputId": "27779234-33b6-46f8-d22d-21039238ae0c"
      },
      "execution_count": null,
      "outputs": [
        {
          "output_type": "stream",
          "name": "stdout",
          "text": [
            "{'Name': 'Athira', 'Age': 23}\n"
          ]
        }
      ]
    },
    {
      "cell_type": "code",
      "source": [
        "#98. write a program to empty a dictionary\n",
        "mydict={'Name':'Athira','Age':23,'Place':'Valanchery'}\n",
        "mydict.clear()\n",
        "print(mydict)"
      ],
      "metadata": {
        "id": "qajTklgeH2uy",
        "colab": {
          "base_uri": "https://localhost:8080/"
        },
        "outputId": "9dace802-c3db-4612-f55a-18008b8e9193"
      },
      "execution_count": null,
      "outputs": [
        {
          "output_type": "stream",
          "name": "stdout",
          "text": [
            "{}\n"
          ]
        }
      ]
    },
    {
      "cell_type": "code",
      "source": [
        "#99. write a program to copy a dictionary\n",
        "mydict={'name': 'Athira', 'age': 23, 'city': 'Valanchery'}\n",
        "print(\"original dictionary:\",mydict)\n",
        "dicts=dict(mydict)\n",
        "print(\"copied dictionary:\",dicts)"
      ],
      "metadata": {
        "id": "K7g5pmPtH7Qv",
        "colab": {
          "base_uri": "https://localhost:8080/"
        },
        "outputId": "342676a7-0bf1-4833-9b4e-d3d1c0928ab5"
      },
      "execution_count": null,
      "outputs": [
        {
          "output_type": "stream",
          "name": "stdout",
          "text": [
            "original dictionary: {'name': 'Athira', 'age': 23, 'city': 'Valanchery'}\n",
            "copied dictionary: {'name': 'Athira', 'age': 23, 'city': 'Valanchery'}\n"
          ]
        }
      ]
    },
    {
      "cell_type": "code",
      "source": [
        "#dictionary\n",
        "mydict={1:1,2:4,3:9,4:16}\n",
        "print(mydict)\n",
        "print(mydict[3])\n",
        "mydict[3]=90\n",
        "print(mydict)"
      ],
      "metadata": {
        "colab": {
          "base_uri": "https://localhost:8080/"
        },
        "id": "85WzK8BJB-bv",
        "outputId": "6b1d8c92-cd05-416c-a6c1-2b7141d78cbb"
      },
      "execution_count": null,
      "outputs": [
        {
          "output_type": "stream",
          "name": "stdout",
          "text": [
            "{1: 1, 2: 4, 3: 9, 4: 16}\n",
            "9\n",
            "{1: 1, 2: 4, 3: 90, 4: 16}\n"
          ]
        }
      ]
    },
    {
      "cell_type": "code",
      "source": [
        "#creating a dictionary\n",
        "my_dict={'name':'John','age':30,'city':'New York'}\n",
        "\n",
        "#accessing values\n",
        "print(my_dict['name'])\n",
        "\n",
        "#updating values\n",
        "my_dict['age']=31\n",
        "print(my_dict)\n",
        "\n",
        "#addind new key-value pair\n",
        "my_dict['occupation']='Engineer'\n",
        "print(my_dict)\n",
        "\n",
        "#deleting a key-value pair\n",
        "del my_dict['city']\n",
        "print(my_dict)\n",
        "\n",
        "#using keys(), values(), and items()\n",
        "keys_list=my_dict.keys()\n",
        "values_list=my_dict.values()\n",
        "items_list=my_dict.items()\n",
        "print(keys_list)\n",
        "print(values_list)\n",
        "print(items_list)\n",
        "\n",
        "#using get()\n",
        "value=my_dict.get('age','N/A')\n",
        "print(value)\n",
        "value=my_dict.get('salary','N/A')\n",
        "print(value)\n",
        "\n",
        "#using pop()\n",
        "removed_value=my_dict.pop('age')\n",
        "print(removed_value)\n",
        "print(my_dict)\n",
        "\n",
        "#using popitem()\n",
        "removed_item=my_dict.popitem()\n",
        "print(removed_item)\n",
        "print(my_dict)\n",
        "\n",
        "#using clear()\n",
        "my_dict.clear()\n",
        "print(my_dict)\n",
        "\n",
        "#using update\n",
        "my_dict.update({'country':'USA','age':30})\n",
        "print(my_dict)"
      ],
      "metadata": {
        "colab": {
          "base_uri": "https://localhost:8080/"
        },
        "id": "faYenF_hG8cG",
        "outputId": "a1b9f56e-1af0-4dfc-f017-17d02303f5be"
      },
      "execution_count": null,
      "outputs": [
        {
          "output_type": "stream",
          "name": "stdout",
          "text": [
            "John\n",
            "{'name': 'John', 'age': 31, 'city': 'New York'}\n",
            "{'name': 'John', 'age': 31, 'city': 'New York', 'occupation': 'Engineer'}\n",
            "{'name': 'John', 'age': 31, 'occupation': 'Engineer'}\n",
            "dict_keys(['name', 'age', 'occupation'])\n",
            "dict_values(['John', 31, 'Engineer'])\n",
            "dict_items([('name', 'John'), ('age', 31), ('occupation', 'Engineer')])\n",
            "31\n",
            "N/A\n",
            "31\n",
            "{'name': 'John', 'occupation': 'Engineer'}\n",
            "('occupation', 'Engineer')\n",
            "{'name': 'John'}\n",
            "{}\n",
            "{'country': 'USA', 'age': 30}\n"
          ]
        }
      ]
    },
    {
      "cell_type": "code",
      "source": [
        "a=[\"apple\",\"orange\",\"banana\"]\n"
      ],
      "metadata": {
        "id": "I9dsi0VxYRCB"
      },
      "execution_count": null,
      "outputs": []
    },
    {
      "cell_type": "code",
      "source": [
        "#write python program to reverse a string\n",
        "string=input(\"Enter the string :\")\n",
        "reverse=\"\"\n",
        "for i in string:\n",
        "  reverse=i+reverse\n",
        "print(\"Reversed string =\",reverse)"
      ],
      "metadata": {
        "id": "qIGe4lS7Xq7D",
        "colab": {
          "base_uri": "https://localhost:8080/"
        },
        "outputId": "18b0c530-f6f3-4135-a9bb-564eb03d1673"
      },
      "execution_count": null,
      "outputs": [
        {
          "output_type": "stream",
          "name": "stdout",
          "text": [
            "Enter the string :python\n",
            "Reversed string = nohtyp\n"
          ]
        }
      ]
    },
    {
      "cell_type": "code",
      "source": [
        "#write a function to find the longest word in a sentence\n",
        "s=input(\"Enter the sentence :\")\n",
        "word=s.split()\n",
        "for i in word:\n",
        "  longest= max(word,key=len)\n",
        "print(\"The longest word in the sentence is \",longest)"
      ],
      "metadata": {
        "id": "G7LHQ4rsYvC8",
        "colab": {
          "base_uri": "https://localhost:8080/"
        },
        "outputId": "742079b7-80ac-4515-8371-9b8eaf9b7cc6"
      },
      "execution_count": null,
      "outputs": [
        {
          "output_type": "stream",
          "name": "stdout",
          "text": [
            "Enter the sentence :Welcome to python programming\n",
            "The longest word in the sentence is  programming\n"
          ]
        }
      ]
    },
    {
      "cell_type": "code",
      "source": [
        "#create a function to remove all even numbers from a list\n",
        "l=[12,13,45,63,29,78]\n",
        "for i in l:\n",
        "  if (i%2==0):\n",
        "    l.remove(i)\n",
        "print(l)"
      ],
      "metadata": {
        "colab": {
          "base_uri": "https://localhost:8080/"
        },
        "id": "9EmsL7FFaX1j",
        "outputId": "f35cc3e2-8fe5-49ce-8ed8-a0a44e6ed040"
      },
      "execution_count": null,
      "outputs": [
        {
          "output_type": "stream",
          "name": "stdout",
          "text": [
            "[13, 45, 63, 29]\n"
          ]
        }
      ]
    },
    {
      "cell_type": "code",
      "source": [
        "#Write a program to shuffle the elements of a list randomly\n",
        "import random\n",
        "\n",
        "my_list=input(\"Enter the input\").split()\n",
        "print(\"original list\",my_list)\n",
        "\n",
        "random.shuffle(my_list)\n",
        "print(\"shuffled list\",my_list)"
      ],
      "metadata": {
        "id": "O4ecgp81cNqb",
        "colab": {
          "base_uri": "https://localhost:8080/"
        },
        "outputId": "911ff81e-5134-48a2-c8aa-546889b2c37d"
      },
      "execution_count": null,
      "outputs": [
        {
          "output_type": "stream",
          "name": "stdout",
          "text": [
            "Enter the input1 2 3 4\n",
            "original list ['1', '2', '3', '4']\n",
            "shuffled list ['3', '4', '1', '2']\n"
          ]
        }
      ]
    },
    {
      "cell_type": "code",
      "source": [
        "#Create a function to find the keys with the highest values in a dictionary\n"
      ],
      "metadata": {
        "id": "_hiKBBeLePUk"
      },
      "execution_count": null,
      "outputs": []
    },
    {
      "cell_type": "code",
      "source": [
        "#How can you check if a key exists in a dictionary\n",
        "my_dict={'name': 'John', 'age': 25, 'city': 'New York'}\n",
        "key=input(\"Enter the key to check :\")\n",
        "if key in my_dict:\n",
        "  print(\"The key exists in the dictionary\")\n",
        "else:\n",
        "  print(\"The key do not exists in the dictionary\")"
      ],
      "metadata": {
        "id": "dw7H2mRqfaYp",
        "colab": {
          "base_uri": "https://localhost:8080/"
        },
        "outputId": "d07f6054-4527-4a2a-d2e2-2e6a8a64e7d9"
      },
      "execution_count": null,
      "outputs": [
        {
          "output_type": "stream",
          "name": "stdout",
          "text": [
            "Enter the key to check :name\n",
            "The key exists in the dictionary\n"
          ]
        }
      ]
    },
    {
      "cell_type": "code",
      "source": [
        "#Write a program to count the frequency of words in a text using a dictionary\n",
        "text = input(\"Enter the text : \")\n",
        "words = []\n",
        "text=text.lower()\n",
        "words = text.split()\n",
        "mydict = {}\n",
        "for key in words:\n",
        "    mydict[key] = words.count(key)\n",
        "\n",
        "print(\"Dictionary Items  :  \",  mydict)"
      ],
      "metadata": {
        "colab": {
          "base_uri": "https://localhost:8080/"
        },
        "id": "T5M3Hctm1frL",
        "outputId": "1fa5b907-539f-4371-c08a-4f65d9ee8ea9"
      },
      "execution_count": null,
      "outputs": [
        {
          "output_type": "stream",
          "name": "stdout",
          "text": [
            "Enter the text : Hi hello hi\n",
            "Dictionary Items  :   {'hi': 2, 'hello': 1}\n"
          ]
        }
      ]
    },
    {
      "cell_type": "code",
      "source": [
        "#Create a function to remove a key-value pair from a dictionary\n",
        "my_dict={'name':'Athira','age':23,'place':'valanchery'}\n",
        "print(my_dict)\n",
        "del my_dict['place']\n",
        "print(my_dict)\n"
      ],
      "metadata": {
        "colab": {
          "base_uri": "https://localhost:8080/"
        },
        "id": "UuSUmgFEfxI0",
        "outputId": "7eca4e70-5aa5-41cf-aeb7-ad6e3367b52c"
      },
      "execution_count": null,
      "outputs": [
        {
          "output_type": "stream",
          "name": "stdout",
          "text": [
            "{'name': 'Athira', 'age': 23, 'place': 'valanchery'}\n",
            "{'name': 'Athira', 'age': 23}\n"
          ]
        }
      ]
    },
    {
      "cell_type": "code",
      "source": [
        "#Function\n",
        "def fact():\n",
        "  a=int(input(\"Enter the number: \"))\n",
        "  fact=1\n",
        "  for i in range(1,a+1):\n",
        "    fact=fact*i\n",
        "  print(fact)\n",
        "\n",
        "fact()"
      ],
      "metadata": {
        "colab": {
          "base_uri": "https://localhost:8080/"
        },
        "id": "wY5KTME5cY7v",
        "outputId": "c534ef83-be8e-4c9b-b4e7-abecc6854b9d"
      },
      "execution_count": null,
      "outputs": [
        {
          "output_type": "stream",
          "name": "stdout",
          "text": [
            "Enter the number: 6\n",
            "720\n"
          ]
        }
      ]
    },
    {
      "cell_type": "code",
      "source": [
        "#default parameter passing\n",
        "def sum(a,b):\n",
        "  c=a+b\n",
        "  return c\n",
        "sum(345,876)"
      ],
      "metadata": {
        "colab": {
          "base_uri": "https://localhost:8080/"
        },
        "id": "xD4Z_2PqjEYU",
        "outputId": "1319f616-0db9-4eff-c56c-bc8d8c90aa5e"
      },
      "execution_count": null,
      "outputs": [
        {
          "output_type": "execute_result",
          "data": {
            "text/plain": [
              "1221"
            ]
          },
          "metadata": {},
          "execution_count": 26
        }
      ]
    },
    {
      "cell_type": "code",
      "source": [
        "#keyword parameter passing\n",
        "def sum(a=243,b=12):\n",
        "  c=a+b\n",
        "  return c\n",
        "sum()"
      ],
      "metadata": {
        "colab": {
          "base_uri": "https://localhost:8080/"
        },
        "id": "fFWrioRXjpEF",
        "outputId": "3deb501d-a423-4c76-9573-9fb897cc887f"
      },
      "execution_count": null,
      "outputs": [
        {
          "output_type": "execute_result",
          "data": {
            "text/plain": [
              "255"
            ]
          },
          "metadata": {},
          "execution_count": 17
        }
      ]
    },
    {
      "cell_type": "code",
      "source": [
        "#arbitaryarguements parameter passing\n",
        "def sum(*a):\n",
        "  print(a)\n",
        "sum(1,2,3,4,5,6)"
      ],
      "metadata": {
        "colab": {
          "base_uri": "https://localhost:8080/"
        },
        "id": "ooMBm58-j9dN",
        "outputId": "630c533d-c62e-402a-a165-267ae0536c44"
      },
      "execution_count": null,
      "outputs": [
        {
          "output_type": "stream",
          "name": "stdout",
          "text": [
            "(1, 2, 3, 4, 5, 6)\n"
          ]
        }
      ]
    },
    {
      "cell_type": "code",
      "source": [
        "#reference parameter passing\n",
        "def sum(a):\n",
        "  print(a)\n",
        "\n",
        "r=10\n",
        "sum(r)"
      ],
      "metadata": {
        "colab": {
          "base_uri": "https://localhost:8080/"
        },
        "id": "fLQokf9SqJsi",
        "outputId": "95dd3523-1872-4dcc-f157-8c2fb5229329"
      },
      "execution_count": null,
      "outputs": [
        {
          "output_type": "stream",
          "name": "stdout",
          "text": [
            "10\n"
          ]
        }
      ]
    },
    {
      "cell_type": "code",
      "source": [
        "#keyword arbitary parameter passing\n",
        "def word(**x):\n",
        "  print(x)\n",
        "\n",
        "word(name=\"Athira\",age=\"23\")"
      ],
      "metadata": {
        "colab": {
          "base_uri": "https://localhost:8080/"
        },
        "id": "kLIdEhlrqixk",
        "outputId": "72243ac6-4ec7-4e74-8d54-b35e298ec78e"
      },
      "execution_count": null,
      "outputs": [
        {
          "output_type": "stream",
          "name": "stdout",
          "text": [
            "{'name': 'Athira', 'age': '23'}\n"
          ]
        }
      ]
    },
    {
      "cell_type": "code",
      "source": [
        "#Write a Python program that includes functions to convert temperatures between Celsius and Fahrenheit.\n",
        "user_input=input(\"Select the temperature: \\n1. Celsius to Fahrenheit \\n2. Fahrenheit to Celsius \\nEnter the choice(1/2) : \")\n",
        "def converter():\n",
        "  if user_input=='1':\n",
        "    celsius=float(input(\"Enter the temperature :\"))\n",
        "    fahrenheit=(celsius*9/5)+32\n",
        "    print(f\"Converting celsius {celsius} to fahrenheit is {fahrenheit}\")\n",
        "  elif user_input=='2':\n",
        "    fahrenheit=float(input(\"Enter the temperature :\"))\n",
        "    cesius=(fahrenheit-32)*5/9\n",
        "    print(f\"Converting fahrenheit {fahrenheit} to celsius is {celsius}\")\n",
        "converter()"
      ],
      "metadata": {
        "id": "itMGH7dsFcpJ",
        "colab": {
          "base_uri": "https://localhost:8080/"
        },
        "outputId": "6f931b1e-46f8-4471-e817-13404b1a377f"
      },
      "execution_count": null,
      "outputs": [
        {
          "output_type": "stream",
          "name": "stdout",
          "text": [
            "Select the temperature: \n",
            "1. Celsius to Fahrenheit \n",
            "2. Fahrenheit to Celsius \n",
            "Enter the choice(1/2) : 1\n",
            "Enter the temperature :50\n",
            "Converting celsius 50.0 to fahrenheit is 122.0\n"
          ]
        }
      ]
    },
    {
      "cell_type": "code",
      "source": [
        "#Create a function to check if a given word or phrase is a palindrome (reads the same backward as forward).\n",
        "def palindrome():\n",
        "  word=input(\"Enter the word :\")\n",
        "  rev=\"\"\n",
        "  for i in word:\n",
        "    rev=i+rev\n",
        "  if (word==rev):\n",
        "    print(\"palindrome\")\n",
        "  else:\n",
        "    print(\"Not Palindrome\")\n",
        "\n",
        "palindrome()"
      ],
      "metadata": {
        "colab": {
          "base_uri": "https://localhost:8080/"
        },
        "id": "PHLhj9Zu5fU2",
        "outputId": "0847105f-517a-41fd-e485-057cc85cd130"
      },
      "execution_count": null,
      "outputs": [
        {
          "output_type": "stream",
          "name": "stdout",
          "text": [
            "Enter the word :malayalam\n",
            "palindrome\n"
          ]
        }
      ]
    },
    {
      "cell_type": "code",
      "source": [
        "#List Manipulation:\n",
        "#Write a program with functions to:\n",
        "#Find the maximum element in a list.\n",
        "user_input=input(\"Enter the numbers separated by spaces :\")\n",
        "new_input=user_input.split()\n",
        "\n",
        "def largest_number():\n",
        "  numbers=[]\n",
        "  for i in new_input:\n",
        "    num=int(i)\n",
        "    numbers.append(num)\n",
        "  if numbers:\n",
        "    sorted_number=sorted(numbers, reverse=True)\n",
        "  if len(numbers)>1:\n",
        "    largest_number=sorted_number[0]\n",
        "  print(f\"The entered elements in list : {numbers}\")\n",
        "  print(f\"The list in descending order : {sorted_number}\")\n",
        "  print(f\"The largest number : {largest_number}\")\n",
        "largest_number()"
      ],
      "metadata": {
        "colab": {
          "base_uri": "https://localhost:8080/"
        },
        "id": "N66IuOyj88hx",
        "outputId": "a4e87727-ed45-4601-e377-14c47c898352"
      },
      "execution_count": null,
      "outputs": [
        {
          "output_type": "stream",
          "name": "stdout",
          "text": [
            "Enter the numbers separated by spaces :23 56 35 70 16 20\n",
            "The entered elements in list : [23, 56, 35, 70, 16, 20]\n",
            "The list in descending order : [70, 56, 35, 23, 20, 16]\n",
            "The largest number : 70\n"
          ]
        }
      ]
    },
    {
      "cell_type": "code",
      "source": [
        "#Calculate the sum of all elements in a list.\n",
        "user_input = input(\"Enter the numbers separated by space :\")\n",
        "new_input = user_input.split()\n",
        "\n",
        "def sum_of_elements():\n",
        "  numbers = []\n",
        "  for i in new_input:\n",
        "    num = int(i)\n",
        "    numbers.append(num)\n",
        "  sum_of_elements = sum(numbers)\n",
        "  print(f\"The original list : {numbers}\")\n",
        "  print(f\"The sum of elements in the list : {sum_of_elements}\")\n",
        "sum_of_elements()"
      ],
      "metadata": {
        "colab": {
          "base_uri": "https://localhost:8080/"
        },
        "id": "skWT_dsV_SS9",
        "outputId": "c1770910-a289-4784-e39b-ffa03787153f"
      },
      "execution_count": null,
      "outputs": [
        {
          "output_type": "stream",
          "name": "stdout",
          "text": [
            "Enter the numbers separated by space :7 5 4 8 3 2\n",
            "The original list : [7, 5, 4, 8, 3, 2]\n",
            "The sum of elements in the list : 29\n"
          ]
        }
      ]
    },
    {
      "cell_type": "code",
      "source": [
        "#Remove duplicates from a list.\n",
        "user_input = input(\"Enter the elements separated by space :\")\n",
        "new_input = user_input.split()\n",
        "\n",
        "def remove_duplicates():\n",
        "  numbers = []\n",
        "  for i in new_input:\n",
        "    num = int(i)\n",
        "    numbers.append(i)\n",
        "\n",
        "  new_numbers = []\n",
        "  for items in numbers:\n",
        "    if items not in new_numbers:\n",
        "      new_numbers.append(items)\n",
        "  print(f\"The original list : {numbers}\")\n",
        "  print(f\"After removing the duplicates : {new_numbers}\")\n",
        "\n",
        "remove_duplicates()"
      ],
      "metadata": {
        "colab": {
          "base_uri": "https://localhost:8080/"
        },
        "id": "jfsQVzEQCJAp",
        "outputId": "e165ae1d-1c9e-4968-c999-ffd210935adb"
      },
      "execution_count": null,
      "outputs": [
        {
          "output_type": "stream",
          "name": "stdout",
          "text": [
            "Enter the elements separated by space :3 5 4 3 6 7 5 8 2\n",
            "The original list : ['3', '5', '4', '3', '6', '7', '5', '8', '2']\n",
            "After removing the duplicates : ['3', '5', '4', '6', '7', '8', '2']\n"
          ]
        }
      ]
    },
    {
      "cell_type": "code",
      "source": [
        "#word count\n",
        "#Create a program that takes a sentence as input and returns the count of each word in that sentence.\n",
        "user_input = input(\"Enter the sentence\")\n",
        "new_input = user_input.split()\n",
        "\n",
        "def count_word():\n",
        "  word_count = {}\n",
        "  for words in new_input:\n",
        "    if words in word_count:\n",
        "      word_count[words]+=1\n",
        "    else:\n",
        "      word_count[words]=1\n",
        "  for word, count in word_count.items():\n",
        "    print(f\"{word}:{count}\")\n",
        "\n",
        "count_word()"
      ],
      "metadata": {
        "id": "KgVbbib1G_hw",
        "colab": {
          "base_uri": "https://localhost:8080/"
        },
        "outputId": "207a2f52-ff66-4995-c323-a4557cbb430b"
      },
      "execution_count": null,
      "outputs": [
        {
          "output_type": "stream",
          "name": "stdout",
          "text": [
            "Enter the sentencehello hi hello\n",
            "hello:2\n",
            "hi:1\n"
          ]
        }
      ]
    },
    {
      "cell_type": "code",
      "source": [
        "#100. Create and call a function\n",
        "def sum():\n",
        "  a=30\n",
        "  b=46\n",
        "  c=a+b\n",
        "  print(c)\n",
        "\n",
        "sum()"
      ],
      "metadata": {
        "colab": {
          "base_uri": "https://localhost:8080/"
        },
        "id": "_KRDfqLTIFjc",
        "outputId": "3a8da42c-e863-4a9e-f542-5b5264da45c1"
      },
      "execution_count": null,
      "outputs": [
        {
          "output_type": "stream",
          "name": "stdout",
          "text": [
            "76\n"
          ]
        }
      ]
    },
    {
      "cell_type": "code",
      "source": [
        "#101. create a function using the arbitrary argument\n",
        "def sum(*a):\n",
        "  print(a)\n",
        "sum(4,6,7,8,9,2)"
      ],
      "metadata": {
        "colab": {
          "base_uri": "https://localhost:8080/"
        },
        "id": "07GCFMHLIJqN",
        "outputId": "88c75408-9a14-4806-e55b-38aedae65f5a"
      },
      "execution_count": null,
      "outputs": [
        {
          "output_type": "stream",
          "name": "stdout",
          "text": [
            "(4, 6, 7, 8, 9, 2)\n"
          ]
        }
      ]
    },
    {
      "cell_type": "code",
      "source": [
        "#102. create a function using an arbitrary keyword argument\n",
        "def word(**x):\n",
        "  print(x)\n",
        "\n",
        "word(name=\"Athira\",age=\"23\",place=\"Valanchery\")"
      ],
      "metadata": {
        "colab": {
          "base_uri": "https://localhost:8080/"
        },
        "id": "L-EQv20fIMpi",
        "outputId": "3f203977-8bdf-49cb-8821-43e0126796d7"
      },
      "execution_count": null,
      "outputs": [
        {
          "output_type": "stream",
          "name": "stdout",
          "text": [
            "{'name': 'Athira', 'age': '23', 'place': 'Valanchery'}\n"
          ]
        }
      ]
    },
    {
      "cell_type": "code",
      "source": [
        "#103. create a function with a return statement\n",
        "def sub():\n",
        "  a=45\n",
        "  b=29\n",
        "  c=a-b\n",
        "  return c\n",
        "\n",
        "sub()"
      ],
      "metadata": {
        "colab": {
          "base_uri": "https://localhost:8080/"
        },
        "id": "ngqmVek3IP2a",
        "outputId": "c42095a4-0918-4668-d098-b4b3cea99e7a"
      },
      "execution_count": null,
      "outputs": [
        {
          "output_type": "execute_result",
          "data": {
            "text/plain": [
              "16"
            ]
          },
          "metadata": {},
          "execution_count": 5
        }
      ]
    },
    {
      "cell_type": "code",
      "source": [
        "#104 create a function with a default parameter value\n",
        "def sum(a,b):\n",
        "  c=a+b\n",
        "  return c\n",
        "sum(100,200)"
      ],
      "metadata": {
        "id": "WE-xmBYbGSGl",
        "colab": {
          "base_uri": "https://localhost:8080/"
        },
        "outputId": "de355d67-66d4-4ebd-c896-7143a4ba317a"
      },
      "execution_count": null,
      "outputs": [
        {
          "output_type": "execute_result",
          "data": {
            "text/plain": [
              "300"
            ]
          },
          "metadata": {},
          "execution_count": 12
        }
      ]
    },
    {
      "cell_type": "code",
      "source": [
        "#Python-ex-part-1\n",
        "#1.arbitoryarg.py\n",
        "\n",
        "def add(*n):\n",
        "\ts=0\n",
        "\tfor x in n:\n",
        "\t\ts=s+x\n",
        "\treturn s\n",
        "\n",
        "p=add(10,20,30)\n",
        "print(\"Sum is \",p)\n",
        "q=add(10,20,30,40,50)\n",
        "print(\"Sum is \",q)\n",
        "r=add(25.5,36.6,42.7,52.8)\n",
        "print(\"Sum is \",r)"
      ],
      "metadata": {
        "colab": {
          "base_uri": "https://localhost:8080/"
        },
        "id": "HWG5LnMSpELD",
        "outputId": "ff4b268d-7147-421b-d116-794e0c5ac79a"
      },
      "execution_count": null,
      "outputs": [
        {
          "output_type": "stream",
          "name": "stdout",
          "text": [
            "Sum is  60\n",
            "Sum is  150\n",
            "Sum is  157.60000000000002\n"
          ]
        }
      ]
    },
    {
      "cell_type": "code",
      "source": [
        "#2.auto_trimorphic.py\n",
        "\n",
        "num=int(input(\"Enter the number : \"))\n",
        "print(\"Menu\")\n",
        "print(\"1.Automorphic\")\n",
        "print(\"2.Trimorphic\")\n",
        "choice=int(input(\"Enter your choice : \"))\n",
        "l=len(str(num))\n",
        "if choice==1:\n",
        "\tsq=num**2\n",
        "\tif sq%(10**l)==num:\n",
        "\t\tprint(num,\" is automorphic\")\n",
        "\telse:\n",
        "\t\tprint(num,\" is not automorphic\")\n",
        "elif choice==2:\n",
        "\tcb=num**3\n",
        "\tif cb%(10**l)==num:\n",
        "\t\tprint(num,\" is trimorphic\")\n",
        "\telse:\n",
        "\t\tprint(num,\" is not trimorphic\")\n",
        "else:\n",
        "\tprint(\"Invalid choice!!!\")"
      ],
      "metadata": {
        "colab": {
          "base_uri": "https://localhost:8080/"
        },
        "id": "5pGVxLAxpGQR",
        "outputId": "a25a403a-131d-4976-ea0c-e267b958f6e9"
      },
      "execution_count": null,
      "outputs": [
        {
          "output_type": "stream",
          "name": "stdout",
          "text": [
            "Enter the number : 76\n",
            "Menu\n",
            "1.Automorphic\n",
            "2.Trimorphic\n",
            "Enter your choice : 1\n",
            "76  is automorphic\n"
          ]
        }
      ]
    },
    {
      "cell_type": "code",
      "source": [
        "#3.big3elif.py\n",
        "\n",
        "a=int(input(\"enter the first number\"))\n",
        "b=int(input(\"enter the second number\"))\n",
        "c=int(input(\"enter the third number\"))\n",
        "if a>b and a>c:\n",
        "\tbig=a\n",
        "elif b>a and b>c:\n",
        "\tbig=b\n",
        "else:\n",
        "\tbig=c\n",
        "print(\"Biggest is \",big)"
      ],
      "metadata": {
        "colab": {
          "base_uri": "https://localhost:8080/"
        },
        "id": "KuvHpdN0pP_a",
        "outputId": "8af49a4b-8b29-4a47-fb02-5f1492de77c4"
      },
      "execution_count": null,
      "outputs": [
        {
          "output_type": "stream",
          "name": "stdout",
          "text": [
            "enter the first number54\n",
            "enter the second number87\n",
            "enter the third number76\n",
            "Biggest is  87\n"
          ]
        }
      ]
    },
    {
      "cell_type": "code",
      "source": [
        "#4.bigifelse.py\n",
        "\n",
        "a=int(input(\"Enter the first number\"))\n",
        "b=int(input(\"Enter the second number\"))\n",
        "if a>b:\n",
        "\tbig=a\n",
        "else:\n",
        "\tbig=b\n",
        "print(\"Biggest is : \",big)"
      ],
      "metadata": {
        "colab": {
          "base_uri": "https://localhost:8080/"
        },
        "id": "Y1dKnOk4pXTS",
        "outputId": "9e454efb-5093-42ff-eb32-c18fa61fab64"
      },
      "execution_count": null,
      "outputs": [
        {
          "output_type": "stream",
          "name": "stdout",
          "text": [
            "Enter the first number39\n",
            "Enter the second number37\n",
            "Biggest is :  39\n"
          ]
        }
      ]
    },
    {
      "cell_type": "code",
      "source": [
        "#5.biglist.py\n",
        "\n",
        "a=[]\n",
        "n=int(input(\"Enter the limit array :\"))\n",
        "print(\"Enter the elements : \")\n",
        "for i in range(0,n):\n",
        "\tno=int(input())\n",
        "\ta.append(no)\n",
        "big=a[0]\n",
        "for i in range(1,n):\n",
        "\tif a[i]>big:\n",
        "\t\tbig=a[i]\n",
        "if big==a[0]:\n",
        "\tsbig=a[1]\n",
        "else:\n",
        "\tsbig=a[0]\n",
        "for i in range(0,n):\n",
        "\tif a[i]<big and a[i]>sbig:\n",
        "\t\tsbig=a[i]\n",
        "print(\"Second largest is : \",sbig)"
      ],
      "metadata": {
        "colab": {
          "base_uri": "https://localhost:8080/"
        },
        "id": "XaM140M4pbgo",
        "outputId": "4486ca02-14f1-4ca0-8f0f-965575618247"
      },
      "execution_count": null,
      "outputs": [
        {
          "output_type": "stream",
          "name": "stdout",
          "text": [
            "Enter the limit array :5\n",
            "Enter the elements : \n",
            "12\n",
            "34\n",
            "70\n",
            "81\n",
            "59\n",
            "Second largest is :  70\n"
          ]
        }
      ]
    },
    {
      "cell_type": "code",
      "source": [
        "#6.bignestedif.py\n",
        "\n",
        "a=int(input(\"Enter the first number\"))\n",
        "b=int(input(\"Enter the second number\"))\n",
        "c=int(input(\"Enter the third number\"))\n",
        "if a>b:\n",
        "\tif a>c:\n",
        "\t\tbig=a\n",
        "\telse:\n",
        "\t\tbig=c\n",
        "else:\n",
        "\tif b>c:\n",
        "\t\tbig=b\n",
        "\telse:\n",
        "\t\tbig=c\n",
        "print(\"Biggest is : \",big)"
      ],
      "metadata": {
        "colab": {
          "base_uri": "https://localhost:8080/"
        },
        "id": "alXbM2H1pkGS",
        "outputId": "52404e89-dcc7-423b-b2f4-a7928cfa8eb4"
      },
      "execution_count": null,
      "outputs": [
        {
          "output_type": "stream",
          "name": "stdout",
          "text": [
            "Enter the first number62\n",
            "Enter the second number74\n",
            "Enter the third number29\n",
            "Biggest is :  74\n"
          ]
        }
      ]
    },
    {
      "cell_type": "code",
      "source": [
        "#7.bigsimif.py\n",
        "\n",
        "a=int(input(\"Enter a number\"))\n",
        "b=int(input(\"Enter a number\"))\n",
        "big=a\n",
        "if a<b:\n",
        "\tbig=b\n",
        "print(\"Biggest is : \",big)"
      ],
      "metadata": {
        "colab": {
          "base_uri": "https://localhost:8080/"
        },
        "id": "MmrGcKrrpoTk",
        "outputId": "43228d98-6f5f-4285-9e6c-5b8b8c4371e0"
      },
      "execution_count": null,
      "outputs": [
        {
          "output_type": "stream",
          "name": "stdout",
          "text": [
            "Enter a number56\n",
            "Enter a number73\n",
            "Biggest is :  73\n"
          ]
        }
      ]
    },
    {
      "cell_type": "code",
      "source": [
        "#8.block_selection.py\n",
        "\n",
        "required_amenities=[]\n",
        "block_details=[{\"School\":True,\"Gym\":False,\"Pool\":False,\"Hospital\":True,\"Store\":False},]\n",
        "amenities={\"School\":False,\"Gym\":False,\"Pool\":False,\"Hospital\":False,\"Store\":False}\n",
        "print(\"Enter your requirements :(1-required/0-not required)\")\n",
        "for x in amenities.keys():\n",
        "\tk=int(input(x))\n",
        "\tif k==1:\n",
        "\t\trequired_amenities.append(x)\n",
        "print(required_amenities)"
      ],
      "metadata": {
        "colab": {
          "base_uri": "https://localhost:8080/"
        },
        "id": "ZhtmwHIXptaT",
        "outputId": "34a37b13-a971-4efd-83b4-0a5174e9140e"
      },
      "execution_count": null,
      "outputs": [
        {
          "output_type": "stream",
          "name": "stdout",
          "text": [
            "Enter your requirements :(1-required/0-not required)\n",
            "School1\n",
            "Gym1\n",
            "Pool0\n",
            "Hospital0\n",
            "Store1\n",
            "['School', 'Gym', 'Store']\n"
          ]
        }
      ]
    },
    {
      "cell_type": "code",
      "source": [
        "#8.calculatorelif.py\n",
        "\n",
        "print(\"1. Addition\")\n",
        "print(\"2. Subtraction\")\n",
        "print(\"3. Multiplication\")\n",
        "print(\"4. Division \")\n",
        "print(\"5. Exponet\")\n",
        "choice=int(input(\"Enter your choice of operation :\"))\n",
        "a=int(input(\"Enter a number\"))\n",
        "b=int(input(\"Enter a number\"))\n",
        "if choice==1:\n",
        "\tres=a+b\n",
        "elif choice==2:\n",
        "\tres=a-b\n",
        "elif choice==3:\n",
        "\tres=a*b\n",
        "elif choice==4:\n",
        "\tres=a/b\n",
        "elif choice==5:\n",
        "\tres=a**b\n",
        "else:\n",
        "\tprint(\"Invalid choice!!!\")\n",
        "print(\"The result is \",res)"
      ],
      "metadata": {
        "colab": {
          "base_uri": "https://localhost:8080/"
        },
        "id": "anZRE3KLpyhP",
        "outputId": "02a4ba0e-b346-404f-b4e5-0d17f9b099a2"
      },
      "execution_count": null,
      "outputs": [
        {
          "output_type": "stream",
          "name": "stdout",
          "text": [
            "1. Addition\n",
            "2. Subtraction\n",
            "3. Multiplication\n",
            "4. Division \n",
            "5. Exponet\n",
            "Enter your choice of operation :4\n",
            "Enter a number68\n",
            "Enter a number4\n",
            "The result is  17.0\n"
          ]
        }
      ]
    },
    {
      "cell_type": "code",
      "source": [
        "#9.circularrightshift.py\n",
        "\n",
        "a=[]\n",
        "n=int(input(\"Enter no of elements : \"))\n",
        "print(\"Enter the elements : \")\n",
        "for i in range(0,n):\n",
        "\telmnt=int(input())\n",
        "\ta.append(elmnt)\n",
        "print(a)\n",
        "b=[a[n-1]]+a[:n-1]\n",
        "a=b\n",
        "print(a)"
      ],
      "metadata": {
        "colab": {
          "base_uri": "https://localhost:8080/"
        },
        "id": "EAxABJhip3Qe",
        "outputId": "93de607f-0907-44a8-cc7b-c7bafeaa454d"
      },
      "execution_count": null,
      "outputs": [
        {
          "output_type": "stream",
          "name": "stdout",
          "text": [
            "Enter no of elements : 5\n",
            "Enter the elements : \n",
            "12\n",
            "34\n",
            "56\n",
            "78\n",
            "90\n",
            "[12, 34, 56, 78, 90]\n",
            "[90, 12, 34, 56, 78]\n"
          ]
        }
      ]
    },
    {
      "cell_type": "code",
      "source": [
        "#10.contactbook.py\n",
        "\n",
        "print(\"1.Add a contact \")\n",
        "print(\"2.Delete a contact\")\n",
        "print(\"3.Edit a contact \")\n",
        "print(\"4.Search a contact\")\n",
        "print(\"5.List all contacts\")\n",
        "print(\"6.Exit\")\n",
        "contactbook={}\n",
        "choice=int(input(\"Enter your choice \"))\n",
        "while choice!=6:\n",
        "\tif choice==1:\n",
        "\t\tname=input(\"Enter the name : \")\n",
        "\t\tphno=int(input(\"Enter the phone number : \"))\n",
        "\t\tcontactbook[name]=phno\n",
        "\t\tprint(\"1 contact added successfully\")\n",
        "\telif choice==2:\n",
        "\t\tname=input(\"enter the name of contact to delete :\")\n",
        "\t\tcontactbook.pop(name)\n",
        "\t\tprint(\"1 contact deleted succefully\")\n",
        "\telif choice==3:\n",
        "\t\tname=input(\"enter the name of contact to edit :\")\n",
        "\t\tphno=int(input(\"Enter the phone number : \"))\n",
        "\t\tcontactbook[name]=phno\n",
        "\t\tprint(\"contact edited successfully\")\n",
        "\telif choice==4:\n",
        "\t\tname=input(\"enter the name :\")\n",
        "\t\tprint(\"Phone Number of \",name,\" : \",contactbook[name])\n",
        "\telif choice==5:\n",
        "\t\tprint(\"Name\\t\\t Phone Number\")\n",
        "\t\tfor x,y in contactbook.items():\n",
        "\t\t\tprint(x,\"\\t\\t\",y)\n",
        "\telse:\n",
        "\t\tprint(\"Invalid choice !!!\")\n",
        "\tchoice=int(input(\"Enter your choice \"))"
      ],
      "metadata": {
        "colab": {
          "base_uri": "https://localhost:8080/"
        },
        "id": "GJ7htFEWqAOm",
        "outputId": "7c1192be-308e-4bfa-9771-1ca7063716e7"
      },
      "execution_count": null,
      "outputs": [
        {
          "name": "stdout",
          "output_type": "stream",
          "text": [
            "1.Add a contact \n",
            "2.Delete a contact\n",
            "3.Edit a contact \n",
            "4.Search a contact\n",
            "5.List all contacts\n",
            "6.Exit\n",
            "Enter your choice 1\n",
            "Enter the name : Athira\n",
            "Enter the phone number : 9946949353\n",
            "1 contact added successfully\n",
            "Enter your choice 1\n",
            "Enter the name : Anu\n",
            "Enter the phone number : 9846393407\n",
            "1 contact added successfully\n",
            "Enter your choice 5\n",
            "Name\t\t Phone Number\n",
            "Athira \t\t 9946949353\n",
            "Anu \t\t 9846393407\n",
            "Enter your choice 4\n",
            "enter the name :Athira\n",
            "Phone Number of  Athira  :  9946949353\n",
            "Enter your choice 3\n",
            "enter the name of contact to edit :Anu\n",
            "Enter the phone number : 9745073326\n",
            "contact edited successfully\n",
            "Enter your choice 2\n",
            "enter the name of contact to delete :Anu\n",
            "1 contact deleted succefully\n",
            "Enter your choice 5\n",
            "Name\t\t Phone Number\n",
            "Athira \t\t 9946949353\n",
            "Enter your choice 6\n"
          ]
        }
      ]
    },
    {
      "cell_type": "code",
      "source": [
        "#11.defaultarg.py\n",
        "\n",
        "def simple_interest(p,n,r=0.25):\n",
        "\ti=p*r*n\n",
        "\treturn i\n",
        "i1=simple_interest(5000,6,0.3)\n",
        "print(\"Interest \",i1)\n",
        "i2=simple_interest(5000,6)\n",
        "print(\"Interest \",i2)"
      ],
      "metadata": {
        "colab": {
          "base_uri": "https://localhost:8080/"
        },
        "id": "qqJ2PMFyqGpU",
        "outputId": "e5d392d3-f05a-4367-9127-e8bc96503e79"
      },
      "execution_count": null,
      "outputs": [
        {
          "output_type": "stream",
          "name": "stdout",
          "text": [
            "Interest  9000.0\n",
            "Interest  7500.0\n"
          ]
        }
      ]
    },
    {
      "cell_type": "code",
      "source": [
        "#12.dicfunctions.py\n",
        "\n",
        "bus={\n",
        "\t\"Routeno\":5,\n",
        "\t\"Driver\":\"kiran\",\n",
        "\t\"Cleaner\":\"Manu\",\n",
        "\t\"points\":[\"karamana\",\"PMG\",\"pattom\"]\n",
        "}\n",
        "\n",
        "print(bus[\"Driver\"])=>\"Kiran\"\n",
        "print(bus.get(\"Driver\")) =>\"Kiran\"\n",
        "bus.keys()=>[\"Routeno\",\"Driver\",\"Cleaner\",\"points\"]\n",
        "bus.values()=>[5,\"Kiran\",\"Manu\",[\"karamana\",\"PMG\",\"Pattom\"]]\n",
        "bus.items()=>[{\"Routeno\":5},]\n",
        "bus[\"color\"]=\"Red\"\n",
        "bus.update(\"Fare\")=1500\n",
        "bus[\"Driver\"]=\"Mohan\"\n",
        "bus.pop(\"fare\")\n",
        "bus.popitem()\n",
        "del bus[\"Fare\"]\n",
        "del bus\n",
        "bus.clear()\n",
        "\n",
        "for x in bus:\n",
        "\tprint(x)\t=>Routeno Driver Cleaner points\n",
        "for x in bus:\n",
        "\tprint(bus[x])\t=>5 kiran Manu [\"karamana\",\"PMG\",\"Pattom\"]"
      ],
      "metadata": {
        "colab": {
          "base_uri": "https://localhost:8080/",
          "height": 140
        },
        "id": "soLCrr6TqOwW",
        "outputId": "c3595a0d-07e3-40cd-f019-30c4125afc1e"
      },
      "execution_count": null,
      "outputs": [
        {
          "output_type": "error",
          "ename": "SyntaxError",
          "evalue": "ignored",
          "traceback": [
            "\u001b[0;36m  File \u001b[0;32m\"<ipython-input-18-0880949ede7b>\"\u001b[0;36m, line \u001b[0;32m10\u001b[0m\n\u001b[0;31m    print(bus[\"Driver\"])=>\"Kiran\"\u001b[0m\n\u001b[0m    ^\u001b[0m\n\u001b[0;31mSyntaxError\u001b[0m\u001b[0;31m:\u001b[0m cannot assign to function call\n"
          ]
        }
      ]
    },
    {
      "cell_type": "code",
      "source": [
        "#13.dictionary.py\n",
        "\n",
        "student.get(\"name\") =>kiran\n",
        "student.keys() =>[name,age,mark1,mark2]\n",
        "student.values() =>[\"Kiran\",25,76,85]\n",
        "student.items()=[(name:\"Kiran\"),(age:25),(mark1:76),(mark2:85)]\n",
        "\n",
        "student[\"name\"]=\"Manu\"\n",
        "student[\"phone\"]=958744123\n",
        "student.update({\"name\":\"Mohan\"})\n",
        "student.update({\"Address\":\"Kottayam\"})\n",
        "\n",
        "student.pop(\"name\")\n",
        "student.popitems()\n",
        "del student[\"name\"]\n",
        "del student\n",
        "student.clear()\n",
        "candidate=student.copy()\n",
        "candidate=dict(student)\n",
        "print(student) =>{name:kiran,age:25....}"
      ],
      "metadata": {
        "colab": {
          "base_uri": "https://localhost:8080/",
          "height": 140
        },
        "id": "zgap3thTqUTR",
        "outputId": "14d09bb1-c8c3-4761-98d8-25564979746d"
      },
      "execution_count": null,
      "outputs": [
        {
          "output_type": "error",
          "ename": "SyntaxError",
          "evalue": "ignored",
          "traceback": [
            "\u001b[0;36m  File \u001b[0;32m\"<ipython-input-17-4e13d285cbe8>\"\u001b[0;36m, line \u001b[0;32m3\u001b[0m\n\u001b[0;31m    student.get(\"name\") =>kiran\u001b[0m\n\u001b[0m    ^\u001b[0m\n\u001b[0;31mSyntaxError\u001b[0m\u001b[0;31m:\u001b[0m cannot assign to function call\n"
          ]
        }
      ]
    },
    {
      "cell_type": "code",
      "source": [
        "#14.dictionarydemo.py\n",
        "\n",
        "contactlist={}\n",
        "n=int(input(\"Enter the number of contacts : \"))\n",
        "for i in range(1,n+1):\n",
        "\tname=input(\"Enter the contact name :\")\n",
        "\tphno=int(input(\"Enter the phone number :\"))\n",
        "\tcontactlist[name]=phno\n",
        "print(\"Keys\")\n",
        "for x in contactlist.keys():\n",
        "\tprint(x)\n",
        "print(\"Values\")\n",
        "for x in contactlist.values():\n",
        "\tprint(x)\n",
        "print(\"Keys-value pairs\")\n",
        "for x,y in contactlist.items():\n",
        "\tprint(x,\"-\",y)"
      ],
      "metadata": {
        "colab": {
          "base_uri": "https://localhost:8080/"
        },
        "id": "40LDrOGHqbnt",
        "outputId": "c130e989-4f79-4cc1-83aa-6c2ca63ba2f1"
      },
      "execution_count": null,
      "outputs": [
        {
          "output_type": "stream",
          "name": "stdout",
          "text": [
            "Enter the number of contacts : 2\n",
            "Enter the contact name :Anu\n",
            "Enter the phone number :9946949353\n",
            "Enter the contact name :Arun\n",
            "Enter the phone number :9846573493\n",
            "Keys\n",
            "Anu\n",
            "Arun\n",
            "Values\n",
            "9946949353\n",
            "9846573493\n",
            "Keys-value pairs\n",
            "Anu - 9946949353\n",
            "Arun - 9846573493\n"
          ]
        }
      ]
    },
    {
      "cell_type": "code",
      "source": [
        "#15.dictnumber.py\n",
        "\n",
        "numberNames={0:'Zero',1:'One',2:'Two',3:'Three',4:'Four',5:'Five',6:'Six',7:'Seven',8:'Eight',9:'Nine'}\n",
        "positionvalues={0:'Ones',1:'Tens',2:'Humdreds',3:'Thousands',4:'Ten Thousands',5:'Lakhs',6:'Ten Lakhs',7:'Crore',8:'Ten Crores',9:'Hundred Crores'}\n",
        "num=input(\"Enter any number\")\n",
        "result=''\n",
        "l=len(num)-1\n",
        "for ch in num:\n",
        "\tkey=int(ch)\n",
        "\tvalue=numberNames[key]\n",
        "\tresult=result + ' ' + value+' '+ positionvalues[l]\n",
        "\tl-=1\n",
        "print(\"The number is : \",num)\n",
        "print(\"The number Name is :\",result)"
      ],
      "metadata": {
        "colab": {
          "base_uri": "https://localhost:8080/"
        },
        "id": "n_GzVFNUqir0",
        "outputId": "4b3d80e2-f1cf-4961-be64-4929a920a3c7"
      },
      "execution_count": null,
      "outputs": [
        {
          "output_type": "stream",
          "name": "stdout",
          "text": [
            "Enter any number3498657\n",
            "The number is :  3498657\n",
            "The number Name is :  Three Ten Lakhs Four Lakhs Nine Ten Thousands Eight Thousands Six Humdreds Five Tens Seven Ones\n"
          ]
        }
      ]
    },
    {
      "cell_type": "code",
      "source": [
        "#16.digitsumfun.py\n",
        "\n",
        "def  digitsum(n):\n",
        "\tif n==0:\n",
        "\t\treturn 0\n",
        "\td=n%10\n",
        "\ts=d+digitsum(n//10)\n",
        "\treturn s\n",
        "no=int(input(\"Enter the number : \"))\n",
        "sum=digitsum(no)\n",
        "print(\"sum of digits : \",sum)"
      ],
      "metadata": {
        "colab": {
          "base_uri": "https://localhost:8080/"
        },
        "id": "fOOas9apqoj1",
        "outputId": "93a95cdc-bee6-483c-c51e-55d0e3d72a30"
      },
      "execution_count": null,
      "outputs": [
        {
          "output_type": "stream",
          "name": "stdout",
          "text": [
            "Enter the number : 347\n",
            "sum of digits :  14\n"
          ]
        }
      ]
    },
    {
      "cell_type": "code",
      "source": [
        "#17.divisiblesimpif.py\n",
        "\n",
        "m=int(input(\"Enter a number : \"))\n",
        "n=int(input(\"Enter a number : \"))\n",
        "result=\"not divisible\"\n",
        "if(m%n==0):\n",
        "\tresult=\"divisible\"\n",
        "print(m,\" is \",result,\" by \",n)"
      ],
      "metadata": {
        "colab": {
          "base_uri": "https://localhost:8080/"
        },
        "id": "s6LgwBp8qtX4",
        "outputId": "32d69634-b74a-4910-dfb7-3bcbb9d7f9f7"
      },
      "execution_count": null,
      "outputs": [
        {
          "output_type": "stream",
          "name": "stdout",
          "text": [
            "Enter a number : 58\n",
            "Enter a number : 3\n",
            "58  is  not divisible  by  3\n"
          ]
        }
      ]
    },
    {
      "cell_type": "code",
      "source": [
        "#18.ebillelif.py\n",
        "\n",
        "u=int(input(\"Enter the number of units consumed : \"))\n",
        "if u<=100:\n",
        "\tamount=u*0.5\n",
        "elif u>100 and u<=150:\n",
        "\tamount=(100*0.5)+(u-100)*0.75\n",
        "elif u>150 and u<=200:\n",
        "\tamount=(100*0.5)+(50*0.75)+(u-150)*1\n",
        "else:\n",
        "\tamount=(100*0.5)+(50*0.75)+(50*1)+(u-200)*2\n",
        "print(\"Amount to be paid : \",amount)"
      ],
      "metadata": {
        "colab": {
          "base_uri": "https://localhost:8080/"
        },
        "id": "pQqgQsrpq0NR",
        "outputId": "7ca71bc5-0bca-4407-e2cf-83a079f04a37"
      },
      "execution_count": null,
      "outputs": [
        {
          "output_type": "stream",
          "name": "stdout",
          "text": [
            "Enter the number of units consumed : 160\n",
            "Amount to be paid :  97.5\n"
          ]
        }
      ]
    },
    {
      "cell_type": "code",
      "source": [
        "#19.electrictybill_type.py\n",
        "\n",
        "type=input(\"Enter the type of connection : \")\n",
        "u=int(input(\"Enter the units consumed : \"))\n",
        "charge=0\n",
        "if type==\"domestic\":\n",
        "\tif u<=100:\n",
        "\t\tcharge=u*1\n",
        "\telif u<150:\n",
        "\t\tcharge=(100*1)+(u-100)*1.5\n",
        "\telif u<=200:\n",
        "\t\tcharge=(100*1)+(50*1.5)+(u-150)*2\n",
        "\telse:\n",
        "\t\tcharge=(100*1)+(50*1.5)+(50*2)+(u-200)*3\n",
        "elif type==\"commercial\":\n",
        "\tif u<=100:\n",
        "\t\tcharge=u*3\n",
        "\telif u<150:\n",
        "\t\tcharge=(100*3)+(u-100)*4\n",
        "\telif u<=200:\n",
        "\t\tcharge=(100*3)+(50*4)+(u-150)*6\n",
        "\telse:\n",
        "\t\tcharge=(100*3)+(50*4)+(50*6)+(u-200)*10\n",
        "else:\n",
        "\tprint(\"Invalid connection type \")\n",
        "print(\"Tarriff\t: \",charge)"
      ],
      "metadata": {
        "colab": {
          "base_uri": "https://localhost:8080/"
        },
        "id": "XtvcZdrGq5nk",
        "outputId": "641e59e1-3e76-4988-8a9d-3bda6c31b926"
      },
      "execution_count": null,
      "outputs": [
        {
          "output_type": "stream",
          "name": "stdout",
          "text": [
            "Enter the type of connection : domestic\n",
            "Enter the units consumed : 120\n",
            "Tarriff\t:  130.0\n"
          ]
        }
      ]
    },
    {
      "cell_type": "code",
      "source": [
        "#20.factorialsum.py\n",
        "\n",
        "def sum(n):\n",
        "\tif n==1:\n",
        "\t\treturn 1\n",
        "\ts=n+sum(n-1)\n",
        "\treturn s\n",
        "no=int(input(\"Enter the number : \"))\n",
        "total=sum(no)\n",
        "print(\"Sum  is : \",total)"
      ],
      "metadata": {
        "colab": {
          "base_uri": "https://localhost:8080/"
        },
        "id": "ZDBToa_zrBWN",
        "outputId": "1f5d8f58-2ff5-4d98-b30d-fab4dc17c638"
      },
      "execution_count": null,
      "outputs": [
        {
          "output_type": "stream",
          "name": "stdout",
          "text": [
            "Enter the number : 5\n",
            "Sum  is :  15\n"
          ]
        }
      ]
    },
    {
      "cell_type": "code",
      "source": [
        "#21.fun_arbitoryarg.py\n",
        "\n",
        "def my_function(*students):\n",
        "\tprint(type(students))\n",
        "\tfor x in students:\n",
        "\t\tprint(x)\n",
        "\n",
        "my_function(\"Kiran\", \"Manu\", \"Vinu\")\n",
        "my_function(10,20,30,40,50)"
      ],
      "metadata": {
        "colab": {
          "base_uri": "https://localhost:8080/"
        },
        "id": "5zsc3tdDrDRR",
        "outputId": "34708402-0e11-4357-9f91-6375abc9bf12"
      },
      "execution_count": null,
      "outputs": [
        {
          "output_type": "stream",
          "name": "stdout",
          "text": [
            "<class 'tuple'>\n",
            "Kiran\n",
            "Manu\n",
            "Vinu\n",
            "<class 'tuple'>\n",
            "10\n",
            "20\n",
            "30\n",
            "40\n",
            "50\n"
          ]
        }
      ]
    },
    {
      "cell_type": "code",
      "source": [
        "#22.fun_arbitoryarg1.py\n",
        "\n",
        "def my_function(*formal):\n",
        "\tprint(type(formal))\n",
        "\ts=0\n",
        "\tfor x in formal:\n",
        "\t\ts=s+x\n",
        "\tprint(\"Sum is \",s)\n",
        "my_function(10,20)\n",
        "my_function(10,20,30,40,50)\n",
        "my_function(10.2,15.5,26.3)"
      ],
      "metadata": {
        "colab": {
          "base_uri": "https://localhost:8080/"
        },
        "id": "RWv11zlMrDgi",
        "outputId": "aed43e51-a87d-4a65-d2a2-4f65dc2a61f8"
      },
      "execution_count": null,
      "outputs": [
        {
          "output_type": "stream",
          "name": "stdout",
          "text": [
            "<class 'tuple'>\n",
            "Sum is  30\n",
            "<class 'tuple'>\n",
            "Sum is  150\n",
            "<class 'tuple'>\n",
            "Sum is  52.0\n"
          ]
        }
      ]
    },
    {
      "cell_type": "code",
      "source": [
        "#23.functionarguments.py\n",
        "\n",
        "def sum(*no):\n",
        "\tprint(type(no))\n",
        "\ts=0\n",
        "\tfor x in no:\n",
        "\t\ts=s+x\n",
        "\treturn s\n",
        "def add(p):\n",
        "\tprint(p*6)\n",
        "def avg(s):\n",
        "\tprint(s/5)\n",
        "sm=sum(10,20,30,40)\n",
        "add(sm)\n",
        "sm=sum(25,36,45,78,52)\n",
        "avg(sm)"
      ],
      "metadata": {
        "colab": {
          "base_uri": "https://localhost:8080/"
        },
        "id": "urcKUqYtrD1t",
        "outputId": "c20f16e2-e3b1-4af8-cdb6-2d798633ea92"
      },
      "execution_count": null,
      "outputs": [
        {
          "output_type": "stream",
          "name": "stdout",
          "text": [
            "<class 'tuple'>\n",
            "600\n",
            "<class 'tuple'>\n",
            "47.2\n"
          ]
        }
      ]
    },
    {
      "cell_type": "code",
      "source": [
        "#24.functioninterestdefault.py\n",
        "\n",
        "def simple_interest(p,t,r=5):\n",
        "\ti=p*r*t/100\n",
        "\treturn i\n",
        "principle_amount=int(input(\"Enter the principle amount : \"))\n",
        "time_period=int(input(\"Enter the time duration : \"))\n",
        "rate_of_interest=int(input(\"Enter the rate of interest : \"))\n",
        "i1=simple_interest(principle_amount,time_period)\n",
        "print(\"Interest : \",i1)\n",
        "i2=simple_interest(principle_amount,time_period,rate_of_interest)\n",
        "print(\"Interest : \",i2)"
      ],
      "metadata": {
        "colab": {
          "base_uri": "https://localhost:8080/"
        },
        "id": "33CDMwdDrEEO",
        "outputId": "f509f590-7d19-4ef5-ecf0-c44cf5adbcc0"
      },
      "execution_count": null,
      "outputs": [
        {
          "output_type": "stream",
          "name": "stdout",
          "text": [
            "Enter the principle amount : 400\n",
            "Enter the time duration : 2\n",
            "Enter the rate of interest : 100\n",
            "Interest :  40.0\n",
            "Interest :  800.0\n"
          ]
        }
      ]
    },
    {
      "cell_type": "code",
      "source": [
        "#25.functionlist.py\n",
        "\n",
        "def sum(no):\n",
        "\tprint(type(no))\n",
        "\ts=0\n",
        "\tfor x in no:\n",
        "\t\ts=s+x\n",
        "\treturn s\n",
        "a=[10,20,30,40]\n",
        "print(sum(a))\n",
        "b=(25,36,49,64)\n",
        "print(sum(b))\n",
        "c={25,50,75}\n",
        "print(sum(c))"
      ],
      "metadata": {
        "colab": {
          "base_uri": "https://localhost:8080/"
        },
        "id": "se1H0WxArEQz",
        "outputId": "98a0af8e-e20b-4134-8b24-5fc7a352d6ac"
      },
      "execution_count": null,
      "outputs": [
        {
          "output_type": "stream",
          "name": "stdout",
          "text": [
            "<class 'list'>\n",
            "100\n",
            "<class 'tuple'>\n",
            "174\n",
            "<class 'set'>\n",
            "150\n"
          ]
        }
      ]
    },
    {
      "cell_type": "code",
      "source": [
        "#Phonebook\n",
        "def add():\n",
        "  name=input(\"Enter the name :\")\n",
        "  ph_no=int(input(\"Enter the phone number :\"))\n",
        "  ph_book[name]=ph_no\n",
        "  print(\"successfull\")\n",
        "\n",
        "def search():\n",
        "  search=input(\"Enter the contact name to search :\")\n",
        "  if search in ph_book:\n",
        "    search_contact=ph_book[search]\n",
        "    print(search_contact)\n",
        "  else:\n",
        "    print(\"Contact is not present.\")\n",
        "\n",
        "def update():\n",
        "  update=input(\"Enter the contact name to update :\")\n",
        "  ph_no=int(input(\"Enter the number :\"))\n",
        "  ph_book[update]=ph_no\n",
        "\n",
        "def display():\n",
        "  print(ph_book)\n",
        "\n",
        "def delete():\n",
        "  delete=input(\"enter the contact name to delete :\")\n",
        "  if delete in ph_book:\n",
        "    confirm=input(\"do you want to delete contact y / n  :\")\n",
        "    if confirm==\"Y\" or confirm==\"y\":\n",
        "      ph_book.pop(delete)\n",
        "    else:\n",
        "      print(\"name is not found\")\n",
        "\n",
        "print(\"1. Add contact\\n2. Search contact\\n3. Update\\n4. Display\\n5. Delete\\n6. Exit\")\n",
        "ph_book={}\n",
        "choice=int(input(\"Enter the choice :\"))\n",
        "while choice!=6:\n",
        "  if choice==1:\n",
        "    add()\n",
        "  elif choice==2:\n",
        "    search()\n",
        "  elif choice==3:\n",
        "    update()\n",
        "  elif choice==4:\n",
        "    display()\n",
        "  elif choice==5:\n",
        "    delete()\n",
        "  else:\n",
        "    print(\"invalid\")\n",
        "  choice=int(input(\"Enter your choice : \"))"
      ],
      "metadata": {
        "colab": {
          "base_uri": "https://localhost:8080/"
        },
        "id": "vUNDfddkRXKK",
        "outputId": "bff4fdbf-d5c3-441e-fbee-3878648ca1f4"
      },
      "execution_count": null,
      "outputs": [
        {
          "name": "stdout",
          "output_type": "stream",
          "text": [
            "1. Add contact\n",
            "2. Search contact\n",
            "3. Update\n",
            "4. Display\n",
            "5. Delete\n",
            "6. Exit\n",
            "Enter the choice :1\n",
            "Enter the name :Athira\n",
            "Enter the phone number :1234567\n",
            "successfull\n",
            "Enter your choice : 1\n",
            "Enter the name :Anjana\n",
            "Enter the phone number :23469\n",
            "successfull\n",
            "Enter your choice : 4\n",
            "{'Athira': 1234567, 'Anjana': 23469}\n",
            "Enter your choice : 6\n"
          ]
        }
      ]
    },
    {
      "cell_type": "code",
      "source": [
        "#python-ex-part 2\n",
        "#1.gradeelif.py\n",
        "\n",
        "m1=int(input(\"Enter the marks for physics\"))\n",
        "m2=int(input(\"Enter the marks for chemistry\"))\n",
        "m3=int(input(\"Enter the marks for maths\"))\n",
        "p=(m1+m2+m3)*100/300\n",
        "if p>=90:\n",
        "\tgrade=\"A+\"\n",
        "elif p<90 and p>=80:\n",
        "\tgrade=\"A\"\n",
        "elif p<80 and p>=70:\n",
        "\tgrade=\"B+\"\n",
        "elif p<70 and p>=60:\n",
        "\tgrade=\"B\"\n",
        "elif p<60 and p>=50:\n",
        "\tgrade=\"C\"\n",
        "else:\n",
        "\tgrade=\"Failed\"\n",
        "print(\"His grade is \",grade)"
      ],
      "metadata": {
        "colab": {
          "base_uri": "https://localhost:8080/"
        },
        "id": "rSGvI0t1UbbE",
        "outputId": "997d894e-7eb0-49c0-af30-360a0a44c490"
      },
      "execution_count": null,
      "outputs": [
        {
          "output_type": "stream",
          "name": "stdout",
          "text": [
            "Enter the marks for physics88\n",
            "Enter the marks for chemistry70\n",
            "Enter the marks for maths90\n",
            "His grade is  A\n"
          ]
        }
      ]
    },
    {
      "cell_type": "code",
      "source": [
        "#2.gradenestedif.py\n",
        "\n",
        "m1=int(input(\"Enter the marks for physics\"))\n",
        "m2=int(input(\"Enter the marks for chemistry\"))\n",
        "m3=int(input(\"Enter the marks for maths\"))\n",
        "if m1>=50 and m2>=50 and m3>=50:\n",
        "\tp=(m1+m2+m3)*100/300\n",
        "\tif p>=90:\n",
        "\t\tgrade=\"A+\"\n",
        "\telif p<90 and p>=80:\n",
        "\t\tgrade=\"A\"\n",
        "\telif p<80 and p>=70:\n",
        "\t\tgrade=\"B+\"\n",
        "\telif p<70 and p>=60:\n",
        "\t\tgrade=\"B\"\n",
        "\telse:\n",
        "\t\tgrade=\"C\"\n",
        "else:\n",
        "\tgrade=\"Failed\"\n",
        "print(\"His grade is \",grade)"
      ],
      "metadata": {
        "colab": {
          "base_uri": "https://localhost:8080/"
        },
        "id": "mEaj4AzeUppg",
        "outputId": "7d57aad8-26fd-4bc1-bf92-c565b53b722d"
      },
      "execution_count": null,
      "outputs": [
        {
          "output_type": "stream",
          "name": "stdout",
          "text": [
            "Enter the marks for physics66\n",
            "Enter the marks for chemistry66\n",
            "Enter the marks for maths76\n",
            "His grade is  B\n"
          ]
        }
      ]
    },
    {
      "cell_type": "code",
      "source": [
        "#3.interestifelse.py\n",
        "\n",
        "p=int(input(\"Enter principle amount\"))\n",
        "n=int(input(\"Enter the duration in years\"))\n",
        "if n>=10:\n",
        "\tr=12\n",
        "else:\n",
        "\tr=8\n",
        "i=p*r*n/100\n",
        "print(\"Interest : \",i)"
      ],
      "metadata": {
        "colab": {
          "base_uri": "https://localhost:8080/"
        },
        "id": "vywikzItUw2J",
        "outputId": "9b24fc58-119c-4f83-df30-8060f35ce2a3"
      },
      "execution_count": null,
      "outputs": [
        {
          "output_type": "stream",
          "name": "stdout",
          "text": [
            "Enter principle amount120\n",
            "Enter the duration in years11\n",
            "Interest :  158.4\n"
          ]
        }
      ]
    },
    {
      "cell_type": "code",
      "source": [
        "#4.keywordarg.py\n",
        "\n",
        "def add(a,b,c):\n",
        "\treturn(a+b+c)\n",
        "s=add(c=20,a=25,b=36)\n",
        "print(\"Sum is \",s)"
      ],
      "metadata": {
        "colab": {
          "base_uri": "https://localhost:8080/"
        },
        "id": "hh8kqPMoU1CS",
        "outputId": "88d34f3a-f6c7-404b-9652-b3bef3ed8d83"
      },
      "execution_count": null,
      "outputs": [
        {
          "output_type": "stream",
          "name": "stdout",
          "text": [
            "Sum is  81\n"
          ]
        }
      ]
    },
    {
      "cell_type": "code",
      "source": [
        "#5.list.py\n",
        "\n",
        "a=[]\n",
        "n= int(input(\"Enter the number of elements : \"))\n",
        "print(\"Enter the elements : \")\n",
        "for i in range(0,n):\n",
        "\tk=int(input())\n",
        "\ta.append(k)\n",
        "print(\"List elements are : \")\n",
        "for i in range(0,n):\n",
        "\tprint(a[i])"
      ],
      "metadata": {
        "colab": {
          "base_uri": "https://localhost:8080/"
        },
        "id": "kZyRPdMIU562",
        "outputId": "8a20c725-9a99-42b3-fbf5-fa16a64aa8b1"
      },
      "execution_count": null,
      "outputs": [
        {
          "output_type": "stream",
          "name": "stdout",
          "text": [
            "Enter the number of elements : 6\n",
            "Enter the elements : \n",
            "3\n",
            "5\n",
            "7\n",
            "8\n",
            "9\n",
            "4\n",
            "List elements are : \n",
            "3\n",
            "5\n",
            "7\n",
            "8\n",
            "9\n",
            "4\n"
          ]
        }
      ]
    },
    {
      "cell_type": "code",
      "source": [
        "#6.listbig.py\n",
        "\n",
        "a=[]\n",
        "n= int(input(\"Enter the number of elements : \"))\n",
        "print(\"Enter the elements : \")\n",
        "for i in range(0,n):\n",
        "\tk=int(input())\n",
        "\ta.append(k)\n",
        "big=a[0]\n",
        "for i in range(1,n):\n",
        "\tif a[i]>big:\n",
        "\t\tbig=a[i]\n",
        "print(\"Biggest : \",big)"
      ],
      "metadata": {
        "colab": {
          "base_uri": "https://localhost:8080/"
        },
        "id": "44gTMurvVB0g",
        "outputId": "3ddb69a1-cae4-4384-c94c-1cab7c198ab9"
      },
      "execution_count": null,
      "outputs": [
        {
          "output_type": "stream",
          "name": "stdout",
          "text": [
            "Enter the number of elements : 5\n",
            "Enter the elements : \n",
            "77\n",
            "99\n",
            "74\n",
            "11\n",
            "59\n",
            "Biggest :  99\n"
          ]
        }
      ]
    },
    {
      "cell_type": "code",
      "source": [
        "#7.listbinarysearch.py\n",
        "\n",
        "a=[]\n",
        "n= int(input(\"Enter the number of elements : \"))\n",
        "print(\"Enter the elements in ascending order : \")\n",
        "for i in range(0,n):\n",
        "\tk=int(input())\n",
        "\ta.append(k)\n",
        "key=int(input(\"Enter the element to search : \"))\n",
        "l=0\n",
        "u=n-1\n",
        "while l<=u:\n",
        "\tmid=(l+u)//2\n",
        "\tif a[mid]==key:\n",
        "\t\tprint(key,\"found at index \",mid)\n",
        "\t\tbreak\n",
        "\telif a[mid]>key:\n",
        "\t\tu=mid-1\n",
        "\telse:\n",
        "\t\tl=mid+1\n",
        "else:\n",
        "\tprint(key,\"not in the list \")"
      ],
      "metadata": {
        "colab": {
          "base_uri": "https://localhost:8080/"
        },
        "id": "LkHB-LTNVLA3",
        "outputId": "c72701e2-ca94-4583-897f-a8acd3a6ea04"
      },
      "execution_count": null,
      "outputs": [
        {
          "output_type": "stream",
          "name": "stdout",
          "text": [
            "Enter the number of elements : 5\n",
            "Enter the elements in ascending order : \n",
            "12\n",
            "26\n",
            "39\n",
            "66\n",
            "87\n",
            "Enter the element to search : 26\n",
            "26 found at index  1\n"
          ]
        }
      ]
    },
    {
      "cell_type": "code",
      "source": [
        "#8.listcompr.py\n",
        "\n",
        "a=[10,20,30,40]\n",
        "b=[10,20,30,50]\n",
        "if a==b:\n",
        "\tprint(\"ok\")\n",
        "else:\n",
        "\tprint(\"not ok\")"
      ],
      "metadata": {
        "colab": {
          "base_uri": "https://localhost:8080/"
        },
        "id": "XA1GMAqtVQUJ",
        "outputId": "80aca1aa-e526-41a9-a8e3-dc3aba35f9f1"
      },
      "execution_count": null,
      "outputs": [
        {
          "output_type": "stream",
          "name": "stdout",
          "text": [
            "not ok\n"
          ]
        }
      ]
    },
    {
      "cell_type": "code",
      "source": [
        "#9.listcount.py\n",
        "\n",
        "a=[]\n",
        "n= int(input(\"Enter the number of elements : \"))\n",
        "print(\"Enter the elements : \")\n",
        "for i in range(0,n):\n",
        "\tk=int(input())\n",
        "\ta.append(k)\n",
        "count=0\n",
        "ele=int(input(\"Enter the element to count : \"))\n",
        "for x in a:\n",
        "\tif x==ele:\n",
        "\t\tcount+=1\n",
        "print(ele,\" occured \",count,\" times\")"
      ],
      "metadata": {
        "colab": {
          "base_uri": "https://localhost:8080/"
        },
        "id": "HPaH5EWRVUcf",
        "outputId": "43584034-223d-43b5-8bda-0c8c024e5020"
      },
      "execution_count": null,
      "outputs": [
        {
          "output_type": "stream",
          "name": "stdout",
          "text": [
            "Enter the number of elements : 5\n",
            "Enter the elements : \n",
            "2\n",
            "5\n",
            "4\n",
            "2\n",
            "8\n",
            "Enter the element to count : 2\n",
            "2  occured  2  times\n"
          ]
        }
      ]
    },
    {
      "cell_type": "code",
      "source": [
        "#10.listdelete.py\n",
        "\n",
        "a=[]\n",
        "n= int(input(\"Enter the number of elements : \"))\n",
        "print(\"Enter the elements : \")\n",
        "for i in range(0,n):\n",
        "\tk=int(input())\n",
        "\ta.append(k)\n",
        "index=int(input(\"Enter the index : \"))\n",
        "for i in range(index,n-1):\n",
        "\ta[i]=a[i+1]\n",
        "n=n-1\n",
        "print(\"List elements are : \")\n",
        "for i in range(0,n):\n",
        "\tprint(a[i])"
      ],
      "metadata": {
        "colab": {
          "base_uri": "https://localhost:8080/"
        },
        "id": "p_-1c7jZVX1W",
        "outputId": "13608cfd-6020-4bb5-f5ed-4ea174dd33bf"
      },
      "execution_count": null,
      "outputs": [
        {
          "output_type": "stream",
          "name": "stdout",
          "text": [
            "Enter the number of elements : 6\n",
            "Enter the elements : \n",
            "23\n",
            "67\n",
            "98\n",
            "56\n",
            "44\n",
            "72\n",
            "Enter the index : 2\n",
            "List elements are : \n",
            "23\n",
            "67\n",
            "56\n",
            "44\n",
            "72\n"
          ]
        }
      ]
    },
    {
      "cell_type": "code",
      "source": [
        "#11.listduplicate.py\n",
        "\n",
        "a=[]\n",
        "n= int(input(\"Enter the number of elements : \"))\n",
        "print(\"Enter the elements : \")\n",
        "for i in range(0,n):\n",
        "\tk=int(input())\n",
        "\ta.append(k)\n",
        "i=0\n",
        "while i<n-1:\n",
        "\tj=i+1\n",
        "\twhile j<n:\n",
        "\t\tif a[i]==a[j]:\n",
        "\t\t\ta.pop(j)\n",
        "\t\t\tn=n-1\n",
        "\t\telse:\n",
        "\t\t\tj+=1\n",
        "\ti+=1\n",
        "print(a)"
      ],
      "metadata": {
        "colab": {
          "base_uri": "https://localhost:8080/"
        },
        "id": "ANDXNa2IVcdw",
        "outputId": "c4512794-6579-4f96-c91d-d7e6e12d9883"
      },
      "execution_count": null,
      "outputs": [
        {
          "output_type": "stream",
          "name": "stdout",
          "text": [
            "Enter the number of elements : 5\n",
            "Enter the elements : \n",
            "45\n",
            "87\n",
            "34\n",
            "87\n",
            "90\n",
            "[45, 87, 34, 90]\n"
          ]
        }
      ]
    },
    {
      "cell_type": "code",
      "source": [
        "#12.listduplicateset.py\n",
        "\n",
        "a=[]\n",
        "n=int(input(\"Enter the number of elements : \"))\n",
        "for i in range(0,n):\n",
        "\tk=int(input())\n",
        "\ta.append(k)\n",
        "b=set(a)\n",
        "a=list(b)\n",
        "print(a)"
      ],
      "metadata": {
        "colab": {
          "base_uri": "https://localhost:8080/"
        },
        "id": "20rVgB6-VgBa",
        "outputId": "a71f67ea-a186-40ae-84af-1237b2299425"
      },
      "execution_count": null,
      "outputs": [
        {
          "output_type": "stream",
          "name": "stdout",
          "text": [
            "Enter the number of elements : 5\n",
            "34\n",
            "45\n",
            "98\n",
            "70\n",
            "44\n",
            "[34, 98, 70, 44, 45]\n"
          ]
        }
      ]
    },
    {
      "cell_type": "code",
      "source": [
        "#13.listelementcount.py\n",
        "\n",
        "a=[]\n",
        "n= int(input(\"Enter the number of elements : \"))\n",
        "print(\"Enter the elements : \")\n",
        "for i in range(0,n):\n",
        "\tk=int(input())\n",
        "\ta.append(k)\n",
        "no=int(input(\"Enter the element to count : \"))\n",
        "count=0\n",
        "for i in range(0,n):\n",
        "\tif a[i]==no:\n",
        "\t\tcount+=1\n",
        "if count==0:\n",
        "\tprint(no,\" not in the list\")\n",
        "else:\n",
        "\tprint(no,\" occured \",count,\" times\")"
      ],
      "metadata": {
        "colab": {
          "base_uri": "https://localhost:8080/"
        },
        "id": "OyM6tAsOVj0r",
        "outputId": "87fabcac-2b2a-466d-d253-3a4d95f19d6d"
      },
      "execution_count": null,
      "outputs": [
        {
          "name": "stdout",
          "output_type": "stream",
          "text": [
            "Enter the number of elements : 7\n",
            "Enter the elements : \n",
            "4\n",
            "8\n",
            "5\n",
            "4\n",
            "3\n"
          ]
        }
      ]
    },
    {
      "cell_type": "code",
      "source": [
        "#14.listeven.py\n",
        "\n",
        "a=[]\n",
        "n= int(input(\"Enter the number of elements : \"))\n",
        "print(\"Enter the elements : \")\n",
        "for i in range(0,n):\n",
        "\tk=int(input())\n",
        "\ta.append(k)\n",
        "for i in range(0,n):\n",
        "\tif a[i]%2==0:\n",
        "\t\tprint(a[i])"
      ],
      "metadata": {
        "id": "d5PU8TjIVntw",
        "colab": {
          "base_uri": "https://localhost:8080/"
        },
        "outputId": "4ec31181-4c68-4fdf-c812-487b2271c975"
      },
      "execution_count": null,
      "outputs": [
        {
          "output_type": "stream",
          "name": "stdout",
          "text": [
            "Enter the number of elements : 6\n",
            "Enter the elements : \n",
            "23\n",
            "65\n",
            "78\n",
            "88\n",
            "34\n",
            "16\n",
            "78\n",
            "88\n",
            "34\n",
            "16\n"
          ]
        }
      ]
    },
    {
      "cell_type": "code",
      "source": [
        "#15.listevensum.py\n",
        "\n",
        "a=[]\n",
        "n= int(input(\"Enter the number of elements : \"))\n",
        "print(\"Enter the elements : \")\n",
        "for i in range(0,n):\n",
        "\tk=int(input())\n",
        "\ta.append(k)\n",
        "s=0\n",
        "for i in range(0,n):\n",
        "\tif a[i]%2==0:\n",
        "\t\ts=s+a[i]\n",
        "print(\"sum is : \",s)"
      ],
      "metadata": {
        "id": "y30sEaHuVrS_",
        "colab": {
          "base_uri": "https://localhost:8080/"
        },
        "outputId": "86fd037d-8993-45db-be7a-795c970f41b3"
      },
      "execution_count": null,
      "outputs": [
        {
          "output_type": "stream",
          "name": "stdout",
          "text": [
            "Enter the number of elements : 6\n",
            "Enter the elements : \n",
            "12\n",
            "45\n",
            "34\n",
            "76\n",
            "89\n",
            "18\n",
            "sum is :  140\n"
          ]
        }
      ]
    },
    {
      "cell_type": "code",
      "source": [
        "#16.listinsert.py\n",
        "\n",
        "a=[]\n",
        "n= int(input(\"Enter the number of elements : \"))\n",
        "print(\"Enter the elements : \")\n",
        "for i in range(0,n):\n",
        "\tk=int(input())\n",
        "\ta.append(k)\n",
        "a.append(0)\n",
        "element=int(input(\"Enter the element to insert\"))\n",
        "index=int(input(\"Enter the index : \"))\n",
        "for i in range(n,index,-1):\n",
        "\ta[i]=a[i-1]\n",
        "a[index]=element\n",
        "print(\"List elements are : \")\n",
        "for i in range(0,n+1):\n",
        "\tprint(a[i])"
      ],
      "metadata": {
        "id": "vJTx3BZKVvOH",
        "colab": {
          "base_uri": "https://localhost:8080/"
        },
        "outputId": "53974cd9-1787-4f52-fd3b-5b7a44a0c752"
      },
      "execution_count": null,
      "outputs": [
        {
          "output_type": "stream",
          "name": "stdout",
          "text": [
            "Enter the number of elements : 5\n",
            "Enter the elements : \n",
            "14\n",
            "15\n",
            "63\n",
            "25\n",
            "89\n",
            "Enter the element to insert27\n",
            "Enter the index : 3\n",
            "List elements are : \n",
            "14\n",
            "15\n",
            "63\n",
            "27\n",
            "25\n",
            "89\n"
          ]
        }
      ]
    },
    {
      "cell_type": "code",
      "source": [
        "#17.listinsertfun.py\n",
        "\n",
        "\n",
        "a=[10,20,30,40,50,60,70]\n",
        "b=[41,42,43]\n",
        "a.insert(4,b)\n",
        "print(a)\n",
        "a.insert(6,65)\n",
        "print(a)\n",
        "print(len(a))"
      ],
      "metadata": {
        "id": "oQ4Exn-pVywJ",
        "colab": {
          "base_uri": "https://localhost:8080/"
        },
        "outputId": "0893cfb2-0426-447d-8482-7f421cb15665"
      },
      "execution_count": null,
      "outputs": [
        {
          "output_type": "stream",
          "name": "stdout",
          "text": [
            "[10, 20, 30, 40, [41, 42, 43], 50, 60, 70]\n",
            "[10, 20, 30, 40, [41, 42, 43], 50, 65, 60, 70]\n",
            "9\n"
          ]
        }
      ]
    },
    {
      "cell_type": "code",
      "source": [
        "#18.listinsertlist.py\n",
        "\n",
        "a=[]\n",
        "n= int(input(\"Enter the number of elements in first list: \"))\n",
        "print(\"Enter the elements : \")\n",
        "for i in range(0,n):\n",
        "\tk=int(input())\n",
        "\ta.append(k)\n",
        "b=[]\n",
        "m= int(input(\"Enter the number of elements in second list : \"))\n",
        "print(\"Enter the elements : \")\n",
        "for i in range(0,m):\n",
        "\tk=int(input())\n",
        "\tb.append(k)\n",
        "\ta.append(0)\n",
        "index=int(input(\"Enter the index : \"))\n",
        "for i in range(n-1,index-1,-1):\n",
        "\ta[i+m]=a[i]\n",
        "for i in range(0,m):\n",
        "\ta[index+i]=b[i]\n",
        "print(\"List elements are : \")\n",
        "for i in range(0,m+n):\n",
        "\tprint(a[i])"
      ],
      "metadata": {
        "id": "c6_gBELSV2vE",
        "colab": {
          "base_uri": "https://localhost:8080/"
        },
        "outputId": "69db216b-bbdd-433d-f762-a493e9425812"
      },
      "execution_count": null,
      "outputs": [
        {
          "output_type": "stream",
          "name": "stdout",
          "text": [
            "Enter the number of elements in first list: 5\n",
            "Enter the elements : \n",
            "28\n",
            "26\n",
            "25\n",
            "33\n",
            "31\n",
            "Enter the number of elements in second list : 5\n",
            "Enter the elements : \n",
            "41\n",
            "42\n",
            "43\n",
            "44\n",
            "45\n",
            "Enter the index : 2\n",
            "List elements are : \n",
            "28\n",
            "26\n",
            "41\n",
            "42\n",
            "43\n",
            "44\n",
            "45\n",
            "25\n",
            "33\n",
            "31\n"
          ]
        }
      ]
    },
    {
      "cell_type": "code",
      "source": [
        "#19.listndelete.py\n",
        "\n",
        "a=[]\n",
        "n= int(input(\"Enter the number of elements : \"))\n",
        "print(\"Enter the elements : \")\n",
        "for i in range(0,n):\n",
        "\tk=int(input())\n",
        "\ta.append(k)\n",
        "index=int(input(\"Enter the index : \"))\n",
        "dn=int(input(\"Enter the number of elements to be deleted : \"))\n",
        "for i in range(index+dn,n):\n",
        "\ta[i-dn]=a[i]\n",
        "n=n-dn\n",
        "print(\"List elements are : \")\n",
        "for i in range(0,n):\n",
        "\tprint(a[i])"
      ],
      "metadata": {
        "id": "rEpFltQjV6YV",
        "colab": {
          "base_uri": "https://localhost:8080/"
        },
        "outputId": "4604c480-747c-4bf9-ed46-55c371e80780"
      },
      "execution_count": null,
      "outputs": [
        {
          "output_type": "stream",
          "name": "stdout",
          "text": [
            "Enter the number of elements : 5\n",
            "Enter the elements : \n",
            "1\n",
            "2\n",
            "3\n",
            "4\n",
            "5\n",
            "Enter the index : 1\n",
            "Enter the number of elements to be deleted : 2\n",
            "List elements are : \n",
            "1\n",
            "4\n",
            "5\n"
          ]
        }
      ]
    },
    {
      "cell_type": "code",
      "source": [
        "3#20.listoddeven.py\n",
        "\n",
        "a=[]\n",
        "n= int(input(\"Enter the number of elements : \"))\n",
        "print(\"Enter the elements : \")\n",
        "for i in range(0,n):\n",
        "\tk=int(input())\n",
        "\ta.append(k)\n",
        "print(\"List elements are : \")\n",
        "for i in range(0,n):\n",
        "\tprint(a[i])\n",
        "odd=[]\n",
        "even=[]\n",
        "for i in range(0,n):\n",
        "\tif a[i]%2==0:\n",
        "\t\teven.append(a[i])\n",
        "\telse:\n",
        "\t\todd.append(a[i])\n",
        "print(\"EVEN LIST\")\n",
        "for x in even:\n",
        "\tprint(x)\n",
        "print(\"ODD LIST\")\n",
        "for x in odd:\n",
        "\tprint(x)"
      ],
      "metadata": {
        "id": "EJFzveS1V_YK",
        "colab": {
          "base_uri": "https://localhost:8080/"
        },
        "outputId": "680fea38-951c-4796-9c0d-c0bd9dd7f52b"
      },
      "execution_count": null,
      "outputs": [
        {
          "output_type": "stream",
          "name": "stdout",
          "text": [
            "Enter the number of elements : 8\n",
            "Enter the elements : \n",
            "1\n",
            "2\n",
            "3\n",
            "4\n",
            "5\n",
            "6\n",
            "7\n",
            "8\n",
            "List elements are : \n",
            "1\n",
            "2\n",
            "3\n",
            "4\n",
            "5\n",
            "6\n",
            "7\n",
            "8\n",
            "EVEN LIST\n",
            "2\n",
            "4\n",
            "6\n",
            "8\n",
            "ODD LIST\n",
            "1\n",
            "3\n",
            "5\n",
            "7\n"
          ]
        }
      ]
    },
    {
      "cell_type": "code",
      "source": [
        "#21.a=[]\n",
        "n= int(input(\"Enter the number of elements : \"))\n",
        "print(\"Enter the elements : \")\n",
        "for i in range(0,n):\n",
        "\tk=int(input())\n",
        "\ta.append(k)\n",
        "s=0\n",
        "for i in range(0,n):\n",
        "\tif a[i]%2!=0:\n",
        "\t\ts=s+a[i]\n",
        "print(\"sum is : \",s)"
      ],
      "metadata": {
        "id": "-hevU7NJWDdO",
        "colab": {
          "base_uri": "https://localhost:8080/"
        },
        "outputId": "f988e5a6-0d53-4955-a03d-32c60cc624c1"
      },
      "execution_count": null,
      "outputs": [
        {
          "output_type": "stream",
          "name": "stdout",
          "text": [
            "Enter the number of elements : 5\n",
            "Enter the elements : \n",
            "2\n",
            "6\n",
            "8\n",
            "9\n",
            "3\n",
            "sum is :  9\n"
          ]
        }
      ]
    },
    {
      "cell_type": "code",
      "source": [
        "#22.listprime.py\n",
        "\n",
        "a=[]\n",
        "n= int(input(\"Enter the number of elements : \"))\n",
        "print(\"Enter the elements : \")\n",
        "for i in range(0,n):\n",
        "\tk=int(input())\n",
        "\ta.append(k)\n",
        "print(\"prime numbers are : \")\n",
        "for i in range(0,n):\n",
        "\tif a[i]==1:\n",
        "\t\tcontinue\n",
        "\tfor j in range(2,a[i]):\n",
        "\t\tif a[i]%j==0:\n",
        "\t\t\tbreak\n",
        "\telse:\n",
        "\t\tprint(a[i])"
      ],
      "metadata": {
        "id": "T84dAiygWHgK",
        "colab": {
          "base_uri": "https://localhost:8080/"
        },
        "outputId": "a4b7d803-c492-4ab6-ecef-07eb042e1877"
      },
      "execution_count": null,
      "outputs": [
        {
          "output_type": "stream",
          "name": "stdout",
          "text": [
            "Enter the number of elements : 7\n",
            "Enter the elements : \n",
            "2\n",
            "3\n",
            "4\n",
            "5\n",
            "6\n",
            "7\n",
            "8\n",
            "prime numbers are : \n",
            "2\n",
            "3\n",
            "5\n",
            "7\n"
          ]
        }
      ]
    },
    {
      "cell_type": "code",
      "source": [
        "#23.listreverse.py\n",
        "a=[]\n",
        "n= int(input(\"Enter the number of elements : \"))\n",
        "print(\"Enter the elements : \")\n",
        "for i in range(0,n):\n",
        "\tk=int(input())\n",
        "\ta.append(k)\n",
        "for i in range(0,n//2):\n",
        "\tt=a[i]\n",
        "\ta[i]=a[n-i-1]\n",
        "\ta[n-i-1]=t\n",
        "print(\"List elements are : \")\n",
        "for i in range(0,n):\n",
        "\tprint(a[i])"
      ],
      "metadata": {
        "id": "Jgl77ArZWKbc",
        "colab": {
          "base_uri": "https://localhost:8080/"
        },
        "outputId": "0e9cd50e-fa8a-4f31-b172-6f91c848d595"
      },
      "execution_count": null,
      "outputs": [
        {
          "output_type": "stream",
          "name": "stdout",
          "text": [
            "Enter the number of elements : 6\n",
            "Enter the elements : \n",
            "27\n",
            "98\n",
            "56\n",
            "83\n",
            "67\n",
            "99\n",
            "List elements are : \n",
            "99\n",
            "67\n",
            "83\n",
            "56\n",
            "98\n",
            "27\n"
          ]
        }
      ]
    },
    {
      "cell_type": "code",
      "source": [
        "#24.listsecbig.py\n",
        "\n",
        "a=[]\n",
        "n= int(input(\"Enter the number of elements : \"))\n",
        "print(\"Enter the elements : \")\n",
        "for i in range(0,n):\n",
        "\tk=int(input())\n",
        "\ta.append(k)\n",
        "big=a[0]\n",
        "for i in range(1,n):\n",
        "\tif a[i]>big:\n",
        "\t\tbig=a[i]\n",
        "i=0\n",
        "while (1):\n",
        "\tif a[i]!=big:\n",
        "\t\tsbig=a[i]\n",
        "\t\tbreak\n",
        "\ti+=1\n",
        "for i in range(i+1,n):\n",
        "\tif a[i]<big and a[i]>sbig:\n",
        "\t\tsbig=a[i]\n",
        "print(\"Biggest : \",big)\n",
        "print(\"2nd Biggest : \",sbig)"
      ],
      "metadata": {
        "id": "0z67w2z7WRY2",
        "colab": {
          "base_uri": "https://localhost:8080/"
        },
        "outputId": "bd405b15-a22f-45a6-ea13-b0cd7f8937dd"
      },
      "execution_count": null,
      "outputs": [
        {
          "output_type": "stream",
          "name": "stdout",
          "text": [
            "Enter the number of elements : 5\n",
            "Enter the elements : \n",
            "45\n",
            "64\n",
            "38\n",
            "29\n",
            "61\n",
            "Biggest :  64\n",
            "2nd Biggest :  61\n"
          ]
        }
      ]
    },
    {
      "cell_type": "code",
      "source": [
        "#25.nesteddict.py\n",
        "\n",
        "student1={\"name\":\"arfan\",\"place\":\"Manacaud\",\"Blood Group\":\"O+\"}\n",
        "\n",
        "student2={\"name\":\"Jovan\",\"place\":\"Kollam\",\"Blood Group\":\"O+\"}\n",
        "\n",
        "student3={\"name\":\"Divya\",\"place\":\"palayam\",\"Blood Group\":\"A+\"}\n",
        "\n",
        "oneteam={\"intern1\":student1,\"intern2\":student2,\"intern3\":student3}\n",
        "\n",
        "or\n",
        "\n",
        "oneteam={\"intern1\":{\"name\":\"arfan\",\"place\":\"Manacaud\",\"Blood Group\":\"O+\"},\"intern2\":{\"name\":\"Jovan\",\"place\":\"Kollam\",\"Blood Group\":\"O+\"},\"intern3\":{\"name\":\"Divya\",\"place\":\"palayam\",\"Blood Group\":\"A+\"}}\n",
        "\n"
      ],
      "metadata": {
        "id": "_j6bcBqVWV8A",
        "colab": {
          "base_uri": "https://localhost:8080/",
          "height": 140
        },
        "outputId": "5c5b2d23-301b-4348-f859-f7d96ab4fc35"
      },
      "execution_count": null,
      "outputs": [
        {
          "output_type": "error",
          "ename": "SyntaxError",
          "evalue": "ignored",
          "traceback": [
            "\u001b[0;36m  File \u001b[0;32m\"<ipython-input-17-6c5aaada9ff7>\"\u001b[0;36m, line \u001b[0;32m11\u001b[0m\n\u001b[0;31m    or\u001b[0m\n\u001b[0m    ^\u001b[0m\n\u001b[0;31mSyntaxError\u001b[0m\u001b[0;31m:\u001b[0m invalid syntax\n"
          ]
        }
      ]
    },
    {
      "cell_type": "code",
      "source": [
        "#python-ex-part 3\n",
        "#1.palindromefun.py\n",
        "\n",
        "def reverse(n):\n",
        "\trev=0\n",
        "\twhile n!=0:\n",
        "\t\td=n%10\n",
        "\t\trev=(rev*10)+d\n",
        "\t\tn=n//10\n",
        "\treturn rev\n",
        "no=int(input(\"Enter a number : \"))\n",
        "r=reverse(no)\n",
        "if no==r:\n",
        "\tprint(\"Palindrome\")\n",
        "else:\n",
        "\tprint(\"Not a palindrome\")"
      ],
      "metadata": {
        "colab": {
          "base_uri": "https://localhost:8080/"
        },
        "id": "TVfms9-w7R0m",
        "outputId": "7e132f61-5488-474d-9915-a115f2edbd7e"
      },
      "execution_count": null,
      "outputs": [
        {
          "output_type": "stream",
          "name": "stdout",
          "text": [
            "Enter a number : 123321\n",
            "Palindrome\n"
          ]
        }
      ]
    },
    {
      "cell_type": "code",
      "source": [
        "#2.quadeqifelse.py\n",
        "\n",
        "a=int(input(\"Enter the coefficient of x^2 term : \"))\n",
        "b=int(input(\"Enter the coefficient of x term : \"))\n",
        "c=int(input(\"Enter the constant term : \"))\n",
        "x=b**2-(4*a*c)\n",
        "if x>=0:\n",
        "\tprint(\"Roots are real\")\n",
        "else:\n",
        "\tprint(\"Roots are Imaginary\")"
      ],
      "metadata": {
        "colab": {
          "base_uri": "https://localhost:8080/"
        },
        "id": "OaJmENR87d9s",
        "outputId": "fb34f044-900d-4101-fa84-7a7397f53d5d"
      },
      "execution_count": null,
      "outputs": [
        {
          "output_type": "stream",
          "name": "stdout",
          "text": [
            "Enter the coefficient of x^2 term : 1\n",
            "Enter the coefficient of x term : 2\n",
            "Enter the constant term : 3\n",
            "Roots are Imaginary\n"
          ]
        }
      ]
    },
    {
      "cell_type": "code",
      "source": [
        "#3.quadeqsimif.py\n",
        "\n",
        "a=int(input(\"Enter the coefficient of x^2 term : \"))\n",
        "b=int(input(\"Enter the coefficient of x term : \"))\n",
        "c=int(input(\"Enter the constant term : \"))\n",
        "x=b**2-(4*a*c)\n",
        "roots=\"Imaginary\"\n",
        "if x>=0:\n",
        "\troots=\"Real\"\n",
        "print(\"Roots are \",roots)"
      ],
      "metadata": {
        "colab": {
          "base_uri": "https://localhost:8080/"
        },
        "id": "o4lUQyG97jdX",
        "outputId": "6c602939-193e-4339-9453-70d566db8538"
      },
      "execution_count": null,
      "outputs": [
        {
          "output_type": "stream",
          "name": "stdout",
          "text": [
            "Enter the coefficient of x^2 term : 5\n",
            "Enter the coefficient of x term : 4\n",
            "Enter the constant term : 1\n",
            "Roots are  Imaginary\n"
          ]
        }
      ]
    },
    {
      "cell_type": "code",
      "source": [
        "#4.reversefun.py\n",
        "\n",
        "def reverse(n):\n",
        "\trev=0\n",
        "\twhile n!=0:\n",
        "\t\td=n%10\n",
        "\t\trev=(rev*10)+d\n",
        "\t\tn=n//10\n",
        "\treturn rev\n",
        "n=int(input(\"Enter a number : \"))\n",
        "#r=reverse(n)\n",
        "print(\"Reverse of \",n,\" is \",reverse(n))"
      ],
      "metadata": {
        "colab": {
          "base_uri": "https://localhost:8080/"
        },
        "id": "Uh8Mz2Js7nyG",
        "outputId": "56e849ad-30ce-424b-b5bb-481b88c570f0"
      },
      "execution_count": null,
      "outputs": [
        {
          "output_type": "stream",
          "name": "stdout",
          "text": [
            "Enter a number : 1234\n",
            "Reverse of  1234  is  4321\n"
          ]
        }
      ]
    },
    {
      "cell_type": "code",
      "source": [
        "#5.righttriangle.py\n",
        "\n",
        "a=int(input(\"Enter the measurement of 1st side\"))\n",
        "b=int(input(\"Enter the measurement of 2nd side\"))\n",
        "c=int(input(\"Enter the measurement of 3rd side\"))\n",
        "if a**2==b**2+c**2 or b**2==a**2+c**2 or c**2==a**2+b**2:\n",
        "\tprint(\"Right traingle\")\n",
        "else:\n",
        "\tprint(\"Not a right triangle\")"
      ],
      "metadata": {
        "colab": {
          "base_uri": "https://localhost:8080/"
        },
        "id": "mOnEGH367skr",
        "outputId": "1f753e76-762f-4e86-a355-1177573083c8"
      },
      "execution_count": null,
      "outputs": [
        {
          "output_type": "stream",
          "name": "stdout",
          "text": [
            "Enter the measurement of 1st side2\n",
            "Enter the measurement of 2nd side4\n",
            "Enter the measurement of 3rd side6\n",
            "Not a right triangle\n"
          ]
        }
      ]
    },
    {
      "cell_type": "code",
      "source": [
        "#6.amstrong.py\n",
        "\n",
        "n=input(\"Enter a number : \")\n",
        "l=len(n)\n",
        "n=int(n)\n",
        "s=0\n",
        "t=n\n",
        "while n!=0:\n",
        "\td=n%10\n",
        "\ts=s+d**l\n",
        "\tn=n//10\n",
        "if t==s:\n",
        "\tprint(\"Amstrong\")\n",
        "else:\n",
        "\tprint(\"Not an amstrong\")"
      ],
      "metadata": {
        "colab": {
          "base_uri": "https://localhost:8080/"
        },
        "id": "3IaEnfVM7wcD",
        "outputId": "9c1b4692-0ce3-4c74-ead7-7cfb66104fee"
      },
      "execution_count": null,
      "outputs": [
        {
          "output_type": "stream",
          "name": "stdout",
          "text": [
            "Enter a number : 153\n",
            "Amstrong\n"
          ]
        }
      ]
    },
    {
      "cell_type": "code",
      "source": [
        "#7.b2d.py\n",
        "\n",
        "b=int(input(\"Enter the binary number : \"))\n",
        "d=0\n",
        "i=0\n",
        "while b!=0:\n",
        "\tdig=b%10\n",
        "\td=d+(dig*(2**i))\n",
        "\ti=i+1\n",
        "\tb=b//10\n",
        "print(\"Decimal equalent is \",d)"
      ],
      "metadata": {
        "colab": {
          "base_uri": "https://localhost:8080/"
        },
        "id": "8o5fCkPm716f",
        "outputId": "be177309-e701-4cc9-dd73-a28966db3932"
      },
      "execution_count": null,
      "outputs": [
        {
          "output_type": "stream",
          "name": "stdout",
          "text": [
            "Enter the binary number : 45\n",
            "Decimal equalent is  13\n"
          ]
        }
      ]
    },
    {
      "cell_type": "code",
      "source": [
        "#8.bigdigit.py\n",
        "\n",
        "n=int(input(\"Enter a number : \"))\n",
        "bd=0\n",
        "while n!=0:\n",
        "\td=n%10\n",
        "\tif d>bd:\n",
        "\t\tbd=d\n",
        "\tn=n//10\n",
        "print(\"greatest digit \",bd\n",
        ")"
      ],
      "metadata": {
        "colab": {
          "base_uri": "https://localhost:8080/"
        },
        "id": "OYes8iyP76Yd",
        "outputId": "d6107041-3dea-4641-9bf2-0223a58d07e4"
      },
      "execution_count": null,
      "outputs": [
        {
          "output_type": "stream",
          "name": "stdout",
          "text": [
            "Enter a number : 76398\n",
            "greatest digit  9\n"
          ]
        }
      ]
    },
    {
      "cell_type": "code",
      "source": [
        "#9.factorssumfor.py\n",
        "\n",
        "n=int(input(\"Enter the number : \"))\n",
        "s=0\n",
        "for i in range(1,n+1):\n",
        "\tif n%i==0:\n",
        "\t\ts=s+i\n",
        "print(\"Sum is \",s)"
      ],
      "metadata": {
        "colab": {
          "base_uri": "https://localhost:8080/"
        },
        "id": "-6liXfQ57-m9",
        "outputId": "36bfedb9-15a7-444b-fdda-b285ede806b0"
      },
      "execution_count": null,
      "outputs": [
        {
          "output_type": "stream",
          "name": "stdout",
          "text": [
            "Enter the number : 234\n",
            "Sum is  546\n"
          ]
        }
      ]
    },
    {
      "cell_type": "code",
      "source": [
        "#10.sumsingledigit.py\n",
        "\n",
        "n=int(input(\"Enter a number : \"))\n",
        "s=sum(int(i) for i in str(n))\n",
        "print(\"Single digit sum = \",s%9 if s%9 else 9)"
      ],
      "metadata": {
        "colab": {
          "base_uri": "https://localhost:8080/"
        },
        "id": "X07TzMHl8DKL",
        "outputId": "f82885fe-3346-4fc5-fb00-68a08716bb61"
      },
      "execution_count": null,
      "outputs": [
        {
          "output_type": "stream",
          "name": "stdout",
          "text": [
            "Enter a number : 56\n",
            "Single digit sum =  2\n"
          ]
        }
      ]
    },
    {
      "cell_type": "code",
      "source": [
        "#11.sumoddwhile.py\n",
        "\n",
        "n=int(input(\"Enter the limit \"))\n",
        "i=1\n",
        "s=0\n",
        "while i<=n:\n",
        "\ts=s+i\n",
        "\ti=i+2\n",
        "print(\"Sum is \",s)"
      ],
      "metadata": {
        "colab": {
          "base_uri": "https://localhost:8080/"
        },
        "id": "thl3g3Ip8HLs",
        "outputId": "62f4288b-ce8c-4436-fb94-4a11cff2a0e2"
      },
      "execution_count": null,
      "outputs": [
        {
          "output_type": "stream",
          "name": "stdout",
          "text": [
            "Enter the limit 10\n",
            "Sum is  25\n"
          ]
        }
      ]
    },
    {
      "cell_type": "code",
      "source": [
        "#12.sumnaturalfor.py\n",
        "\n",
        "n=int(input(\"Enter the limit\"))\n",
        "s=0\n",
        "for x in range(1,n+1):\n",
        "\ts=s+x\n",
        "print(\"Sum is \",s)"
      ],
      "metadata": {
        "colab": {
          "base_uri": "https://localhost:8080/"
        },
        "id": "VFm5sCZF8LPm",
        "outputId": "bf9099c3-98b8-456f-fbe6-f0a6eb8c8801"
      },
      "execution_count": null,
      "outputs": [
        {
          "output_type": "stream",
          "name": "stdout",
          "text": [
            "Enter the limit10\n",
            "Sum is  55\n"
          ]
        }
      ]
    },
    {
      "cell_type": "code",
      "source": [
        "#13.sumnaturalwhile.py\n",
        "\n",
        "n=int(input(\"Enter the limit : \"))\n",
        "i=1\n",
        "s=0\n",
        "while i<=n:\n",
        "\ts=s+i\n",
        "\ti=i+1\n",
        "print(\"Sum is \",s)"
      ],
      "metadata": {
        "colab": {
          "base_uri": "https://localhost:8080/"
        },
        "id": "kevJbw1f8PhB",
        "outputId": "c03f5c08-5554-4a6b-ddd0-65420d81f637"
      },
      "execution_count": null,
      "outputs": [
        {
          "output_type": "stream",
          "name": "stdout",
          "text": [
            "Enter the limit : 10\n",
            "Sum is  55\n"
          ]
        }
      ]
    },
    {
      "cell_type": "code",
      "source": [
        "#14.strongnumber.py\n",
        "\n",
        "n=int(input(\"Enter a number\"))\n",
        "temp=n\n",
        "sum=0\n",
        "while n!=0:\n",
        "\td=n%10\n",
        "\tfact=1\n",
        "\twhile d>1:\n",
        "\t\tfact*=d\n",
        "\t\td-=1\n",
        "\tsum+=fact\n",
        "\tn=n//10\n",
        "if sum==temp:\n",
        "\tprint(\"Strong number\")\n",
        "else:\n",
        "\tprint(\"Not a strong number\")"
      ],
      "metadata": {
        "colab": {
          "base_uri": "https://localhost:8080/"
        },
        "id": "EIBtg-0X8UiO",
        "outputId": "e59094d7-0d36-4b31-8a1a-3d69b650b68b"
      },
      "execution_count": null,
      "outputs": [
        {
          "output_type": "stream",
          "name": "stdout",
          "text": [
            "Enter a number145\n",
            "Strong number\n"
          ]
        }
      ]
    },
    {
      "cell_type": "code",
      "source": [
        "#15.spynumber.py\n",
        "\n",
        "n=int(input(\"Enter a number\"))\n",
        "sum=0\n",
        "product=1\n",
        "while n!=0:\n",
        "\td=n%10\n",
        "\tsum+=d\n",
        "\tproduct*=d\n",
        "\tn=n//10\n",
        "if sum==product:\n",
        "\tprint(\"Spy Number\")\n",
        "else:\n",
        "\tprint(\"Not a spy number\")"
      ],
      "metadata": {
        "colab": {
          "base_uri": "https://localhost:8080/"
        },
        "id": "RSBqIsTA8Yvw",
        "outputId": "b9b6fde3-1bac-4c01-d1af-ec7879a28d62"
      },
      "execution_count": null,
      "outputs": [
        {
          "output_type": "stream",
          "name": "stdout",
          "text": [
            "Enter a number22\n",
            "Spy Number\n"
          ]
        }
      ]
    },
    {
      "cell_type": "code",
      "source": [
        "#Recursion\n",
        "#Factorial\n",
        "def factorial(x):\n",
        "  if x==1:\n",
        "    return 1\n",
        "  else:\n",
        "    return (x * factorial(x-1))\n",
        "num=3\n",
        "print(\"The factorial of\",num,\"is\",factorial(num))"
      ],
      "metadata": {
        "colab": {
          "base_uri": "https://localhost:8080/"
        },
        "id": "jSn2p6IOilSH",
        "outputId": "544b22bd-dd07-47e0-b7a3-b8454725f09a"
      },
      "execution_count": null,
      "outputs": [
        {
          "output_type": "stream",
          "name": "stdout",
          "text": [
            "The factorial of 3 is 6\n"
          ]
        }
      ]
    }
  ],
  "metadata": {
    "colab": {
      "provenance": [],
      "authorship_tag": "ABX9TyPz6fSWaudXGcG7ekxseAAP",
      "include_colab_link": true
    },
    "kernelspec": {
      "display_name": "Python 3",
      "name": "python3"
    },
    "language_info": {
      "name": "python"
    }
  },
  "nbformat": 4,
  "nbformat_minor": 0
}