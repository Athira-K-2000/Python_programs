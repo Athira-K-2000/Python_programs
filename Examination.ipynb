{
  "nbformat": 4,
  "nbformat_minor": 0,
  "metadata": {
    "colab": {
      "provenance": [],
      "authorship_tag": "ABX9TyPuS5n3eEajVXkBnig5OnRh",
      "include_colab_link": true
    },
    "kernelspec": {
      "name": "python3",
      "display_name": "Python 3"
    },
    "language_info": {
      "name": "python"
    }
  },
  "cells": [
    {
      "cell_type": "markdown",
      "metadata": {
        "id": "view-in-github",
        "colab_type": "text"
      },
      "source": [
        "<a href=\"https://colab.research.google.com/github/Athira-K-2000/Python_programs/blob/main/Examination.ipynb\" target=\"_parent\"><img src=\"https://colab.research.google.com/assets/colab-badge.svg\" alt=\"Open In Colab\"/></a>"
      ]
    },
    {
      "cell_type": "code",
      "source": [
        "#Biggest number in the list\n",
        "my_list=[23,67,34,9]\n",
        "biggest=my_list[0]\n",
        "for i in my_list:\n",
        "  if i>biggest:\n",
        "    biggest=i\n",
        "print(\"original list :\",my_list)\n",
        "print(\"The biggest number is :\",biggest)\n",
        "#Second Biggest number in the list\n",
        "my_list.remove(biggest)\n",
        "sec_biggest=my_list[0]\n",
        "for i in my_list:\n",
        "  if i>sec_biggest:\n",
        "    sec_biggest=i\n",
        "print(\"The second biggest number is :\",sec_biggest)"
      ],
      "metadata": {
        "colab": {
          "base_uri": "https://localhost:8080/"
        },
        "id": "moqL2YmVpJGL",
        "outputId": "856f517d-420e-4b2c-fa18-6c378129d715"
      },
      "execution_count": null,
      "outputs": [
        {
          "output_type": "stream",
          "name": "stdout",
          "text": [
            "original list : [23, 67, 34, 9]\n",
            "The biggest number is : 67\n",
            "The second biggest number is : 34\n"
          ]
        }
      ]
    },
    {
      "cell_type": "code",
      "source": [
        "num=[10,15,20,25]\n",
        "i=0\n",
        "largest=second_lrg=third_lrg=num[i]\n",
        "while i<len(num):\n",
        "    if num[i]>largest:\n",
        "        third_lrg=second_lrg\n",
        "        second_lrg=largest\n",
        "        largest=num[i]\n",
        "    elif num[i]>second_lrg:\n",
        "        third_lrg=second_lrg\n",
        "        second_lrg = num[i]\n",
        "    elif num[i] > third_lrg:\n",
        "        third_lrg= num[i]\n",
        "    i += 1\n",
        "print(\"Third largest number of the list is\",third_lrg)"
      ],
      "metadata": {
        "id": "eKkwfLF_xAUs",
        "outputId": "d3adc866-2d10-4e83-bd96-c1f6233deec9",
        "colab": {
          "base_uri": "https://localhost:8080/"
        }
      },
      "execution_count": null,
      "outputs": [
        {
          "output_type": "stream",
          "name": "stdout",
          "text": [
            "Third largest number of the list is 15\n"
          ]
        }
      ]
    },
    {
      "cell_type": "code",
      "source": [
        "#2\n",
        "limit=int(input(\"Enter the limit:\"))\n",
        "my_list=[]\n",
        "\n",
        "for i in range(limit):\n",
        "  numbers=int(input(\"Enter the numbers:\"))\n",
        "  my_list.append(numbers)\n",
        "\n",
        "num=int(input(\"Enter the number to search:\"))\n",
        "\n",
        "print(\"Calculate the count\")\n",
        "count=0\n",
        "\n",
        "for numbers in my_list:\n",
        "  if(numbers==num):\n",
        "    count+=1\n",
        "print(num,\"comes from\",count,\"times\")\n"
      ],
      "metadata": {
        "colab": {
          "base_uri": "https://localhost:8080/"
        },
        "id": "SMBUwzH3hrJc",
        "outputId": "6127136a-88f9-4677-9084-f14a56ce26e4"
      },
      "execution_count": null,
      "outputs": [
        {
          "output_type": "stream",
          "name": "stdout",
          "text": [
            "Enter the limit:5\n",
            "Enter the numbers:12\n",
            "Enter the numbers:55\n",
            "Enter the numbers:33\n",
            "Enter the numbers:12\n",
            "Enter the numbers:4\n",
            "Enter the number to search:12\n",
            "Calculate the count\n",
            "12 comes from 2 times\n"
          ]
        }
      ]
    },
    {
      "cell_type": "code",
      "source": [
        "#How do you remove duplicate characters from a string\n",
        "my_string=input(\"Enter the string :\")\n",
        "duplicate=\"\"\n",
        "for i in my_string:\n",
        "  if i not in duplicate:\n",
        "    duplicate=duplicate+i\n",
        "print(\"String after removing duplicate characters :\",duplicate)"
      ],
      "metadata": {
        "id": "QRGqf7eSKXgN",
        "colab": {
          "base_uri": "https://localhost:8080/"
        },
        "outputId": "bddf5de6-5fc2-4db2-faf7-2518478118b0"
      },
      "execution_count": null,
      "outputs": [
        {
          "output_type": "stream",
          "name": "stdout",
          "text": [
            "Enter the string :Helloworld\n",
            "String after removing duplicate characters : Helowrd\n"
          ]
        }
      ]
    },
    {
      "cell_type": "code",
      "source": [
        "#Write a program to count the number of words in a sentence\n",
        "s=input(\"Enter the sentence :\")\n",
        "count=1\n",
        "for i in s:\n",
        "  if i==\" \":\n",
        "    count+=1\n",
        "print(\"Number of words in the sentence =\",count)"
      ],
      "metadata": {
        "id": "OVPkmmfoK92F",
        "colab": {
          "base_uri": "https://localhost:8080/"
        },
        "outputId": "5864b7bb-213d-4eb4-dec6-f3fa58db6edc"
      },
      "execution_count": null,
      "outputs": [
        {
          "output_type": "stream",
          "name": "stdout",
          "text": [
            "Enter the sentence :How are you\n",
            "Number of words in the sentence = 3\n"
          ]
        }
      ]
    },
    {
      "cell_type": "code",
      "source": [
        "#How do you find the intersection of two list\n",
        "list1=[1,2,4,6,7]\n",
        "list2=[3,4,5,9]\n",
        "list_1=set(list1)\n",
        "list_2=set(list2)\n",
        "intersection_set=list_1.intersection(list_2)\n",
        "intersection_list=list(intersection_set)\n",
        "print(intersection_list)"
      ],
      "metadata": {
        "id": "hd3NLuinLIpA",
        "colab": {
          "base_uri": "https://localhost:8080/"
        },
        "outputId": "ba651e8f-ab3c-4796-b8d1-911762019bba"
      },
      "execution_count": null,
      "outputs": [
        {
          "output_type": "stream",
          "name": "stdout",
          "text": [
            "[4]\n"
          ]
        }
      ]
    },
    {
      "cell_type": "code",
      "source": [
        "#Write a python program to find the sum of all elements in a list\n",
        "my_list=[]\n",
        "n=int(input(\"Enter the no. of elements in the list :\"))\n",
        "for i in range(0,n):\n",
        "  num=int(input())\n",
        "  my_list.append(num)\n",
        "print(my_list)\n",
        "sum=0\n",
        "for num in my_list:\n",
        " sum=sum+num\n",
        "print(\"Sum of list elements =\",sum)"
      ],
      "metadata": {
        "id": "x_lRaOncLPDJ",
        "colab": {
          "base_uri": "https://localhost:8080/"
        },
        "outputId": "b8bd5e0f-49c5-4342-e9fb-46874fccd2a0"
      },
      "execution_count": null,
      "outputs": [
        {
          "output_type": "stream",
          "name": "stdout",
          "text": [
            "Enter the no. of elements in the list :5\n",
            "1\n",
            "2\n",
            "3\n",
            "4\n",
            "5\n",
            "[1, 2, 3, 4, 5]\n",
            "Sum of list elements = 15\n"
          ]
        }
      ]
    },
    {
      "cell_type": "code",
      "source": [
        "#Write a python script to merge two dictionaries\n",
        "dict1={1:10,2:20,3:30}\n",
        "dict2={4:40,5:50}\n",
        "dict1.update(dict2)\n",
        "print(dict1)"
      ],
      "metadata": {
        "id": "KwbEBy_tLfDo",
        "colab": {
          "base_uri": "https://localhost:8080/"
        },
        "outputId": "6edc3020-5965-440d-dd9a-012823ea4ed5"
      },
      "execution_count": null,
      "outputs": [
        {
          "output_type": "stream",
          "name": "stdout",
          "text": [
            "{1: 10, 2: 20, 3: 30, 4: 40, 5: 50}\n"
          ]
        }
      ]
    }
  ]
}